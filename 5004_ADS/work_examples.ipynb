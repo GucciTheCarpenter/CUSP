{
 "cells": [
  {
   "cell_type": "code",
   "execution_count": 1,
   "metadata": {
    "collapsed": true
   },
   "outputs": [],
   "source": [
    "from pylab import *\n",
    "import scipy\n",
    "from scipy import stats\n",
    "import matplotlib.pyplot as plt\n",
    "import numpy as np\n",
    "import pandas"
   ]
  },
  {
   "cell_type": "code",
   "execution_count": 2,
   "metadata": {
    "collapsed": true
   },
   "outputs": [],
   "source": [
    "%matplotlib inline"
   ]
  },
  {
   "cell_type": "markdown",
   "metadata": {},
   "source": [
    "## Quick Rundown of Examlpes"
   ]
  },
  {
   "cell_type": "markdown",
   "metadata": {},
   "source": [
    "## 1. Stock Price Log Return v. Exchange"
   ]
  },
  {
   "cell_type": "code",
   "execution_count": 3,
   "metadata": {
    "collapsed": false
   },
   "outputs": [
    {
     "data": {
      "text/html": [
       "<div>\n",
       "<table border=\"1\" class=\"dataframe\">\n",
       "  <thead>\n",
       "    <tr style=\"text-align: right;\">\n",
       "      <th></th>\n",
       "      <th>Date</th>\n",
       "      <th>Open</th>\n",
       "      <th>High</th>\n",
       "      <th>Low</th>\n",
       "      <th>Close</th>\n",
       "      <th>Volume</th>\n",
       "      <th>Adj Close</th>\n",
       "    </tr>\n",
       "  </thead>\n",
       "  <tbody>\n",
       "    <tr>\n",
       "      <th>0</th>\n",
       "      <td>2009-12-31</td>\n",
       "      <td>57.580002</td>\n",
       "      <td>57.750000</td>\n",
       "      <td>56.930000</td>\n",
       "      <td>57.000000</td>\n",
       "      <td>10848800</td>\n",
       "      <td>24.040529</td>\n",
       "    </tr>\n",
       "    <tr>\n",
       "      <th>1</th>\n",
       "      <td>2009-12-30</td>\n",
       "      <td>57.740002</td>\n",
       "      <td>57.900002</td>\n",
       "      <td>57.480000</td>\n",
       "      <td>57.680000</td>\n",
       "      <td>9625200</td>\n",
       "      <td>24.327328</td>\n",
       "    </tr>\n",
       "    <tr>\n",
       "      <th>2</th>\n",
       "      <td>2009-12-29</td>\n",
       "      <td>57.450001</td>\n",
       "      <td>57.970001</td>\n",
       "      <td>57.450001</td>\n",
       "      <td>57.740002</td>\n",
       "      <td>9551000</td>\n",
       "      <td>24.352634</td>\n",
       "    </tr>\n",
       "    <tr>\n",
       "      <th>3</th>\n",
       "      <td>2009-12-28</td>\n",
       "      <td>57.410000</td>\n",
       "      <td>57.580002</td>\n",
       "      <td>57.279999</td>\n",
       "      <td>57.439999</td>\n",
       "      <td>7679600</td>\n",
       "      <td>24.226104</td>\n",
       "    </tr>\n",
       "    <tr>\n",
       "      <th>4</th>\n",
       "      <td>2009-12-24</td>\n",
       "      <td>57.490002</td>\n",
       "      <td>57.509998</td>\n",
       "      <td>57.049999</td>\n",
       "      <td>57.439999</td>\n",
       "      <td>5814200</td>\n",
       "      <td>24.226104</td>\n",
       "    </tr>\n",
       "  </tbody>\n",
       "</table>\n",
       "</div>"
      ],
      "text/plain": [
       "         Date       Open       High        Low      Close    Volume  Adj Close\n",
       "0  2009-12-31  57.580002  57.750000  56.930000  57.000000  10848800  24.040529\n",
       "1  2009-12-30  57.740002  57.900002  57.480000  57.680000   9625200  24.327328\n",
       "2  2009-12-29  57.450001  57.970001  57.450001  57.740002   9551000  24.352634\n",
       "3  2009-12-28  57.410000  57.580002  57.279999  57.439999   7679600  24.226104\n",
       "4  2009-12-24  57.490002  57.509998  57.049999  57.439999   5814200  24.226104"
      ]
     },
     "execution_count": 3,
     "metadata": {},
     "output_type": "execute_result"
    }
   ],
   "source": [
    "# Coca-Cola stock for 01-Jan-2000 to 31-Dec-2009\n",
    "df_KO = pandas.read_csv('work_data/table_KO.csv', index_col=False, header=0)\n",
    "df_KO.head()"
   ]
  },
  {
   "cell_type": "code",
   "execution_count": 4,
   "metadata": {
    "collapsed": false
   },
   "outputs": [
    {
     "data": {
      "text/html": [
       "<div>\n",
       "<table border=\"1\" class=\"dataframe\">\n",
       "  <thead>\n",
       "    <tr style=\"text-align: right;\">\n",
       "      <th></th>\n",
       "      <th>Date</th>\n",
       "      <th>Close</th>\n",
       "    </tr>\n",
       "  </thead>\n",
       "  <tbody>\n",
       "    <tr>\n",
       "      <th>0</th>\n",
       "      <td>2009-12-31</td>\n",
       "      <td>57.000000</td>\n",
       "    </tr>\n",
       "    <tr>\n",
       "      <th>1</th>\n",
       "      <td>2009-12-30</td>\n",
       "      <td>57.680000</td>\n",
       "    </tr>\n",
       "    <tr>\n",
       "      <th>2</th>\n",
       "      <td>2009-12-29</td>\n",
       "      <td>57.740002</td>\n",
       "    </tr>\n",
       "    <tr>\n",
       "      <th>3</th>\n",
       "      <td>2009-12-28</td>\n",
       "      <td>57.439999</td>\n",
       "    </tr>\n",
       "    <tr>\n",
       "      <th>4</th>\n",
       "      <td>2009-12-24</td>\n",
       "      <td>57.439999</td>\n",
       "    </tr>\n",
       "  </tbody>\n",
       "</table>\n",
       "</div>"
      ],
      "text/plain": [
       "         Date      Close\n",
       "0  2009-12-31  57.000000\n",
       "1  2009-12-30  57.680000\n",
       "2  2009-12-29  57.740002\n",
       "3  2009-12-28  57.439999\n",
       "4  2009-12-24  57.439999"
      ]
     },
     "execution_count": 4,
     "metadata": {},
     "output_type": "execute_result"
    }
   ],
   "source": [
    "df_KO_close = df_KO[['Date', 'Close']]\n",
    "df_KO_close.head()"
   ]
  },
  {
   "cell_type": "code",
   "execution_count": 5,
   "metadata": {
    "collapsed": false
   },
   "outputs": [
    {
     "data": {
      "text/plain": [
       "0         NaN\n",
       "1    0.011859\n",
       "2    0.001040\n",
       "3   -0.005209\n",
       "4    0.000000\n",
       "Name: Close, dtype: float64"
      ]
     },
     "execution_count": 5,
     "metadata": {},
     "output_type": "execute_result"
    }
   ],
   "source": [
    "# calculate the log returns of each series as the natural log of the ratio of (price today/price yesterday)\n",
    "returns_KO_log = log(df_KO['Close']/df_KO['Close'].shift(1))\n",
    "returns_KO_log.head()"
   ]
  },
  {
   "cell_type": "code",
   "execution_count": 6,
   "metadata": {
    "collapsed": false
   },
   "outputs": [
    {
     "data": {
      "text/plain": [
       "<matplotlib.axes._subplots.AxesSubplot at 0x15a84198>"
      ]
     },
     "execution_count": 6,
     "metadata": {},
     "output_type": "execute_result"
    },
    {
     "data": {
      "image/png": "[encoded data removed]",
      "text/plain": [
       "<matplotlib.figure.Figure at 0x15a84e80>"
      ]
     },
     "metadata": {},
     "output_type": "display_data"
    }
   ],
   "source": [
    "# generate a histogram of log returns of the stock\n",
    "plt.figure()\n",
    "\n",
    "returns_KO_log.diff().hist(bins=100)"
   ]
  },
  {
   "cell_type": "code",
   "execution_count": 7,
   "metadata": {
    "collapsed": false
   },
   "outputs": [
    {
     "data": {
      "text/plain": [
       "0         NaN\n",
       "1    0.007803\n",
       "2    0.001511\n",
       "3    0.001247\n",
       "4   -0.000860\n",
       "Name: Close, dtype: float64"
      ]
     },
     "execution_count": 7,
     "metadata": {},
     "output_type": "execute_result"
    }
   ],
   "source": [
    "# upload NYSE for 01-Jan-2000 to 31-Dec-2009\n",
    "# with similar log transformations as above\n",
    "df_NYSE = pandas.read_csv('work_data/table_NYSE.csv', index_col=False, header=0)\n",
    "returns_NYSE_log = log(df_NYSE['Close']/df_NYSE['Close'].shift(1))\n",
    "returns_NYSE_log.head()"
   ]
  },
  {
   "cell_type": "code",
   "execution_count": 8,
   "metadata": {
    "collapsed": false
   },
   "outputs": [
    {
     "data": {
      "text/plain": [
       "<matplotlib.text.Text at 0x15a84080>"
      ]
     },
     "execution_count": 8,
     "metadata": {},
     "output_type": "execute_result"
    },
    {
     "data": {
      "image/png": "[encoded data removed]",
      "text/plain": [
       "<matplotlib.figure.Figure at 0x1771add8>"
      ]
     },
     "metadata": {},
     "output_type": "display_data"
    }
   ],
   "source": [
    "# generate a scatterplot that relates the log returns of stock to exchange\n",
    "plt.scatter(returns_KO_log, returns_NYSE_log)\n",
    "plt.xlabel(\"Coca-Cola Log Returns\")\n",
    "plt.ylabel(\"NYSE Log Returns\")"
   ]
  },
  {
   "cell_type": "markdown",
   "metadata": {},
   "source": [
    "## 2. Regress Summary Email Attribute Against Spam Label"
   ]
  },
  {
   "cell_type": "code",
   "execution_count": 9,
   "metadata": {
    "collapsed": false
   },
   "outputs": [
    {
     "data": {
      "text/html": [
       "<div>\n",
       "<table border=\"1\" class=\"dataframe\">\n",
       "  <thead>\n",
       "    <tr style=\"text-align: right;\">\n",
       "      <th></th>\n",
       "      <th>d</th>\n",
       "      <th>x1</th>\n",
       "    </tr>\n",
       "  </thead>\n",
       "  <tbody>\n",
       "    <tr>\n",
       "      <th>0</th>\n",
       "      <td>1</td>\n",
       "      <td>0.805740</td>\n",
       "    </tr>\n",
       "    <tr>\n",
       "      <th>1</th>\n",
       "      <td>0</td>\n",
       "      <td>0.660912</td>\n",
       "    </tr>\n",
       "    <tr>\n",
       "      <th>2</th>\n",
       "      <td>0</td>\n",
       "      <td>0.549764</td>\n",
       "    </tr>\n",
       "    <tr>\n",
       "      <th>3</th>\n",
       "      <td>1</td>\n",
       "      <td>0.716941</td>\n",
       "    </tr>\n",
       "    <tr>\n",
       "      <th>4</th>\n",
       "      <td>1</td>\n",
       "      <td>0.254751</td>\n",
       "    </tr>\n",
       "  </tbody>\n",
       "</table>\n",
       "</div>"
      ],
      "text/plain": [
       "   d        x1\n",
       "0  1  0.805740\n",
       "1  0  0.660912\n",
       "2  0  0.549764\n",
       "3  1  0.716941\n",
       "4  1  0.254751"
      ]
     },
     "execution_count": 9,
     "metadata": {},
     "output_type": "execute_result"
    }
   ],
   "source": [
    "# import Stata data to data frame\n",
    "df_train = pandas.io.stata.read_stata('work_data/train.dta', convert_dates=True)\n",
    "df_train.head()"
   ]
  },
  {
   "cell_type": "code",
   "execution_count": 10,
   "metadata": {
    "collapsed": false
   },
   "outputs": [
    {
     "data": {
      "text/html": [
       "<div>\n",
       "<table border=\"1\" class=\"dataframe\">\n",
       "  <thead>\n",
       "    <tr style=\"text-align: right;\">\n",
       "      <th></th>\n",
       "      <th>d</th>\n",
       "      <th>x1</th>\n",
       "    </tr>\n",
       "  </thead>\n",
       "  <tbody>\n",
       "    <tr>\n",
       "      <th>count</th>\n",
       "      <td>1000.00000</td>\n",
       "      <td>1000.000000</td>\n",
       "    </tr>\n",
       "    <tr>\n",
       "      <th>mean</th>\n",
       "      <td>0.47700</td>\n",
       "      <td>0.487376</td>\n",
       "    </tr>\n",
       "    <tr>\n",
       "      <th>std</th>\n",
       "      <td>0.49972</td>\n",
       "      <td>0.283345</td>\n",
       "    </tr>\n",
       "    <tr>\n",
       "      <th>min</th>\n",
       "      <td>0.00000</td>\n",
       "      <td>0.000286</td>\n",
       "    </tr>\n",
       "    <tr>\n",
       "      <th>25%</th>\n",
       "      <td>0.00000</td>\n",
       "      <td>0.249382</td>\n",
       "    </tr>\n",
       "    <tr>\n",
       "      <th>50%</th>\n",
       "      <td>0.00000</td>\n",
       "      <td>0.484645</td>\n",
       "    </tr>\n",
       "    <tr>\n",
       "      <th>75%</th>\n",
       "      <td>1.00000</td>\n",
       "      <td>0.732494</td>\n",
       "    </tr>\n",
       "    <tr>\n",
       "      <th>max</th>\n",
       "      <td>1.00000</td>\n",
       "      <td>0.999006</td>\n",
       "    </tr>\n",
       "  </tbody>\n",
       "</table>\n",
       "</div>"
      ],
      "text/plain": [
       "                d           x1\n",
       "count  1000.00000  1000.000000\n",
       "mean      0.47700     0.487376\n",
       "std       0.49972     0.283345\n",
       "min       0.00000     0.000286\n",
       "25%       0.00000     0.249382\n",
       "50%       0.00000     0.484645\n",
       "75%       1.00000     0.732494\n",
       "max       1.00000     0.999006"
      ]
     },
     "execution_count": 10,
     "metadata": {},
     "output_type": "execute_result"
    }
   ],
   "source": [
    "# summary statistics\n",
    "df_train.describe()"
   ]
  },
  {
   "cell_type": "code",
   "execution_count": 11,
   "metadata": {
    "collapsed": true
   },
   "outputs": [],
   "source": [
    "import statsmodels.api as sm"
   ]
  },
  {
   "cell_type": "code",
   "execution_count": 12,
   "metadata": {
    "collapsed": false
   },
   "outputs": [
    {
     "name": "stdout",
     "output_type": "stream",
     "text": [
      "                            OLS Regression Results                            \n",
      "==============================================================================\n",
      "Dep. Variable:                      d   R-squared:                       0.650\n",
      "Model:                            OLS   Adj. R-squared:                  0.650\n",
      "Method:                 Least Squares   F-statistic:                     1857.\n",
      "Date:                Wed, 23 Sep 2015   Prob (F-statistic):          4.06e-230\n",
      "Time:                        17:52:54   Log-Likelihood:                -523.57\n",
      "No. Observations:                1000   AIC:                             1049.\n",
      "Df Residuals:                     999   BIC:                             1054.\n",
      "Df Model:                           1                                         \n",
      "Covariance Type:            nonrobust                                         \n",
      "==============================================================================\n",
      "                 coef    std err          t      P>|t|      [95.0% Conf. Int.]\n",
      "------------------------------------------------------------------------------\n",
      "x1             0.9880      0.023     43.096      0.000         0.943     1.033\n",
      "==============================================================================\n",
      "Omnibus:                       40.081   Durbin-Watson:                   2.010\n",
      "Prob(Omnibus):                  0.000   Jarque-Bera (JB):               18.167\n",
      "Skew:                           0.063   Prob(JB):                     0.000114\n",
      "Kurtosis:                       2.352   Cond. No.                         1.00\n",
      "==============================================================================\n",
      "\n",
      "Warnings:\n",
      "[1] Standard Errors assume that the covariance matrix of the errors is correctly specified.\n"
     ]
    }
   ],
   "source": [
    "model = sm.OLS(df_train['d'], df_train['x1'])\n",
    "ols_result = model.fit()\n",
    "print (ols_result.summary())"
   ]
  },
  {
   "cell_type": "code",
   "execution_count": 13,
   "metadata": {
    "collapsed": false
   },
   "outputs": [
    {
     "name": "stdout",
     "output_type": "stream",
     "text": [
      "m = 1.01554222622; and b = -0.0179504831375\n"
     ]
    }
   ],
   "source": [
    "\n",
    "m,b = polyfit(df_train['x1'],df_train['d'],1)\n",
    "print 'm = ' + str(m) + '; and b = ' + str(b)"
   ]
  },
  {
   "cell_type": "code",
   "execution_count": 14,
   "metadata": {
    "collapsed": false
   },
   "outputs": [
    {
     "name": "stdout",
     "output_type": "stream",
     "text": [
      "Optimization terminated successfully.\n",
      "         Current function value: 0.661479\n",
      "         Iterations 4\n",
      "                           Logit Regression Results                           \n",
      "==============================================================================\n",
      "Dep. Variable:                      d   No. Observations:                 1000\n",
      "Model:                          Logit   Df Residuals:                      999\n",
      "Method:                           MLE   Df Model:                            0\n",
      "Date:                Wed, 23 Sep 2015   Pseudo R-squ.:                 0.04423\n",
      "Time:                        17:52:54   Log-Likelihood:                -661.48\n",
      "converged:                       True   LL-Null:                       -692.09\n",
      "                                        LLR p-value:                       nan\n",
      "==============================================================================\n",
      "                 coef    std err          z      P>|z|      [95.0% Conf. Int.]\n",
      "------------------------------------------------------------------------------\n",
      "x1             0.9199      0.119      7.726      0.000         0.687     1.153\n",
      "==============================================================================\n"
     ]
    }
   ],
   "source": [
    "logit = sm.Logit(df_train['d'], df_train['x1'])\n",
    "log_result = logit.fit()\n",
    "print log_result.summary()"
   ]
  },
  {
   "cell_type": "code",
   "execution_count": 15,
   "metadata": {
    "collapsed": false
   },
   "outputs": [
    {
     "data": {
      "text/plain": [
       "(array([  7.96077907e-01,   6.52986228e-01,   5.43170929e-01,\n",
       "          7.08343446e-01,   2.51695752e-01,   8.84110332e-01,\n",
       "          2.52738595e-01,   1.51903987e-01,   7.54569352e-01,\n",
       "          1.48779854e-01,   9.67224479e-01,   4.70555156e-01,\n",
       "          1.32998943e-01,   4.93817031e-01,   6.38561368e-01,\n",
       "          5.41788995e-01,   5.75780332e-01,   3.87396127e-01,\n",
       "          1.34099379e-01,   3.52603793e-01,   3.26711744e-01,\n",
       "          1.69533312e-01,   5.71674071e-02,   2.86504656e-01,\n",
       "          5.33915818e-01,   2.61976540e-01,   3.68067265e-01,\n",
       "          8.19111407e-01,   7.63208270e-01,   2.08912924e-01,\n",
       "          6.38485491e-01,   6.21959925e-01,   9.60464776e-01,\n",
       "          5.55406749e-01,   2.06282020e-01,   1.50573313e-01,\n",
       "          3.03044945e-01,   2.52217978e-01,   6.00618720e-01,\n",
       "          7.47483492e-01,   3.37398589e-01,   6.02561533e-01,\n",
       "          6.52767599e-01,   6.72402978e-01,   4.46870685e-01,\n",
       "          9.09730420e-02,   5.86927593e-01,   6.99023247e-01,\n",
       "          4.01352167e-01,   5.19960344e-01,   9.17024314e-01,\n",
       "          2.46995199e-03,   6.56429306e-02,   5.51105849e-02,\n",
       "          6.21177256e-02,   6.81400374e-02,   8.51274610e-01,\n",
       "          7.23605156e-01,   5.72975501e-02,   3.33334386e-01,\n",
       "          7.15343952e-01,   8.35177526e-02,   8.86769056e-01,\n",
       "          9.59951878e-02,   3.05668294e-01,   6.64813280e-01,\n",
       "          7.03135192e-01,   1.40681103e-01,   2.51874447e-01,\n",
       "          5.46515942e-01,   6.90588415e-01,   4.82884198e-01,\n",
       "          2.10630834e-01,   5.25853217e-01,   3.75063829e-02,\n",
       "          8.20377827e-01,   5.66486299e-01,   9.42955434e-01,\n",
       "          4.51372683e-01,   4.58590090e-02,   5.12980402e-01,\n",
       "          8.88481200e-01,   7.65501380e-01,   8.61737370e-01,\n",
       "          4.98918384e-01,   1.71310648e-01,   7.25275502e-02,\n",
       "          4.10577536e-01,   6.29708648e-01,   2.24384069e-02,\n",
       "          1.10991590e-01,   7.80860424e-01,   5.04738152e-01,\n",
       "          3.89825583e-01,   4.77533311e-01,   5.81229270e-01,\n",
       "          1.34997576e-01,   3.13021243e-01,   2.83498049e-01,\n",
       "          8.13378632e-01,   6.28803968e-01,   7.38736689e-01,\n",
       "          2.80082464e-01,   3.42304081e-01,   9.01437223e-01,\n",
       "          1.75710142e-01,   9.73035812e-01,   5.99167883e-01,\n",
       "          3.36820453e-01,   9.40194666e-01,   5.54165781e-01,\n",
       "          2.57910877e-01,   3.44870955e-01,   3.67632776e-01,\n",
       "          6.29548490e-01,   3.55857641e-01,   4.27287579e-01,\n",
       "          2.29599103e-01,   9.48557615e-01,   2.79410094e-01,\n",
       "          7.73737311e-01,   3.02504152e-02,   4.22926277e-01,\n",
       "          7.89938688e-01,   5.91808558e-01,   7.58141279e-01,\n",
       "          9.09697175e-01,   7.37334073e-01,   3.21052343e-01,\n",
       "          6.16975129e-01,   5.59715509e-01,   1.41476139e-01,\n",
       "          4.23890769e-01,   3.71000171e-01,   3.66541326e-01,\n",
       "          3.87971662e-02,   2.91877627e-01,   7.16839373e-01,\n",
       "          6.22107208e-01,   2.79169977e-01,   3.63980651e-01,\n",
       "          3.15249294e-01,   6.50328755e-01,   4.66216385e-01,\n",
       "          1.56945869e-01,   1.49524972e-01,   9.15509284e-01,\n",
       "          6.47560775e-01,   2.59481762e-02,   3.98506045e-01,\n",
       "          8.64063799e-01,   2.96338201e-01,   5.29068768e-01,\n",
       "          8.23655069e-01,   2.99601793e-01,   7.80447245e-01,\n",
       "          5.12929022e-01,   6.58268295e-03,   4.68433686e-02,\n",
       "          6.37818158e-01,   7.15729654e-01,   3.68891716e-01,\n",
       "          6.00381792e-01,   9.64295268e-01,   3.06785077e-01,\n",
       "          6.02725804e-01,   9.21314001e-01,   6.60581052e-01,\n",
       "          7.81158060e-02,   7.79985487e-01,   1.54052913e-01,\n",
       "          6.45233214e-01,   5.24220705e-01,   9.15122926e-01,\n",
       "          4.54709709e-01,   3.30644935e-01,   9.48248684e-01,\n",
       "          2.98510224e-01,   2.23179266e-01,   6.92542613e-01,\n",
       "          7.26373941e-02,   8.37574244e-01,   7.14781523e-01,\n",
       "          4.79919523e-01,   6.78606451e-01,   5.54494619e-01,\n",
       "          1.58155665e-01,   6.81335092e-01,   9.28500772e-01,\n",
       "          3.88269126e-01,   9.31039512e-01,   1.25988498e-01,\n",
       "          6.67324126e-01,   1.81780905e-01,   4.41941470e-01,\n",
       "          4.96373266e-01,   1.75811663e-01,   1.94725752e-01,\n",
       "          3.82582277e-01,   3.84156436e-01,   3.94825369e-01,\n",
       "          2.03829065e-01,   1.84761763e-01,   1.53623730e-01,\n",
       "          3.56468648e-01,   8.43716323e-01,   1.76734105e-01,\n",
       "          8.73033941e-01,   5.01027286e-01,   5.16580045e-01,\n",
       "          7.87623525e-01,   6.25371695e-01,   9.37800407e-01,\n",
       "          1.78125754e-01,   2.81378269e-01,   7.31433153e-01,\n",
       "          2.37129759e-02,   2.84461945e-01,   4.01520014e-01,\n",
       "          8.48961890e-01,   9.01702881e-01,   7.42940128e-01,\n",
       "          6.58736110e-01,   6.20699823e-01,   7.23374486e-01,\n",
       "          6.41965866e-01,   2.29457930e-01,   4.37603109e-02,\n",
       "          8.90680909e-01,   2.04308316e-01,   5.58096588e-01,\n",
       "          3.57681036e-01,   7.88366497e-01,   5.30542254e-01,\n",
       "          3.65416229e-01,   4.71346080e-01,   8.53326976e-01,\n",
       "          4.97741401e-02,   4.73718762e-01,   9.56358254e-01,\n",
       "          3.27430740e-02,   3.68722111e-01,   4.84824061e-01,\n",
       "          1.22571200e-01,   2.65685678e-01,   4.29711580e-01,\n",
       "          7.01538742e-01,   6.86438084e-01,   7.59118497e-01,\n",
       "          2.15694442e-01,   6.14114761e-01,   2.91901469e-01,\n",
       "          5.98366678e-01,   9.93662775e-02,   9.69552994e-01,\n",
       "          7.26126194e-01,   5.32593191e-01,   2.36634508e-01,\n",
       "          9.15131450e-01,   2.59357125e-01,   4.88131404e-01,\n",
       "          3.25908035e-01,   4.81844872e-01,   5.74709535e-01,\n",
       "          6.83159471e-01,   8.42919946e-02,   3.15185010e-01,\n",
       "          6.90337420e-01,   1.71508089e-01,   1.18169859e-01,\n",
       "          7.54059136e-01,   7.91153163e-02,   7.52907753e-01,\n",
       "          9.78017807e-01,   3.09482872e-01,   9.41731572e-01,\n",
       "          2.93334931e-01,   9.02192771e-01,   1.56370983e-01,\n",
       "          1.68064386e-01,   1.26414999e-01,   5.60633600e-01,\n",
       "          8.78184199e-01,   2.70245433e-01,   4.52267855e-01,\n",
       "          8.92462194e-01,   7.24025190e-01,   7.87527204e-01,\n",
       "          5.91196895e-01,   4.19829458e-01,   5.52062571e-01,\n",
       "          3.62569131e-02,   9.36116815e-01,   5.48683286e-01,\n",
       "          7.38542616e-01,   6.87690079e-01,   6.91786110e-01,\n",
       "          1.17098682e-01,   8.02915692e-01,   5.98592639e-01,\n",
       "          1.84287112e-02,   8.80744100e-01,   9.28070605e-01,\n",
       "          5.42304635e-01,   6.14573300e-01,   8.66334438e-01,\n",
       "          2.83881664e-01,   1.31212637e-01,   6.27833426e-01,\n",
       "          6.94837689e-01,   8.38410735e-01,   9.05554116e-01,\n",
       "          3.26226026e-01,   2.09211156e-01,   2.98848748e-01,\n",
       "          1.93199381e-01,   9.81265128e-01,   5.22822216e-02,\n",
       "          4.73404408e-01,   6.46880344e-02,   1.92302197e-01,\n",
       "          2.38539651e-01,   5.49919605e-01,   3.08066249e-01,\n",
       "          6.48562193e-01,   7.91599333e-01,   7.30934501e-01,\n",
       "          4.03120697e-01,   6.70649767e-01,   1.76496372e-01,\n",
       "          6.07171476e-01,   3.76305468e-02,   7.49376774e-01,\n",
       "          3.41275036e-01,   2.92799801e-01,   8.25421572e-01,\n",
       "          5.04785299e-01,   4.02926981e-01,   6.90082788e-01,\n",
       "          9.31634963e-01,   6.74453855e-01,   5.71548283e-01,\n",
       "          4.71084625e-01,   7.07896173e-01,   7.15754628e-01,\n",
       "          2.66684026e-01,   2.93759853e-01,   7.62740895e-02,\n",
       "          8.97676587e-01,   3.59478563e-01,   6.07805699e-02,\n",
       "          8.02814126e-01,   5.38013816e-01,   1.45353839e-01,\n",
       "          1.27174258e-01,   6.20088816e-01,   8.15955877e-01,\n",
       "          1.11483797e-01,   7.07219362e-01,   8.78475666e-01,\n",
       "          2.88550049e-01,   8.58511865e-01,   4.00597960e-01,\n",
       "          5.91495782e-02,   8.02719355e-01,   8.51805091e-01,\n",
       "          8.15553308e-01,   5.94923235e-02,   8.88968036e-02,\n",
       "          8.75323057e-01,   3.45263422e-01,   5.98709941e-01,\n",
       "          5.23440003e-01,   4.62972641e-01,   5.86184084e-01,\n",
       "          6.84191823e-01,   2.78747559e-01,   7.27644086e-01,\n",
       "          2.93697029e-01,   3.89815062e-01,   6.80447638e-01,\n",
       "          9.11223054e-01,   6.13213420e-01,   7.57739544e-01,\n",
       "          7.94511318e-01,   1.79151997e-01,   7.19721258e-01,\n",
       "          6.74969435e-01,   8.61054897e-01,   6.06848538e-01,\n",
       "          4.62382287e-01,   8.42863992e-02,   3.41394067e-01,\n",
       "          1.18377984e-01,   3.58128220e-01,   6.19619668e-01,\n",
       "          5.35437107e-01,   7.32599616e-01,   2.90003926e-01,\n",
       "          8.86465788e-01,   5.65903425e-01,   3.19613963e-01,\n",
       "          8.31327438e-01,   3.70516032e-01,   2.91259855e-01,\n",
       "          6.28160238e-01,   8.85880113e-01,   3.13492328e-01,\n",
       "          4.86900300e-01,   5.85781574e-01,   6.05716825e-01,\n",
       "          4.10947464e-02,   2.09049687e-01,   6.82080865e-01,\n",
       "          2.75803804e-01,   7.48884022e-01,   4.91857529e-01,\n",
       "          1.67689070e-01,   2.27941619e-03,   9.09851134e-01,\n",
       "          2.46113360e-01,   9.87026095e-01,   6.42633021e-01,\n",
       "          2.75637001e-01,   9.54131961e-01,   4.18252081e-01,\n",
       "          8.07279408e-01,   9.04889032e-02,   7.66012311e-01,\n",
       "          6.09289527e-01,   4.48016524e-01,   2.20594823e-01,\n",
       "          7.60659635e-01,   3.88344437e-01,   3.87078345e-01,\n",
       "          1.86712414e-01,   9.82514799e-01,   1.10014051e-01,\n",
       "          4.93851215e-01,   2.15600785e-02,   3.88380975e-01,\n",
       "          2.36825701e-02,   9.03941393e-01,   4.92927432e-01,\n",
       "          9.60435510e-01,   6.34861708e-01,   3.47276591e-02,\n",
       "          7.40625679e-01,   7.79746830e-01,   4.33289021e-01,\n",
       "          2.12931354e-02,   3.75398785e-01,   4.32920486e-01,\n",
       "          8.86778116e-01,   3.22591186e-01,   5.00995219e-02,\n",
       "          4.44229215e-01,   7.46546745e-01,   2.51670629e-01,\n",
       "          8.05503130e-01,   6.48377180e-01,   3.47906739e-01,\n",
       "          8.15035760e-01,   4.47190814e-02,   4.38957542e-01,\n",
       "          2.06204265e-01,   4.13105577e-01,   1.46878794e-01,\n",
       "          8.24395359e-01,   8.30621839e-01,   6.03283495e-02,\n",
       "          4.02320027e-01,   6.51687980e-01,   3.68222296e-01,\n",
       "          2.09745526e-01,   7.70772219e-01,   9.32040140e-02,\n",
       "          1.99114799e-01,   5.61256409e-01,   2.40670610e-02,\n",
       "          2.59682685e-01,   8.15137088e-01,   9.04397443e-02,\n",
       "          9.45455790e-01,   4.22488861e-02,   7.74570823e-01,\n",
       "          2.09924728e-01,   6.11183763e-01,   1.77192882e-01,\n",
       "          4.39749181e-01,   9.51392412e-01,   6.13096476e-01,\n",
       "          2.63450921e-01,   2.56369859e-01,   7.36024797e-01,\n",
       "          4.39252198e-01,   6.27014399e-01,   2.48713613e-01,\n",
       "          6.30405962e-01,   3.52567345e-01,   1.20837487e-01,\n",
       "          6.79647982e-01,   3.00500154e-01,   2.99993962e-01,\n",
       "          7.29020953e-01,   6.49854481e-01,   2.86581427e-01,\n",
       "          6.54606819e-01,   7.63801873e-01,   9.77184594e-01,\n",
       "          5.11593103e-01,   3.37923527e-01,   9.42839742e-01,\n",
       "          6.95557356e-01,   7.32818127e-01,   5.34427941e-01,\n",
       "          2.69829035e-01,   3.45446706e-01,   5.83373368e-01,\n",
       "          3.76869798e-01,   5.53122699e-01,   7.83453062e-02,\n",
       "          5.65635681e-01,   4.65472430e-01,   4.50712264e-01,\n",
       "          5.37912309e-01,   7.80144751e-01,   4.04606730e-01,\n",
       "          6.60810053e-01,   7.88465142e-01,   2.40390554e-01,\n",
       "          2.63457417e-01,   3.54874939e-01,   3.78048718e-02,\n",
       "          3.35442424e-01,   1.84633315e-01,   1.16055556e-01,\n",
       "          5.28524697e-01,   7.74611056e-01,   9.58371282e-01,\n",
       "          5.18519171e-02,   4.10342306e-01,   7.76629806e-01,\n",
       "          8.46650839e-01,   6.14023328e-01,   1.30188331e-01,\n",
       "          3.76800030e-01,   2.38403410e-01,   2.50652973e-02,\n",
       "          5.43258190e-01,   1.30758837e-01,   1.02179632e-01,\n",
       "          1.63427666e-01,   7.84859717e-01,   3.18555504e-01,\n",
       "          8.50678384e-01,   4.28032100e-01,   6.38637841e-01,\n",
       "          9.69392598e-01,   5.99486709e-01,   6.89772666e-01,\n",
       "          7.47015536e-01,   6.30391717e-01,   6.76835775e-01,\n",
       "          9.03349221e-01,   7.14772820e-01,   3.89349639e-01,\n",
       "          4.46046442e-01,   7.24672198e-01,   5.78642190e-01,\n",
       "          9.32228148e-01,   7.68503904e-01,   9.20553684e-01,\n",
       "          2.34258622e-01,   1.88584521e-01,   2.28572235e-01,\n",
       "          7.41020441e-01,   6.88130438e-01,   2.79393315e-01,\n",
       "          9.37560618e-01,   1.10901430e-01,   2.23670378e-01,\n",
       "          3.80045697e-02,   5.85680425e-01,   3.25260460e-01,\n",
       "          8.29603374e-01,   8.46234262e-01,   1.50696412e-01,\n",
       "          8.46473053e-02,   6.84143066e-01,   3.97973597e-01,\n",
       "          6.45173490e-01,   6.82004273e-01,   4.20677274e-01,\n",
       "          7.43668437e-01,   4.64944720e-01,   3.33931834e-01,\n",
       "          3.06156129e-02,   8.02221298e-01,   6.64057434e-02,\n",
       "          4.03173655e-01,   8.47734511e-01,   5.19005656e-01,\n",
       "          7.65177310e-01,   7.43762851e-01,   7.61369824e-01,\n",
       "          4.39841896e-01,   2.88667321e-01,   6.83940053e-01,\n",
       "          1.95780337e-01,   3.80895078e-01,   4.49978679e-01,\n",
       "          8.78207207e-01,   5.97415380e-02,   5.25035679e-01,\n",
       "          6.32506251e-01,   3.07758003e-01,   4.45051253e-01,\n",
       "          8.74601424e-01,   9.16936696e-01,   2.32895851e-01,\n",
       "          2.10853338e-01,   2.41210178e-01,   9.77212071e-01,\n",
       "          3.62230510e-01,   3.33268307e-02,   8.34702551e-01,\n",
       "          3.35267067e-01,   5.37575483e-01,   8.05548608e-01,\n",
       "          9.33825910e-01,   3.02646220e-01,   5.65644056e-02,\n",
       "          8.07179630e-01,   4.49254245e-01,   1.63221121e-01,\n",
       "          9.53701854e-01,   8.16375494e-01,   1.13187090e-01,\n",
       "          8.89237225e-01,   3.02935004e-01,   2.51890302e-01,\n",
       "          3.74673843e-01,   1.55409306e-01,   1.51533231e-01,\n",
       "          8.03808451e-01,   7.56101072e-01,   9.09351945e-01,\n",
       "          5.01688182e-01,   2.85989344e-01,   3.11965495e-01,\n",
       "          4.72459048e-02,   3.43595088e-01,   9.71960604e-01,\n",
       "          8.81357431e-01,   4.27748054e-01,   2.39651799e-01,\n",
       "          1.05357699e-01,   5.67785576e-02,   7.75264382e-01,\n",
       "          9.15805638e-01,   3.26609641e-01,   1.55070245e-01,\n",
       "          1.61612362e-01,   6.14691190e-02,   6.57253325e-01,\n",
       "          8.00946176e-01,   3.73772502e-01,   6.14606678e-01,\n",
       "          2.96982437e-01,   2.42437482e-01,   6.83984160e-01,\n",
       "          3.13987285e-02,   2.50073634e-02,   5.21971047e-01,\n",
       "          2.42871821e-01,   6.30586267e-01,   9.59504485e-01,\n",
       "          3.34308594e-01,   5.89456320e-01,   3.25307846e-01,\n",
       "          1.05715051e-01,   1.72444925e-01,   5.51530004e-01,\n",
       "          1.44675687e-01,   8.22459579e-01,   1.21174008e-01,\n",
       "          3.00542325e-01,   9.11599815e-01,   7.72537291e-01,\n",
       "          8.72184515e-01,   5.25085151e-01,   5.13280571e-01,\n",
       "          6.57593727e-01,   3.49358171e-01,   3.96332145e-01,\n",
       "          1.81332991e-01,   8.87789667e-01,   6.58300519e-01,\n",
       "          9.10960957e-02,   6.99840844e-01,   5.44841111e-01,\n",
       "          9.31478679e-01,   2.29338720e-01,   5.48783183e-01,\n",
       "          8.83674681e-01,   2.43198857e-01,   7.43311524e-01,\n",
       "          8.27677455e-03,   1.92965358e-01,   2.11367965e-01,\n",
       "          3.55265677e-01,   9.49814439e-01,   2.41412729e-01,\n",
       "          1.87281847e-01,   3.45421255e-01,   5.97705007e-01,\n",
       "          9.01127040e-01,   2.72721983e-02,   5.93327403e-01,\n",
       "          5.13413846e-02,   5.04469097e-01,   7.07767546e-01,\n",
       "          8.27410698e-01,   7.55649030e-01,   7.12984860e-01,\n",
       "          4.67023313e-01,   5.67148738e-02,   8.65068555e-01,\n",
       "          8.61172259e-01,   3.19377005e-01,   4.72717851e-01,\n",
       "          1.87554359e-01,   2.48628959e-01,   2.47376010e-01,\n",
       "          5.63718915e-01,   1.79997031e-02,   6.90186918e-02,\n",
       "          5.18940747e-01,   9.55771744e-01,   4.68212485e-01,\n",
       "          8.84357154e-01,   8.16460788e-01,   3.83655757e-01,\n",
       "          6.22968495e-01,   4.96477216e-01,   4.28828776e-01,\n",
       "          4.72990014e-02,   6.35009706e-01,   2.28153914e-01,\n",
       "          5.40791094e-01,   9.91893187e-02,   7.44401097e-01,\n",
       "          6.86572716e-02,   2.95962155e-01,   8.48651528e-01,\n",
       "          6.64304495e-01,   1.46168932e-01,   7.13482678e-01,\n",
       "          7.18421221e-01,   1.30375192e-01,   6.06485367e-01,\n",
       "          2.02083737e-01,   3.48202109e-01,   8.22719097e-01,\n",
       "          7.43558824e-01,   8.85626256e-01,   9.59993720e-01,\n",
       "          3.82950693e-01,   8.83354545e-02,   6.79663867e-02,\n",
       "          2.97734350e-01,   8.00463796e-01,   4.20287460e-01,\n",
       "          9.55277503e-01,   5.66091716e-01,   4.14023131e-01,\n",
       "          7.09994495e-01,   5.06195366e-01,   1.34720743e-01,\n",
       "          4.81847316e-01,   6.76924646e-01,   2.32207909e-01,\n",
       "          5.25864959e-01,   7.39209414e-01,   6.78488195e-01,\n",
       "          2.93033928e-01,   2.79793680e-01,   9.80421424e-01,\n",
       "          3.34492534e-01,   3.78073126e-01,   6.68422878e-01,\n",
       "          7.57098058e-03,   8.73416960e-01,   3.27396154e-01,\n",
       "          3.13664168e-01,   8.53270739e-02,   5.14194369e-02,\n",
       "          8.70946169e-01,   8.43418896e-01,   3.38618249e-01,\n",
       "          6.23399496e-01,   3.30878466e-01,   8.16016793e-02,\n",
       "          9.47230816e-01,   4.24822837e-01,   6.45328999e-01,\n",
       "          7.87904337e-02,   4.27093357e-02,   1.50349960e-01,\n",
       "          8.55865836e-01,   7.50359058e-01,   9.48176742e-01,\n",
       "          3.59548658e-01,   5.81948161e-01,   2.03770354e-01,\n",
       "          2.59662688e-01,   6.32160902e-01,   3.32759559e-01,\n",
       "          9.04749632e-01,   9.59221780e-01,   5.35886347e-01,\n",
       "          8.42274576e-02,   3.62623185e-01,   6.23213053e-01,\n",
       "          3.37631285e-01,   3.65428142e-02,   7.25421667e-01,\n",
       "          2.46484280e-01,   1.70332998e-01,   4.48448479e-01,\n",
       "          5.55342257e-01,   7.43844986e-01,   4.80872601e-01,\n",
       "          9.22368050e-01,   3.72382373e-01,   3.79631191e-01,\n",
       "          5.45672923e-02,   1.98991373e-01,   1.80440009e-01,\n",
       "          4.07402217e-01,   4.62811664e-02,   6.65808856e-01,\n",
       "          4.55574811e-01,   7.19955191e-02,   5.78907967e-01,\n",
       "          1.13250986e-01,   4.98647124e-01,   5.79120874e-01,\n",
       "          8.09536099e-01,   8.59313130e-01,   2.96684116e-01,\n",
       "          3.69856596e-01,   8.38013232e-01,   5.95782042e-01,\n",
       "          5.27046561e-01,   7.05952585e-01,   1.59227520e-01,\n",
       "          5.48158526e-01,   4.90172684e-01,   2.84543812e-01,\n",
       "          7.36749470e-01,   5.03122151e-01,   7.17518151e-01,\n",
       "          8.73617679e-02,   1.93413764e-01,   2.82912049e-04,\n",
       "          2.99876750e-01,   3.43821734e-01,   5.67190051e-01,\n",
       "          1.96400583e-02,   6.02362528e-02,   9.55125332e-01,\n",
       "          9.05348659e-01,   2.65572459e-01,   1.58977821e-01,\n",
       "          4.28304166e-01,   2.01418996e-01,   3.52088958e-01,\n",
       "          6.52394444e-02,   7.64304101e-01,   3.50485235e-01,\n",
       "          1.89807758e-01,   7.31555521e-01,   1.31513745e-01,\n",
       "          8.78991485e-01,   7.50771403e-01,   5.33400811e-02,\n",
       "          6.14929080e-01,   6.08418882e-01,   6.05971515e-01,\n",
       "          4.59928848e-02,   6.48422062e-01,   7.29313195e-01,\n",
       "          4.71277326e-01,   5.31205714e-01,   9.62850094e-01,\n",
       "          7.52839804e-01,   2.63421506e-01,   1.65986195e-01,\n",
       "          8.24772045e-02,   3.98563832e-01,   1.69881731e-01,\n",
       "          5.75101785e-02,   9.40328658e-01,   1.50198445e-01,\n",
       "          5.89582741e-01,   4.60444242e-01,   4.86752033e-01,\n",
       "          2.36477658e-01,   3.90986443e-01,   2.23110646e-01,\n",
       "          1.74068511e-01,   1.38895765e-01,   2.24525668e-02,\n",
       "          9.10017848e-01,   4.77747947e-01,   3.64105463e-01,\n",
       "          8.27052355e-01,   7.41463900e-01,   7.92156637e-01,\n",
       "          6.76525652e-01,   9.37644839e-02,   4.91493970e-01,\n",
       "          3.22423041e-01,   4.81361330e-01,   1.14504747e-01,\n",
       "          5.74957013e-01,   8.23961496e-01,   1.19609162e-02,\n",
       "          4.59238946e-01,   7.32433438e-01,   4.51674700e-01,\n",
       "          4.41486984e-02,   1.32305548e-02,   3.43943775e-01,\n",
       "          1.72046229e-01,   4.69818085e-01,   7.65434265e-01,\n",
       "          1.27603903e-01,   1.76315114e-01,   6.78261042e-01,\n",
       "          2.77158290e-01,   7.47138381e-01,   5.71206927e-01,\n",
       "          9.86197591e-01,   5.72726250e-01,   4.13088024e-01,\n",
       "          1.79732993e-01,   5.28531313e-01,   2.73938954e-01,\n",
       "          1.15542583e-01,   7.56917536e-01,   2.28788868e-01,\n",
       "          8.77849877e-01,   5.05622625e-01,   9.01752651e-01,\n",
       "          5.68097413e-01,   4.21574265e-01,   7.87653446e-01,\n",
       "          3.42300564e-01,   5.88129580e-01,   5.90659320e-01,\n",
       "          5.24327040e-01,   8.42488647e-01,   1.05830207e-01,\n",
       "          9.28163290e-01,   2.24556074e-01,   3.18436146e-01,\n",
       "          8.10023129e-01,   1.53700918e-01,   2.41963565e-01,\n",
       "          3.93891156e-01,   2.73930192e-01,   9.43350255e-01,\n",
       "          9.82213795e-01,   6.17500961e-01,   8.50375116e-01,\n",
       "          1.15358040e-01,   2.65784621e-01,   4.81708407e-01,\n",
       "          5.91282070e-01,   8.11787248e-01,   9.74456251e-01,\n",
       "          1.91187844e-01,   9.07705128e-01,   3.18690330e-01,\n",
       "          9.21894193e-01,   4.91723627e-01,   3.94714713e-01,\n",
       "          2.59016275e-01,   5.47410607e-01,   9.47966039e-01,\n",
       "          7.42657781e-01,   3.02861661e-01,   5.02160668e-01,\n",
       "          4.83153433e-01,   9.29454803e-01,   1.86114654e-01,\n",
       "          4.21610653e-01], dtype=float32),\n",
       " array([ 0.67725533,  0.64747567,  0.62380221,  0.65914848,  0.55831858,\n",
       "         0.69490443,  0.55855799,  0.53529866,  0.66875077,  0.53457503,\n",
       "         0.71105893,  0.60780847,  0.53091761,  0.612959  ,  0.64440417,\n",
       "         0.62350021,  0.63089987,  0.58920611,  0.53117276,  0.58134352,\n",
       "         0.5754651 ,  0.53937919,  0.51330326,  0.56629477,  0.62177789,\n",
       "         0.56067766,  0.58484341,  0.68192493,  0.67053011,  0.54847427,\n",
       "         0.64438799,  0.64085446,  0.70976416,  0.62647183,  0.54786758,\n",
       "         0.53499046,  0.57007311,  0.55843847,  0.63626856,  0.6672877 ,\n",
       "         0.57789408,  0.63668709,  0.64742922,  0.65159089,  0.60253961,\n",
       "         0.52116242,  0.63331339,  0.65719619,  0.59234746,  0.61871747,\n",
       "         0.70136237,  0.50057491,  0.51527443,  0.51282484,  0.51445462,\n",
       "         0.5158551 ,  0.68838453,  0.66233367,  0.51333353,  0.57697078,\n",
       "         0.66061132,  0.51942997,  0.695429  ,  0.52232917,  0.57067162,\n",
       "         0.64998498,  0.65805817,  0.53269848,  0.5583596 ,  0.62453278,\n",
       "         0.65542476,  0.61054137,  0.54887034,  0.62001093,  0.50872918,\n",
       "         0.68218062,  0.62888258,  0.70639452,  0.603543  ,  0.51067261,\n",
       "         0.61718322,  0.69576653,  0.6710016 ,  0.69047031,  0.61408519,\n",
       "         0.5397903 ,  0.51687525,  0.59441987,  0.64251324,  0.50522262,\n",
       "         0.52581166,  0.6741507 ,  0.6153685 ,  0.58975348,  0.60935612,\n",
       "         0.63208047,  0.53138101,  0.5723481 ,  0.56560712,  0.68076609,\n",
       "         0.64231974,  0.66547722,  0.56482563,  0.57900779,  0.69831386,\n",
       "         0.54080768,  0.71216929,  0.63595588,  0.57776277,  0.70586113,\n",
       "         0.62620143,  0.55974506,  0.57959023,  0.58474518,  0.64247898,\n",
       "         0.58208066,  0.59816505,  0.55323937,  0.70747514,  0.56467175,\n",
       "         0.67269216,  0.50704068,  0.59718865,  0.67600468,  0.63436809,\n",
       "         0.66948706,  0.69993154,  0.66518644,  0.57417731,  0.63978557,\n",
       "         0.62741011,  0.53288274,  0.59740465,  0.58550626,  0.58449841,\n",
       "         0.50902953,  0.567523  ,  0.66092341,  0.64088602,  0.5646168 ,\n",
       "         0.58391929,  0.57285577,  0.64691072,  0.6068451 ,  0.53646617,\n",
       "         0.53474763,  0.70106684,  0.64632185,  0.50603946,  0.59170743,\n",
       "         0.69093304,  0.56854203,  0.62071602,  0.68284181,  0.56928724,\n",
       "         0.67406618,  0.61717192,  0.50153219,  0.51090163,  0.6442456 ,\n",
       "         0.66069183,  0.58502977,  0.63621751,  0.71049828,  0.57092636,\n",
       "         0.63672246,  0.70219823,  0.64908799,  0.51817438,  0.67397172,\n",
       "         0.53579632,  0.64582632,  0.61965278,  0.70099144,  0.60428618,\n",
       "         0.57635949,  0.70741561,  0.56903802,  0.55176155,  0.65583555,\n",
       "         0.51690079,  0.68564173,  0.66049391,  0.60988484,  0.65290096,\n",
       "         0.6262731 ,  0.53674626,  0.65347646,  0.70359557,  0.58940282,\n",
       "         0.70408828,  0.52929176,  0.65051663,  0.54221098,  0.60144001,\n",
       "         0.61352348,  0.54083115,  0.54520102,  0.58812086,  0.58847584,\n",
       "         0.59087927,  0.54730179,  0.54289979,  0.53569694,  0.58221904,\n",
       "         0.68687299,  0.54104442,  0.69271364,  0.6145504 ,  0.61797475,\n",
       "         0.6755324 ,  0.64158523,  0.70539809,  0.54136615,  0.56512215,\n",
       "         0.66396174,  0.50551926,  0.5658276 ,  0.59238519,  0.68792245,\n",
       "         0.69836597,  0.66634789,  0.64869663,  0.64058438,  0.66228564,\n",
       "         0.64513018,  0.55320688,  0.51018433,  0.69619987,  0.54741234,\n",
       "         0.62705768,  0.58249358,  0.675684  ,  0.62103895,  0.58424398,\n",
       "         0.60798399,  0.68879428,  0.51158346,  0.60851038,  0.70897592,\n",
       "         0.50762075,  0.58499143,  0.61097074,  0.528499  ,  0.56152812,\n",
       "         0.5987074 ,  0.65772363,  0.65455154,  0.66968835,  0.55003742,\n",
       "         0.63917158,  0.56752845,  0.63578316,  0.52311222,  0.71150414,\n",
       "         0.66285842,  0.62148825,  0.55485781,  0.70099311,  0.56007686,\n",
       "         0.6117024 ,  0.57528228,  0.61031126,  0.63066768,  0.653861  ,\n",
       "         0.51960991,  0.57284113,  0.65537198,  0.53983596,  0.52747774,\n",
       "         0.66864553,  0.51840672,  0.66840798,  0.71311918,  0.57154156,\n",
       "         0.70615813,  0.56785599,  0.69846203,  0.53633307,  0.53903939,\n",
       "         0.52939069,  0.62760991,  0.6937334 ,  0.56257311,  0.60374241,\n",
       "         0.69655054,  0.66242112,  0.67551274,  0.63423599,  0.59649487,\n",
       "         0.62574295,  0.50843843,  0.70507224,  0.62500584,  0.66543699,\n",
       "         0.65481507,  0.65567656,  0.52722916,  0.67864532,  0.63583188,\n",
       "         0.5042894 ,  0.69423956,  0.70351205,  0.6236129 ,  0.63927004,\n",
       "         0.69138432,  0.56569488,  0.53050339,  0.64211212,  0.65631771,\n",
       "         0.68580957,  0.69912076,  0.57535462,  0.54854303,  0.56911531,\n",
       "         0.54484862,  0.71373731,  0.51216691,  0.60844066,  0.51505237,\n",
       "         0.54464146,  0.55529587,  0.62527558,  0.57121854,  0.64653495,\n",
       "         0.67634323,  0.66385814,  0.592745  ,  0.65122023,  0.54098946,\n",
       "         0.63767932,  0.50875807,  0.66767894,  0.57877423,  0.56773372,\n",
       "         0.68319788,  0.61537888,  0.59270146,  0.65531843,  0.70420378,\n",
       "         0.65202426,  0.62998185,  0.60792598,  0.65905491,  0.66069704,\n",
       "         0.56175696,  0.56795307,  0.51774625,  0.69757572,  0.58290053,\n",
       "         0.51414363,  0.67862469,  0.62267475,  0.53378131,  0.5295668 ,\n",
       "         0.6404534 ,  0.68128734,  0.52592592,  0.6589133 ,  0.69379105,\n",
       "         0.56676243,  0.68982812,  0.59217788,  0.5137643 ,  0.67860545,\n",
       "         0.68849047,  0.68120595,  0.51384402,  0.52068   ,  0.69316712,\n",
       "         0.57967926,  0.63585717,  0.61948145,  0.60612433,  0.63315263,\n",
       "         0.65407851,  0.56452011,  0.66317417,  0.56793871,  0.58975111,\n",
       "         0.65328933,  0.70022983,  0.63897803,  0.66940429,  0.67693643,\n",
       "         0.54160337,  0.66152446,  0.65213317,  0.6903345 ,  0.63760985,\n",
       "         0.6059931 ,  0.51960861,  0.57880124,  0.52752604,  0.58259483,\n",
       "         0.6403528 ,  0.62211093,  0.664204  ,  0.56709477,  0.69536919,\n",
       "         0.62875591,  0.57384984,  0.6843868 ,  0.58539686,  0.56738182,\n",
       "         0.64218203,  0.69525367,  0.57245546,  0.61143011,  0.63306558,\n",
       "         0.63736635,  0.50956413,  0.5485058 ,  0.65363368,  0.56384621,\n",
       "         0.66757713,  0.6125261 ,  0.53895256,  0.50053056,  0.69996164,\n",
       "         0.5570365 ,  0.71483195,  0.64527237,  0.56380802,  0.70854807,\n",
       "         0.59614134,  0.67953071,  0.52104993,  0.67110661,  0.63813483,\n",
       "         0.60279507,  0.55116637,  0.67000568,  0.5894198 ,  0.58913449,\n",
       "         0.54335045,  0.71397496,  0.52558473,  0.61296655,  0.5050182 ,\n",
       "         0.58942803,  0.50551218,  0.69880481,  0.61276248,  0.70975855,\n",
       "         0.64361447,  0.50808258,  0.66586864,  0.6739229 ,  0.59950738,\n",
       "         0.50495607,  0.5864998 ,  0.59942499,  0.69543079,  0.57452756,\n",
       "         0.51165915,  0.60195049,  0.66709403,  0.55831281,  0.67917047,\n",
       "         0.64649558,  0.58027878,  0.6811013 ,  0.5104074 ,  0.60077387,\n",
       "         0.54784964,  0.59498719,  0.53413463,  0.68299106,  0.68424488,\n",
       "         0.51403846,  0.59256504,  0.64719973,  0.58487845,  0.54866623,\n",
       "         0.67208404,  0.52168075,  0.54621409,  0.62774543,  0.50560166,\n",
       "         0.56015153,  0.68112178,  0.52103851,  0.7068771 ,  0.50983267,\n",
       "         0.67286301,  0.54870755,  0.63854197,  0.54115049,  0.60095063,\n",
       "         0.70802105,  0.63895291,  0.56101576,  0.55939145,  0.6649149 ,\n",
       "         0.60083967,  0.64193686,  0.55763378,  0.64266233,  0.58133526,\n",
       "         0.52809675,  0.65312069,  0.56949232,  0.56937676,  0.66346045,\n",
       "         0.64680986,  0.56631232,  0.64782   ,  0.6706522 ,  0.71296044,\n",
       "         0.61687801,  0.5780133 ,  0.70637217,  0.65646883,  0.66424938,\n",
       "         0.62189002,  0.56247771,  0.57972084,  0.63254458,  0.58683191,\n",
       "         0.62597407,  0.51822773,  0.62869771,  0.60667983,  0.60339586,\n",
       "         0.62265254,  0.67400431,  0.59307895,  0.64913655,  0.67570412,\n",
       "         0.55572138,  0.56101725,  0.58185807,  0.50879863,  0.57744975,\n",
       "         0.54287011,  0.52698707,  0.62059675,  0.67287125,  0.70936248,\n",
       "         0.51206681,  0.59436707,  0.67328483,  0.68746032,  0.63915196,\n",
       "         0.53026585,  0.58681616,  0.55526455,  0.50583398,  0.62382128,\n",
       "         0.53039816,  0.52376562,  0.53796653,  0.67496812,  0.57360883,\n",
       "         0.68826545,  0.59833166,  0.64442049,  0.71147348,  0.6360246 ,\n",
       "         0.65525321,  0.66719096,  0.6426593 ,  0.65252726,  0.69868876,\n",
       "         0.66049209,  0.58964626,  0.60235581,  0.66255582,  0.63152013,\n",
       "         0.70431881,  0.67161843,  0.70205018,  0.55431138,  0.54378289,\n",
       "         0.55300305,  0.6659504 ,  0.65490774,  0.56466791,  0.70535169,\n",
       "         0.52579073,  0.55187464,  0.5088451 ,  0.63304369,  0.57513495,\n",
       "         0.68403998,  0.68737699,  0.53501897,  0.51969249,  0.65406823,\n",
       "         0.59158766,  0.6458136 ,  0.65361753,  0.59668484,  0.66649863,\n",
       "         0.60656259,  0.57710654,  0.50712567,  0.6785043 ,  0.51545181,\n",
       "         0.5927569 ,  0.68767706,  0.61850776,  0.67093499,  0.66651817,\n",
       "         0.67015186,  0.60097133,  0.56678924,  0.65402547,  0.54544447,\n",
       "         0.58774029,  0.6032324 ,  0.69373795,  0.51390198,  0.61983159,\n",
       "         0.64311128,  0.57114825,  0.60213385,  0.69302421,  0.70134528,\n",
       "         0.5539979 ,  0.54892163,  0.55590978,  0.71296568,  0.58352334,\n",
       "         0.5077566 ,  0.68506517,  0.57740991,  0.62257885,  0.67917969,\n",
       "         0.70462851,  0.56998212,  0.513163  ,  0.67951048,  0.60307095,\n",
       "         0.53791873,  0.70846536,  0.68137216,  0.5263213 ,  0.69591551,\n",
       "         0.57004802,  0.55836324,  0.58633611,  0.53611041,  0.53521279,\n",
       "         0.67882655,  0.66906661,  0.69986402,  0.61469616,  0.56617693,\n",
       "         0.57210749,  0.51099528,  0.57930075,  0.71196405,  0.69436076,\n",
       "         0.5982681 ,  0.55555156,  0.52450363,  0.51321282,  0.67300513,\n",
       "         0.70112465,  0.57544187,  0.5360319 ,  0.53754641,  0.51430377,\n",
       "         0.64838195,  0.67824528,  0.58613254,  0.6392772 ,  0.56868916,\n",
       "         0.55619186,  0.65403476,  0.50730791,  0.5058205 ,  0.61915901,\n",
       "         0.55629168,  0.64270089,  0.70957995,  0.57719214,  0.63385997,\n",
       "         0.57514574,  0.5245866 ,  0.54005263,  0.62562683,  0.53362418,\n",
       "         0.6826007 ,  0.52817483,  0.56950194,  0.70030346,  0.67244612,\n",
       "         0.69254528,  0.61984245,  0.61724925,  0.64845421,  0.58060788,\n",
       "         0.59121836,  0.54210746,  0.69563022,  0.64860421,  0.52119101,\n",
       "         0.65736766,  0.62416706,  0.70417347,  0.55317945,  0.62502765,\n",
       "         0.69481844,  0.55636684,  0.66642476,  0.50192651,  0.54479459,\n",
       "         0.54904027,  0.58194658,  0.70771725,  0.55595634,  0.54348199,\n",
       "         0.57971506,  0.6356405 ,  0.69825301,  0.50634759,  0.63469602,\n",
       "         0.51194805,  0.6153092 ,  0.659028  ,  0.68359859,  0.66897342,\n",
       "         0.6601187 ,  0.60702433,  0.513198  ,  0.69113278,  0.69035785,\n",
       "         0.57379588,  0.60828836,  0.54354494,  0.55761434,  0.55732655,\n",
       "         0.62828103,  0.50418955,  0.51605941,  0.61849351,  0.70886325,\n",
       "         0.60728841,  0.69495316,  0.68138941,  0.58836295,  0.64107055,\n",
       "         0.61354642,  0.59850991,  0.51100763,  0.64364608,  0.55290678,\n",
       "         0.62328208,  0.52307111,  0.66665023,  0.51597537,  0.56845614,\n",
       "         0.68786041,  0.64987719,  0.53397016,  0.66022268,  0.66125339,\n",
       "         0.53030919,  0.63753173,  0.54689915,  0.58034576,  0.68265304,\n",
       "         0.66647595,  0.69520359,  0.70967381,  0.58820395,  0.52054956,\n",
       "         0.51581472,  0.56886086,  0.67814725,  0.5965975 ,  0.70876827,\n",
       "         0.62879682,  0.59519304,  0.65949376,  0.61568956,  0.53131683,\n",
       "         0.6103118 ,  0.65254602,  0.55383964,  0.62001352,  0.66557519,\n",
       "         0.652876  ,  0.56778721,  0.56475954,  0.71357678,  0.57723394,\n",
       "         0.58710353,  0.65074917,  0.50176223,  0.69278955,  0.57562076,\n",
       "         0.57249462,  0.51985046,  0.51196621,  0.69229973,  0.68681342,\n",
       "         0.57817106,  0.64116288,  0.57641258,  0.51898464,  0.70721941,\n",
       "         0.59761334,  0.64584671,  0.5183312 ,  0.5099398 ,  0.53493873,\n",
       "         0.68930076,  0.66788183,  0.70740174,  0.5829164 ,  0.6322361 ,\n",
       "         0.54728825,  0.56014695,  0.64303748,  0.57684015,  0.69896317,\n",
       "         0.70952571,  0.62220925,  0.51959491,  0.58361219,  0.64112294,\n",
       "         0.57794693,  0.50850496,  0.66271182,  0.55712171,  0.53956417,\n",
       "         0.60289136,  0.62645778,  0.66653517,  0.61009595,  0.70240341,\n",
       "         0.58581854,  0.58745513,  0.51269846,  0.5461856 ,  0.54190108,\n",
       "         0.59370694,  0.51077083,  0.65019583,  0.60447877,  0.51675155,\n",
       "         0.63157771,  0.52633613,  0.61402534,  0.63162383,  0.67998809,\n",
       "         0.68998772,  0.56862103,  0.58524785,  0.68572983,  0.63522575,\n",
       "         0.62027266,  0.65864818,  0.53699439,  0.62489132,  0.61215373,\n",
       "         0.56584633,  0.6650652 ,  0.61501232,  0.66106502,  0.5203233 ,\n",
       "         0.54489812,  0.50006585,  0.56935001,  0.57935218,  0.62903548,\n",
       "         0.50457133,  0.51401704,  0.70873902,  0.69908051,  0.56150216,\n",
       "         0.53693659,  0.59839253,  0.54674578,  0.58122685,  0.5151806 ,\n",
       "         0.67075547,  0.58086338,  0.54406542,  0.66398716,  0.53057322,\n",
       "         0.69389307,  0.66796697,  0.51241299,  0.63934643,  0.63794761,\n",
       "         0.63742116,  0.51070376,  0.64650513,  0.66352121,  0.60796874,\n",
       "         0.62118431,  0.71022144,  0.66839396,  0.56100902,  0.53855857,\n",
       "         0.51918813,  0.59172043,  0.53945979,  0.51338299,  0.70588703,\n",
       "         0.53490363,  0.63388729,  0.60556218,  0.61139732,  0.55482174,\n",
       "         0.59001495,  0.55174575,  0.54042809,  0.53228468,  0.50522591,\n",
       "         0.69999424,  0.60940369,  0.58394752,  0.68352643,  0.66604224,\n",
       "         0.67645681,  0.65246179,  0.52181096,  0.61244576,  0.5744893 ,\n",
       "         0.61020418,  0.52662714,  0.63072134,  0.68290358,  0.50278402,\n",
       "         0.60529411,  0.66416949,  0.60361028,  0.51027469,  0.50307953,\n",
       "         0.57937986,  0.53996042,  0.60764487,  0.6709878 ,  0.52966646,\n",
       "         0.54094755,  0.65282807,  0.56415631,  0.66721636,  0.62990777,\n",
       "         0.71467467,  0.63023747,  0.59498325,  0.54173767,  0.62059821,\n",
       "         0.56341917,  0.52686802,  0.6692349 ,  0.55305291,  0.69366725,\n",
       "         0.61556339,  0.69837573,  0.6292326 ,  0.5968858 ,  0.6755385 ,\n",
       "         0.57900698,  0.63357325,  0.63411988,  0.61967612,  0.6866271 ,\n",
       "         0.52461334,  0.70353005,  0.55207856,  0.57358165,  0.68008676,\n",
       "         0.53571481,  0.55608294,  0.59066899,  0.56341717,  0.70647074,\n",
       "         0.71391773,  0.63989839,  0.68820486,  0.52682519,  0.5615508 ,\n",
       "         0.61028104,  0.63425439,  0.680444  ,  0.71244031,  0.54438414,\n",
       "         0.69954186,  0.57363953,  0.70231118,  0.6124965 ,  0.59085436,\n",
       "         0.55999866,  0.62472808,  0.70736113,  0.66628944,  0.57003128,\n",
       "         0.61480034,  0.61060098,  0.70378079,  0.54321235,  0.59689396]))"
      ]
     },
     "execution_count": 15,
     "metadata": {},
     "output_type": "execute_result"
    }
   ],
   "source": [
    "label_test = df_train['x1']\n",
    "spam_predict_ols = ols_result.predict(label_test)\n",
    "spam_predict_log = log_result.predict(label_test)\n",
    "spam_predict_ols, spam_predict_log"
   ]
  },
  {
   "cell_type": "code",
   "execution_count": 16,
   "metadata": {
    "collapsed": false
   },
   "outputs": [
    {
     "data": {
      "text/plain": [
       "array([ 0.05,  0.1 ,  0.15,  0.2 ,  0.25,  0.3 ,  0.35,  0.4 ,  0.45,\n",
       "        0.5 ,  0.55,  0.6 ,  0.65,  0.7 ,  0.75,  0.8 ,  0.85,  0.9 ,  0.95])"
      ]
     },
     "execution_count": 16,
     "metadata": {},
     "output_type": "execute_result"
    }
   ],
   "source": [
    "threshold = np.arange(.05, 1, .05)\n",
    "threshold"
   ]
  },
  {
   "cell_type": "code",
   "execution_count": 17,
   "metadata": {
    "collapsed": false
   },
   "outputs": [
    {
     "name": "stdout",
     "output_type": "stream",
     "text": [
      "OLS Spam prediction count (threshold = 0.05): 952\n",
      "OLS Spam prediction count (threshold = 0.1): 894\n",
      "OLS Spam prediction count (threshold = 0.15): 852\n",
      "OLS Spam prediction count (threshold = 0.2): 793\n",
      "OLS Spam prediction count (threshold = 0.25): 746\n",
      "OLS Spam prediction count (threshold = 0.3): 684\n",
      "OLS Spam prediction count (threshold = 0.35): 624\n",
      "OLS Spam prediction count (threshold = 0.4): 569\n",
      "OLS Spam prediction count (threshold = 0.45): 525\n",
      "OLS Spam prediction count (threshold = 0.5): 477\n",
      "OLS Spam prediction count (threshold = 0.55): 426\n",
      "OLS Spam prediction count (threshold = 0.6): 377\n",
      "OLS Spam prediction count (threshold = 0.65): 320\n",
      "OLS Spam prediction count (threshold = 0.7): 271\n",
      "OLS Spam prediction count (threshold = 0.75): 214\n",
      "OLS Spam prediction count (threshold = 0.8): 169\n",
      "OLS Spam prediction count (threshold = 0.85): 123\n",
      "OLS Spam prediction count (threshold = 0.9): 82\n",
      "OLS Spam prediction count (threshold = 0.95): 30\n"
     ]
    }
   ],
   "source": [
    "# test various thresholds against OLS for performance\n",
    "for t in threshold:\n",
    "    count_ols = 0\n",
    "    for i in spam_predict_ols:\n",
    "        if i > t:\n",
    "            count_ols += 1\n",
    "    print 'OLS Spam prediction count (threshold = %s): ' % str(t) + str(count_ols)"
   ]
  },
  {
   "cell_type": "code",
   "execution_count": 18,
   "metadata": {
    "collapsed": false
   },
   "outputs": [
    {
     "name": "stdout",
     "output_type": "stream",
     "text": [
      "LOG Spam prediction count (threshold = 0.05): 1000\n",
      "LOG Spam prediction count (threshold = 0.1): 1000\n",
      "LOG Spam prediction count (threshold = 0.15): 1000\n",
      "LOG Spam prediction count (threshold = 0.2): 1000\n",
      "LOG Spam prediction count (threshold = 0.25): 1000\n",
      "LOG Spam prediction count (threshold = 0.3): 1000\n",
      "LOG Spam prediction count (threshold = 0.35): 1000\n",
      "LOG Spam prediction count (threshold = 0.4): 1000\n",
      "LOG Spam prediction count (threshold = 0.45): 1000\n",
      "LOG Spam prediction count (threshold = 0.5): 1000\n",
      "LOG Spam prediction count (threshold = 0.55): 778\n",
      "LOG Spam prediction count (threshold = 0.6): 538\n",
      "LOG Spam prediction count (threshold = 0.65): 307\n",
      "LOG Spam prediction count (threshold = 0.7): 67\n",
      "LOG Spam prediction count (threshold = 0.75): 0\n",
      "LOG Spam prediction count (threshold = 0.8): 0\n",
      "LOG Spam prediction count (threshold = 0.85): 0\n",
      "LOG Spam prediction count (threshold = 0.9): 0\n",
      "LOG Spam prediction count (threshold = 0.95): 0\n"
     ]
    }
   ],
   "source": [
    "# test various thresholds against LOG for performance\n",
    "for t in threshold:\n",
    "    count_log = 0\n",
    "    for i in spam_predict_log:\n",
    "        if i > t:\n",
    "            count_log += 1\n",
    "    print 'LOG Spam prediction count (threshold = %s): ' % str(t) + str(count_log)"
   ]
  },
  {
   "cell_type": "code",
   "execution_count": 19,
   "metadata": {
    "collapsed": false
   },
   "outputs": [
    {
     "data": {
      "text/plain": [
       "477"
      ]
     },
     "execution_count": 19,
     "metadata": {},
     "output_type": "execute_result"
    }
   ],
   "source": [
    "# labeled spam count\n",
    "len(df_train[(df_train['d'] == 1)])"
   ]
  },
  {
   "cell_type": "markdown",
   "metadata": {},
   "source": [
    "## 3. Markov Transition Matrices"
   ]
  },
  {
   "cell_type": "code",
   "execution_count": 20,
   "metadata": {
    "collapsed": false
   },
   "outputs": [
    {
     "data": {
      "text/plain": [
       "matrix([[ 0.5 ,  0.5 ,  0.  ],\n",
       "        [ 0.25,  0.5 ,  0.25],\n",
       "        [ 0.  ,  0.5 ,  0.5 ]])"
      ]
     },
     "execution_count": 20,
     "metadata": {},
     "output_type": "execute_result"
    }
   ],
   "source": [
    "MT_a = np.matrix('.5, .5, 0; .25, .5, .25; 0, .5, .5')\n",
    "MT_a"
   ]
  },
  {
   "cell_type": "code",
   "execution_count": 21,
   "metadata": {
    "collapsed": false
   },
   "outputs": [
    {
     "name": "stdout",
     "output_type": "stream",
     "text": [
      "2 steps ahead\n",
      "[[ 0.375  0.5    0.125]\n",
      " [ 0.25   0.5    0.25 ]\n",
      " [ 0.125  0.5    0.375]]\n",
      "\n",
      "5 steps ahead\n",
      "[[ 0.265625  0.5       0.234375]\n",
      " [ 0.25      0.5       0.25    ]\n",
      " [ 0.234375  0.5       0.265625]]\n",
      "\n",
      "10 steps ahead\n",
      "[[ 0.25048828  0.5         0.24951172]\n",
      " [ 0.25        0.5         0.25      ]\n",
      " [ 0.24951172  0.5         0.25048828]]\n",
      "\n",
      "25 steps ahead\n",
      "[[ 0.25000001  0.5         0.24999999]\n",
      " [ 0.25        0.5         0.25      ]\n",
      " [ 0.24999999  0.5         0.25000001]]\n",
      "\n"
     ]
    }
   ],
   "source": [
    "steps_a = [2, 5, 10, 25]\n",
    "\n",
    "for i in steps_a:\n",
    "    print '%s steps ahead' % str(i)\n",
    "    print MT_a ** i\n",
    "    print ''"
   ]
  },
  {
   "cell_type": "code",
   "execution_count": 22,
   "metadata": {
    "collapsed": false
   },
   "outputs": [
    {
     "data": {
      "text/plain": [
       "matrix([[ 1.  ,  0.  ,  0.  ],\n",
       "        [ 0.25,  0.5 ,  0.25],\n",
       "        [ 0.  ,  0.  ,  1.  ]])"
      ]
     },
     "execution_count": 22,
     "metadata": {},
     "output_type": "execute_result"
    }
   ],
   "source": [
    "# 'absorbing states'\n",
    "\n",
    "MT_b = np.matrix('1, 0, 0; .25, .5, .25; 0, 0, 1')\n",
    "MT_b"
   ]
  },
  {
   "cell_type": "code",
   "execution_count": 23,
   "metadata": {
    "collapsed": false
   },
   "outputs": [
    {
     "name": "stdout",
     "output_type": "stream",
     "text": [
      "2 steps ahead\n",
      "[[ 1.     0.     0.   ]\n",
      " [ 0.375  0.25   0.375]\n",
      " [ 0.     0.     1.   ]]\n",
      "\n",
      "5 steps ahead\n",
      "[[ 1.        0.        0.      ]\n",
      " [ 0.484375  0.03125   0.484375]\n",
      " [ 0.        0.        1.      ]]\n",
      "\n",
      "10 steps ahead\n",
      "[[  1.00000000e+00   0.00000000e+00   0.00000000e+00]\n",
      " [  4.99511719e-01   9.76562500e-04   4.99511719e-01]\n",
      " [  0.00000000e+00   0.00000000e+00   1.00000000e+00]]\n",
      "\n",
      "25 steps ahead\n",
      "[[  1.00000000e+00   0.00000000e+00   0.00000000e+00]\n",
      " [  4.99999985e-01   2.98023224e-08   4.99999985e-01]\n",
      " [  0.00000000e+00   0.00000000e+00   1.00000000e+00]]\n",
      "\n"
     ]
    }
   ],
   "source": [
    "steps_b = [2, 5, 10, 25]\n",
    "\n",
    "for i in steps_b:\n",
    "    print '%s steps ahead' % str(i)\n",
    "    print MT_b ** i\n",
    "    print ''"
   ]
  },
  {
   "cell_type": "markdown",
   "metadata": {},
   "source": [
    "## 4. National Longitudinal Survey of Women; Union Prediction"
   ]
  },
  {
   "cell_type": "code",
   "execution_count": 24,
   "metadata": {
    "collapsed": false
   },
   "outputs": [
    {
     "data": {
      "text/html": [
       "<div>\n",
       "<table border=\"1\" class=\"dataframe\">\n",
       "  <thead>\n",
       "    <tr style=\"text-align: right;\">\n",
       "      <th></th>\n",
       "      <th>idcode</th>\n",
       "      <th>year</th>\n",
       "      <th>age</th>\n",
       "      <th>grade</th>\n",
       "      <th>south</th>\n",
       "      <th>union</th>\n",
       "      <th>black</th>\n",
       "      <th>smsa</th>\n",
       "      <th>prior_union</th>\n",
       "    </tr>\n",
       "  </thead>\n",
       "  <tbody>\n",
       "    <tr>\n",
       "      <th>0</th>\n",
       "      <td>1</td>\n",
       "      <td>87</td>\n",
       "      <td>35</td>\n",
       "      <td>12</td>\n",
       "      <td>0</td>\n",
       "      <td>1</td>\n",
       "      <td>1</td>\n",
       "      <td>1</td>\n",
       "      <td>1</td>\n",
       "    </tr>\n",
       "    <tr>\n",
       "      <th>1</th>\n",
       "      <td>1</td>\n",
       "      <td>83</td>\n",
       "      <td>31</td>\n",
       "      <td>12</td>\n",
       "      <td>0</td>\n",
       "      <td>1</td>\n",
       "      <td>1</td>\n",
       "      <td>1</td>\n",
       "      <td>1</td>\n",
       "    </tr>\n",
       "    <tr>\n",
       "      <th>2</th>\n",
       "      <td>1</td>\n",
       "      <td>77</td>\n",
       "      <td>25</td>\n",
       "      <td>12</td>\n",
       "      <td>0</td>\n",
       "      <td>0</td>\n",
       "      <td>1</td>\n",
       "      <td>1</td>\n",
       "      <td>1</td>\n",
       "    </tr>\n",
       "    <tr>\n",
       "      <th>3</th>\n",
       "      <td>1</td>\n",
       "      <td>88</td>\n",
       "      <td>37</td>\n",
       "      <td>12</td>\n",
       "      <td>0</td>\n",
       "      <td>1</td>\n",
       "      <td>1</td>\n",
       "      <td>1</td>\n",
       "      <td>0</td>\n",
       "    </tr>\n",
       "    <tr>\n",
       "      <th>4</th>\n",
       "      <td>1</td>\n",
       "      <td>85</td>\n",
       "      <td>33</td>\n",
       "      <td>12</td>\n",
       "      <td>0</td>\n",
       "      <td>1</td>\n",
       "      <td>1</td>\n",
       "      <td>1</td>\n",
       "      <td>1</td>\n",
       "    </tr>\n",
       "  </tbody>\n",
       "</table>\n",
       "</div>"
      ],
      "text/plain": [
       "   idcode  year  age  grade  south  union  black  smsa  prior_union\n",
       "0       1    87   35     12      0      1      1     1            1\n",
       "1       1    83   31     12      0      1      1     1            1\n",
       "2       1    77   25     12      0      0      1     1            1\n",
       "3       1    88   37     12      0      1      1     1            0\n",
       "4       1    85   33     12      0      1      1     1            1"
      ]
     },
     "execution_count": 24,
     "metadata": {},
     "output_type": "execute_result"
    }
   ],
   "source": [
    "# using 'pu' as shorthand for 'prior_union'\n",
    "\n",
    "df_pu = pandas.io.stata.read_stata('work_data/union_pred.dta', convert_dates=True)\n",
    "df_pu.head()"
   ]
  },
  {
   "cell_type": "code",
   "execution_count": 25,
   "metadata": {
    "collapsed": false
   },
   "outputs": [
    {
     "data": {
      "text/html": [
       "<div>\n",
       "<table border=\"1\" class=\"dataframe\">\n",
       "  <thead>\n",
       "    <tr style=\"text-align: right;\">\n",
       "      <th></th>\n",
       "      <th></th>\n",
       "      <th>idcode</th>\n",
       "      <th>year</th>\n",
       "      <th>age</th>\n",
       "      <th>grade</th>\n",
       "      <th>south</th>\n",
       "      <th>black</th>\n",
       "      <th>smsa</th>\n",
       "    </tr>\n",
       "    <tr>\n",
       "      <th>union</th>\n",
       "      <th>prior_union</th>\n",
       "      <th></th>\n",
       "      <th></th>\n",
       "      <th></th>\n",
       "      <th></th>\n",
       "      <th></th>\n",
       "      <th></th>\n",
       "      <th></th>\n",
       "    </tr>\n",
       "  </thead>\n",
       "  <tbody>\n",
       "    <tr>\n",
       "      <th rowspan=\"2\" valign=\"top\">0</th>\n",
       "      <th>0</th>\n",
       "      <td>14758</td>\n",
       "      <td>14758</td>\n",
       "      <td>14758</td>\n",
       "      <td>14758</td>\n",
       "      <td>14758</td>\n",
       "      <td>14758</td>\n",
       "      <td>14758</td>\n",
       "    </tr>\n",
       "    <tr>\n",
       "      <th>1</th>\n",
       "      <td>2110</td>\n",
       "      <td>2110</td>\n",
       "      <td>2110</td>\n",
       "      <td>2110</td>\n",
       "      <td>2110</td>\n",
       "      <td>2110</td>\n",
       "      <td>2110</td>\n",
       "    </tr>\n",
       "    <tr>\n",
       "      <th rowspan=\"2\" valign=\"top\">1</th>\n",
       "      <th>0</th>\n",
       "      <td>2086</td>\n",
       "      <td>2086</td>\n",
       "      <td>2086</td>\n",
       "      <td>2086</td>\n",
       "      <td>2086</td>\n",
       "      <td>2086</td>\n",
       "      <td>2086</td>\n",
       "    </tr>\n",
       "    <tr>\n",
       "      <th>1</th>\n",
       "      <td>2812</td>\n",
       "      <td>2812</td>\n",
       "      <td>2812</td>\n",
       "      <td>2812</td>\n",
       "      <td>2812</td>\n",
       "      <td>2812</td>\n",
       "      <td>2812</td>\n",
       "    </tr>\n",
       "  </tbody>\n",
       "</table>\n",
       "</div>"
      ],
      "text/plain": [
       "                   idcode   year    age  grade  south  black   smsa\n",
       "union prior_union                                                  \n",
       "0     0             14758  14758  14758  14758  14758  14758  14758\n",
       "      1              2110   2110   2110   2110   2110   2110   2110\n",
       "1     0              2086   2086   2086   2086   2086   2086   2086\n",
       "      1              2812   2812   2812   2812   2812   2812   2812"
      ]
     },
     "execution_count": 25,
     "metadata": {},
     "output_type": "execute_result"
    }
   ],
   "source": [
    "grouped = df_pu.groupby(['union', 'prior_union'])\n",
    "grouped.count()"
   ]
  },
  {
   "cell_type": "code",
   "execution_count": 26,
   "metadata": {
    "collapsed": false
   },
   "outputs": [
    {
     "name": "stdout",
     "output_type": "stream",
     "text": [
      "Optimization terminated successfully.\n",
      "         Current function value: 0.435559\n",
      "         Iterations 6\n",
      "\tUnion - Logit\n",
      "\n",
      "                           Logit Regression Results                           \n",
      "==============================================================================\n",
      "Dep. Variable:                  union   No. Observations:                21766\n",
      "Model:                          Logit   Df Residuals:                    21759\n",
      "Method:                           MLE   Df Model:                            6\n",
      "Date:                Wed, 23 Sep 2015   Pseudo R-squ.:                  0.1831\n",
      "Time:                        17:52:56   Log-Likelihood:                -9480.4\n",
      "converged:                       True   LL-Null:                       -11606.\n",
      "                                        LLR p-value:                     0.000\n",
      "===============================================================================\n",
      "                  coef    std err          z      P>|z|      [95.0% Conf. Int.]\n",
      "-------------------------------------------------------------------------------\n",
      "year           -0.0488      0.002    -21.051      0.000        -0.053    -0.044\n",
      "age             0.0506      0.004     12.132      0.000         0.042     0.059\n",
      "grade           0.0378      0.008      4.900      0.000         0.023     0.053\n",
      "south          -0.6823      0.042    -16.243      0.000        -0.765    -0.600\n",
      "black           0.5804      0.043     13.425      0.000         0.496     0.665\n",
      "smsa            0.0262      0.043      0.608      0.543        -0.058     0.111\n",
      "prior_union     2.1127      0.038     55.930      0.000         2.039     2.187\n",
      "===============================================================================\n"
     ]
    }
   ],
   "source": [
    "logit_1 = sm.Logit(df_pu['union'], df_pu[['year', 'age', 'grade', 'south', 'black', 'smsa', 'prior_union']])\n",
    "logres_1 = logit_1.fit()\n",
    "print '\\tUnion - Logit\\n\\n', logres_1.summary()"
   ]
  },
  {
   "cell_type": "code",
   "execution_count": 27,
   "metadata": {
    "collapsed": false
   },
   "outputs": [
    {
     "name": "stdout",
     "output_type": "stream",
     "text": [
      "Warning: Maximum number of iterations has been exceeded.\n",
      "         Current function value: 0.510644\n",
      "         Iterations: 35\n",
      "Optimization terminated successfully.\n",
      "         Current function value: 0.510309\n",
      "         Iterations 6\n"
     ]
    },
    {
     "name": "stderr",
     "output_type": "stream",
     "text": [
      "C:\\Anaconda\\lib\\site-packages\\statsmodels\\base\\model.py:466: ConvergenceWarning: Maximum Likelihood optimization failed to converge. Check mle_retvals\n",
      "  \"Check mle_retvals\", ConvergenceWarning)\n"
     ]
    },
    {
     "data": {
      "text/html": [
       "<div>\n",
       "<table border=\"1\" class=\"dataframe\">\n",
       "  <thead>\n",
       "    <tr style=\"text-align: right;\">\n",
       "      <th></th>\n",
       "      <th>idcode</th>\n",
       "      <th>year</th>\n",
       "      <th>age</th>\n",
       "      <th>grade</th>\n",
       "      <th>south</th>\n",
       "      <th>union</th>\n",
       "      <th>black</th>\n",
       "      <th>smsa</th>\n",
       "      <th>prior_union</th>\n",
       "      <th>pred01</th>\n",
       "      <th>pred00</th>\n",
       "      <th>pred11</th>\n",
       "      <th>pred10</th>\n",
       "    </tr>\n",
       "  </thead>\n",
       "  <tbody>\n",
       "    <tr>\n",
       "      <th>count</th>\n",
       "      <td>21766.000000</td>\n",
       "      <td>21766.000000</td>\n",
       "      <td>21766.000000</td>\n",
       "      <td>21766.000000</td>\n",
       "      <td>21766.000000</td>\n",
       "      <td>21766.000000</td>\n",
       "      <td>21766.000000</td>\n",
       "      <td>21766.000000</td>\n",
       "      <td>21766</td>\n",
       "      <td>21766.000000</td>\n",
       "      <td>21766.000000</td>\n",
       "      <td>21766.000000</td>\n",
       "      <td>21766.000000</td>\n",
       "    </tr>\n",
       "    <tr>\n",
       "      <th>mean</th>\n",
       "      <td>2616.485712</td>\n",
       "      <td>79.569466</td>\n",
       "      <td>30.553800</td>\n",
       "      <td>12.776532</td>\n",
       "      <td>0.416843</td>\n",
       "      <td>0.225030</td>\n",
       "      <td>0.275292</td>\n",
       "      <td>0.715152</td>\n",
       "      <td>1</td>\n",
       "      <td>0.225535</td>\n",
       "      <td>0.774465</td>\n",
       "      <td>0.225030</td>\n",
       "      <td>0.774970</td>\n",
       "    </tr>\n",
       "    <tr>\n",
       "      <th>std</th>\n",
       "      <td>1484.960374</td>\n",
       "      <td>5.920549</td>\n",
       "      <td>6.436752</td>\n",
       "      <td>2.395196</td>\n",
       "      <td>0.493048</td>\n",
       "      <td>0.417612</td>\n",
       "      <td>0.446671</td>\n",
       "      <td>0.451333</td>\n",
       "      <td>0</td>\n",
       "      <td>0.090102</td>\n",
       "      <td>0.090102</td>\n",
       "      <td>0.089509</td>\n",
       "      <td>0.089509</td>\n",
       "    </tr>\n",
       "    <tr>\n",
       "      <th>min</th>\n",
       "      <td>1.000000</td>\n",
       "      <td>70.000000</td>\n",
       "      <td>16.000000</td>\n",
       "      <td>0.000000</td>\n",
       "      <td>0.000000</td>\n",
       "      <td>0.000000</td>\n",
       "      <td>0.000000</td>\n",
       "      <td>0.000000</td>\n",
       "      <td>1</td>\n",
       "      <td>0.058972</td>\n",
       "      <td>0.432364</td>\n",
       "      <td>0.053393</td>\n",
       "      <td>0.437941</td>\n",
       "    </tr>\n",
       "    <tr>\n",
       "      <th>25%</th>\n",
       "      <td>1347.000000</td>\n",
       "      <td>73.000000</td>\n",
       "      <td>25.000000</td>\n",
       "      <td>12.000000</td>\n",
       "      <td>0.000000</td>\n",
       "      <td>0.000000</td>\n",
       "      <td>0.000000</td>\n",
       "      <td>0.000000</td>\n",
       "      <td>1</td>\n",
       "      <td>0.166898</td>\n",
       "      <td>0.734211</td>\n",
       "      <td>0.166592</td>\n",
       "      <td>0.736399</td>\n",
       "    </tr>\n",
       "    <tr>\n",
       "      <th>50%</th>\n",
       "      <td>2623.000000</td>\n",
       "      <td>80.000000</td>\n",
       "      <td>31.000000</td>\n",
       "      <td>12.000000</td>\n",
       "      <td>0.000000</td>\n",
       "      <td>0.000000</td>\n",
       "      <td>0.000000</td>\n",
       "      <td>1.000000</td>\n",
       "      <td>1</td>\n",
       "      <td>0.223226</td>\n",
       "      <td>0.776774</td>\n",
       "      <td>0.222119</td>\n",
       "      <td>0.777881</td>\n",
       "    </tr>\n",
       "    <tr>\n",
       "      <th>75%</th>\n",
       "      <td>3898.000000</td>\n",
       "      <td>85.000000</td>\n",
       "      <td>36.000000</td>\n",
       "      <td>14.000000</td>\n",
       "      <td>1.000000</td>\n",
       "      <td>0.000000</td>\n",
       "      <td>1.000000</td>\n",
       "      <td>1.000000</td>\n",
       "      <td>1</td>\n",
       "      <td>0.265789</td>\n",
       "      <td>0.833102</td>\n",
       "      <td>0.263601</td>\n",
       "      <td>0.833408</td>\n",
       "    </tr>\n",
       "    <tr>\n",
       "      <th>max</th>\n",
       "      <td>5159.000000</td>\n",
       "      <td>88.000000</td>\n",
       "      <td>46.000000</td>\n",
       "      <td>18.000000</td>\n",
       "      <td>1.000000</td>\n",
       "      <td>1.000000</td>\n",
       "      <td>1.000000</td>\n",
       "      <td>1.000000</td>\n",
       "      <td>1</td>\n",
       "      <td>0.567636</td>\n",
       "      <td>0.941028</td>\n",
       "      <td>0.562059</td>\n",
       "      <td>0.946607</td>\n",
       "    </tr>\n",
       "  </tbody>\n",
       "</table>\n",
       "</div>"
      ],
      "text/plain": [
       "             idcode          year           age         grade         south  \\\n",
       "count  21766.000000  21766.000000  21766.000000  21766.000000  21766.000000   \n",
       "mean    2616.485712     79.569466     30.553800     12.776532      0.416843   \n",
       "std     1484.960374      5.920549      6.436752      2.395196      0.493048   \n",
       "min        1.000000     70.000000     16.000000      0.000000      0.000000   \n",
       "25%     1347.000000     73.000000     25.000000     12.000000      0.000000   \n",
       "50%     2623.000000     80.000000     31.000000     12.000000      0.000000   \n",
       "75%     3898.000000     85.000000     36.000000     14.000000      1.000000   \n",
       "max     5159.000000     88.000000     46.000000     18.000000      1.000000   \n",
       "\n",
       "              union         black          smsa  prior_union        pred01  \\\n",
       "count  21766.000000  21766.000000  21766.000000        21766  21766.000000   \n",
       "mean       0.225030      0.275292      0.715152            1      0.225535   \n",
       "std        0.417612      0.446671      0.451333            0      0.090102   \n",
       "min        0.000000      0.000000      0.000000            1      0.058972   \n",
       "25%        0.000000      0.000000      0.000000            1      0.166898   \n",
       "50%        0.000000      0.000000      1.000000            1      0.223226   \n",
       "75%        0.000000      1.000000      1.000000            1      0.265789   \n",
       "max        1.000000      1.000000      1.000000            1      0.567636   \n",
       "\n",
       "             pred00        pred11        pred10  \n",
       "count  21766.000000  21766.000000  21766.000000  \n",
       "mean       0.774465      0.225030      0.774970  \n",
       "std        0.090102      0.089509      0.089509  \n",
       "min        0.432364      0.053393      0.437941  \n",
       "25%        0.734211      0.166592      0.736399  \n",
       "50%        0.776774      0.222119      0.777881  \n",
       "75%        0.833102      0.263601      0.833408  \n",
       "max        0.941028      0.562059      0.946607  "
      ]
     },
     "execution_count": 27,
     "metadata": {},
     "output_type": "execute_result"
    }
   ],
   "source": [
    "# copy dataframe and manipulate Prior Union\n",
    "\n",
    "# set 'prior union' to zero for all records\n",
    "df_pu2 = df_pu\n",
    "df_pu2['prior_union'] = 0.00000000000001\n",
    "\n",
    "# train logit on new input\n",
    "logit_2 = sm.Logit(df_pu2['union'], df_pu2[['year', 'age', 'grade', 'south', 'black', 'smsa', 'prior_union']])\n",
    "logres_2 = logit_2.fit()\n",
    "df_pu2['pred01'] = logres_2.predict()\n",
    "df_pu2['pred00'] = 1 - df_pu2['pred01']\n",
    "\n",
    "# set 'prior union' to one for all records\n",
    "df_pu2 = df_pu\n",
    "df_pu2['prior_union'] = 1\n",
    "\n",
    "# train logit on new input\n",
    "logit_2 = sm.Logit(df_pu2['union'], df_pu2[['year', 'age', 'grade', 'south', 'black', 'smsa', 'prior_union']])\n",
    "logres_2 = logit_2.fit()\n",
    "df_pu2['pred11'] = logres_2.predict()\n",
    "df_pu2['pred10'] = 1 - df_pu2['pred11']\n",
    "\n",
    "df_pu2.describe()"
   ]
  },
  {
   "cell_type": "code",
   "execution_count": 28,
   "metadata": {
    "collapsed": false
   },
   "outputs": [
    {
     "data": {
      "text/plain": [
       "(0.7744646411972244,\n",
       " 0.2255353588027823,\n",
       " 0.774970136910774,\n",
       " 0.22502986308922202)"
      ]
     },
     "execution_count": 28,
     "metadata": {},
     "output_type": "execute_result"
    }
   ],
   "source": [
    "# get mean values for union/non-union predictions\n",
    "df_pu2['pred00'].mean(), df_pu2['pred01'].mean(), df_pu2['pred10'].mean(), df_pu2['pred11'].mean()"
   ]
  },
  {
   "cell_type": "code",
   "execution_count": 29,
   "metadata": {
    "collapsed": false
   },
   "outputs": [
    {
     "data": {
      "text/plain": [
       "matrix([[ 0.77446464,  0.22553536],\n",
       "        [ 0.77497014,  0.22502986]])"
      ]
     },
     "execution_count": 29,
     "metadata": {},
     "output_type": "execute_result"
    }
   ],
   "source": [
    "# generated a modelbased Markov matrix of transition probabilities\n",
    "MT_pu = np.matrix('0.7744646411972244,0.2255353588027823;0.774970136910774,0.22502986308922202')\n",
    "MT_pu"
   ]
  },
  {
   "cell_type": "code",
   "execution_count": 30,
   "metadata": {
    "collapsed": false
   },
   "outputs": [
    {
     "data": {
      "text/plain": [
       "matrix([[ 0.77457859,  0.22542141],\n",
       "        [ 0.77457859,  0.22542141]])"
      ]
     },
     "execution_count": 30,
     "metadata": {},
     "output_type": "execute_result"
    }
   ],
   "source": [
    "# long-term the majority of women will NOT be in unions, regardless of their\n",
    "# prior union membership\n",
    "MT_pu ** 100"
   ]
  },
  {
   "cell_type": "markdown",
   "metadata": {},
   "source": [
    "## 5. Gaussian White Noise"
   ]
  },
  {
   "cell_type": "code",
   "execution_count": 31,
   "metadata": {
    "collapsed": true
   },
   "outputs": [],
   "source": [
    "noise1 = np.random.normal(0,1,1000)\n",
    "noise2 = np.random.normal(0,2,1000)\n",
    "noise4 = np.random.normal(0,4,1000)"
   ]
  },
  {
   "cell_type": "code",
   "execution_count": 32,
   "metadata": {
    "collapsed": false
   },
   "outputs": [
    {
     "data": {
      "text/plain": [
       "<matplotlib.text.Text at 0x19e74eb8>"
      ]
     },
     "execution_count": 32,
     "metadata": {},
     "output_type": "execute_result"
    },
    {
     "data": {
      "image/png": "[encoded data removed]",
      "text/plain": [
       "<matplotlib.figure.Figure at 0x19acf860>"
      ]
     },
     "metadata": {},
     "output_type": "display_data"
    }
   ],
   "source": [
    "# example of first plot\n",
    "\n",
    "plt.plot(noise1)\n",
    "plt.title('White Noise, Var=1')"
   ]
  },
  {
   "cell_type": "code",
   "execution_count": 33,
   "metadata": {
    "collapsed": false
   },
   "outputs": [
    {
     "data": {
      "text/plain": [
       "[<matplotlib.lines.Line2D at 0x1a6e0fd0>]"
      ]
     },
     "execution_count": 33,
     "metadata": {},
     "output_type": "execute_result"
    },
    {
     "data": {
      "image/png": "[encoded data removed]",
      "text/plain": [
       "<matplotlib.figure.Figure at 0x19dfb1d0>"
      ]
     },
     "metadata": {},
     "output_type": "display_data"
    }
   ],
   "source": [
    "# the three plots sharing axes\n",
    "\n",
    "fig, axs = plt.subplots(3, 1, sharex=True, sharey=True)\n",
    "axs[0].plot(noise1)\n",
    "axs[1].plot(noise2)\n",
    "axs[2].plot(noise4)"
   ]
  },
  {
   "cell_type": "code",
   "execution_count": 34,
   "metadata": {
    "collapsed": false
   },
   "outputs": [
    {
     "data": {
      "text/plain": [
       "<matplotlib.legend.Legend at 0x1a7a2978>"
      ]
     },
     "execution_count": 34,
     "metadata": {},
     "output_type": "execute_result"
    },
    {
     "data": {
      "image/png": "[encoded data removed]",
      "text/plain": [
       "<matplotlib.figure.Figure at 0x1a73b6d8>"
      ]
     },
     "metadata": {},
     "output_type": "display_data"
    }
   ],
   "source": [
    "X1 = np.random.normal(0,1,1000)\n",
    "X2 = np.random.normal(0,1,1000)\n",
    "\n",
    "plt.plot(X1, label='X1')\n",
    "plt.plot(X2, label='X2')\n",
    "legend(loc='best')"
   ]
  },
  {
   "cell_type": "code",
   "execution_count": 35,
   "metadata": {
    "collapsed": false
   },
   "outputs": [
    {
     "name": "stdout",
     "output_type": "stream",
     "text": [
      "0.0156311873234\n"
     ]
    },
    {
     "data": {
      "image/png": "[encoded data removed]",
      "text/plain": [
       "<matplotlib.figure.Figure at 0x1b9a75c0>"
      ]
     },
     "metadata": {},
     "output_type": "display_data"
    }
   ],
   "source": [
    "# scatter plot of same inputs with fitted line\n",
    "\n",
    "m, b = np.polyfit(X1, X2, 1)\n",
    "\n",
    "plt.plot(X1, X2, '.')\n",
    "plt.plot(X1, m*X1 + b, '-')\n",
    "\n",
    "print m"
   ]
  },
  {
   "cell_type": "markdown",
   "metadata": {},
   "source": [
    "## 6. Independent Random Walks"
   ]
  },
  {
   "cell_type": "code",
   "execution_count": 36,
   "metadata": {
    "collapsed": true
   },
   "outputs": [],
   "source": [
    "Walk1 = np.random.normal(0,1,1000)\n",
    "Walk1 = np.cumsum(Walk1)\n",
    "Walk2 = np.random.normal(0,1,1000)\n",
    "Walk2 = np.cumsum(Walk2)"
   ]
  },
  {
   "cell_type": "code",
   "execution_count": 37,
   "metadata": {
    "collapsed": false
   },
   "outputs": [
    {
     "name": "stdout",
     "output_type": "stream",
     "text": [
      "                            OLS Regression Results                            \n",
      "==============================================================================\n",
      "Dep. Variable:                      y   R-squared:                       0.110\n",
      "Model:                            OLS   Adj. R-squared:                  0.109\n",
      "Method:                 Least Squares   F-statistic:                     123.4\n",
      "Date:                Wed, 23 Sep 2015   Prob (F-statistic):           4.07e-27\n",
      "Time:                        17:52:59   Log-Likelihood:                -4183.9\n",
      "No. Observations:                1000   AIC:                             8370.\n",
      "Df Residuals:                     999   BIC:                             8375.\n",
      "Df Model:                           1                                         \n",
      "Covariance Type:            nonrobust                                         \n",
      "==============================================================================\n",
      "                 coef    std err          t      P>|t|      [95.0% Conf. Int.]\n",
      "------------------------------------------------------------------------------\n",
      "x1             0.3731      0.034     11.109      0.000         0.307     0.439\n",
      "==============================================================================\n",
      "Omnibus:                       61.564   Durbin-Watson:                   0.005\n",
      "Prob(Omnibus):                  0.000   Jarque-Bera (JB):               67.739\n",
      "Skew:                          -0.613   Prob(JB):                     1.95e-15\n",
      "Kurtosis:                       2.648   Cond. No.                         1.00\n",
      "==============================================================================\n",
      "\n",
      "Warnings:\n",
      "[1] Standard Errors assume that the covariance matrix of the errors is correctly specified.\n"
     ]
    },
    {
     "data": {
      "image/png": "[encoded data removed]",
      "text/plain": [
       "<matplotlib.figure.Figure at 0x1ba9b080>"
      ]
     },
     "metadata": {},
     "output_type": "display_data"
    }
   ],
   "source": [
    "plt.plot(Walk1, label='Walk1')\n",
    "plt.plot(Walk2, label='Walk2')\n",
    "plt.legend(loc='best')\n",
    "\n",
    "model = sm.OLS(Walk1, Walk2)\n",
    "results = model.fit()\n",
    "print (results.summary())"
   ]
  },
  {
   "cell_type": "markdown",
   "metadata": {},
   "source": [
    "## 7. Monte Carlo Simulation"
   ]
  },
  {
   "cell_type": "code",
   "execution_count": 38,
   "metadata": {
    "collapsed": false
   },
   "outputs": [
    {
     "data": {
      "text/plain": [
       "(array([  2.,   1.,   2.,   0.,   3.,   2.,   3.,   2.,   3.,   7.,   3.,\n",
       "          3.,   6.,  15.,  15.,  14.,  26.,  15.,  24.,  34.,  53.,  42.,\n",
       "         72.,  60.,  58.,  71.,  66.,  59.,  56.,  55.,  39.,  29.,  41.,\n",
       "         23.,  18.,  16.,  16.,  11.,   9.,   5.,   3.,   8.,   4.,   1.,\n",
       "          1.,   2.,   0.,   1.,   0.,   1.]),\n",
       " array([-2.28017129, -2.1907548 , -2.10133832, -2.01192183, -1.92250534,\n",
       "        -1.83308885, -1.74367236, -1.65425587, -1.56483938, -1.47542289,\n",
       "        -1.38600641, -1.29658992, -1.20717343, -1.11775694, -1.02834045,\n",
       "        -0.93892396, -0.84950747, -0.76009098, -0.6706745 , -0.58125801,\n",
       "        -0.49184152, -0.40242503, -0.31300854, -0.22359205, -0.13417556,\n",
       "        -0.04475907,  0.04465741,  0.1340739 ,  0.22349039,  0.31290688,\n",
       "         0.40232337,  0.49173986,  0.58115635,  0.67057284,  0.75998932,\n",
       "         0.84940581,  0.9388223 ,  1.02823879,  1.11765528,  1.20707177,\n",
       "         1.29648826,  1.38590475,  1.47532123,  1.56473772,  1.65415421,\n",
       "         1.7435707 ,  1.83298719,  1.92240368,  2.01182017,  2.10123666,\n",
       "         2.19065314]),\n",
       " <a list of 50 Patch objects>)"
      ]
     },
     "execution_count": 38,
     "metadata": {},
     "output_type": "execute_result"
    },
    {
     "data": {
      "image/png": "[encoded data removed]",
      "text/plain": [
       "<matplotlib.figure.Figure at 0x1b9b10f0>"
      ]
     },
     "metadata": {},
     "output_type": "display_data"
    }
   ],
   "source": [
    "Monte_count = range(1000)\n",
    "Monte_coef = []\n",
    "\n",
    "for i in Monte_count:\n",
    "    Walk1 = np.random.normal(0,1,1000)\n",
    "    Walk1 = np.cumsum(Walk1)\n",
    "    Walk2 = np.random.normal(0,1,1000)\n",
    "    Walk2 = np.cumsum(Walk2)\n",
    "    \n",
    "    m, b = np.polyfit(Walk1, Walk2, 1)\n",
    "    Monte_coef.append(m)\n",
    "\n",
    "# print len(Monte_coef)\n",
    "plt.hist(Monte_coef, bins=50)"
   ]
  },
  {
   "cell_type": "code",
   "execution_count": null,
   "metadata": {
    "collapsed": true
   },
   "outputs": [],
   "source": []
  }
 ],
 "metadata": {
  "kernelspec": {
   "display_name": "Python 2",
   "language": "python",
   "name": "python2"
  },
  "language_info": {
   "codemirror_mode": {
    "name": "ipython",
    "version": 2
   },
   "file_extension": ".py",
   "mimetype": "text/x-python",
   "name": "python",
   "nbconvert_exporter": "python",
   "pygments_lexer": "ipython2",
   "version": "2.7.10"
  }
 },
 "nbformat": 4,
 "nbformat_minor": 0
}
