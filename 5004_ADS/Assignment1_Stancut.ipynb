{
 "metadata": {
  "name": "",
  "signature": "sha256:33290033e114b7b9dbe75df7ba5af910e2ac694333fcef9806fdc6e831948707"
 },
 "nbformat": 3,
 "nbformat_minor": 0,
 "worksheets": [
  {
   "cells": [
    {
     "cell_type": "code",
     "collapsed": false,
     "input": [
      "import matplotlib\n",
      "import pylab\n",
      "import numpy as np"
     ],
     "language": "python",
     "metadata": {},
     "outputs": [],
     "prompt_number": 1
    },
    {
     "cell_type": "code",
     "collapsed": false,
     "input": [
      "%matplotlib inline"
     ],
     "language": "python",
     "metadata": {},
     "outputs": [],
     "prompt_number": 2
    },
    {
     "cell_type": "heading",
     "level": 2,
     "metadata": {},
     "source": [
      "Problem 1"
     ]
    },
    {
     "cell_type": "code",
     "collapsed": false,
     "input": [
      "'''Random Integer Generator\n",
      "\n",
      "Here are your random numbers:\n",
      "\n",
      "0\t7\n",
      "8\t7\n",
      "2\t0\n",
      "1\t8\n",
      "6\t0\n",
      "3\t5\n",
      "8\t3\n",
      "9\t7\n",
      "6\t0\n",
      "5\t6'''"
     ],
     "language": "python",
     "metadata": {},
     "outputs": [
      {
       "metadata": {},
       "output_type": "pyout",
       "prompt_number": 56,
       "text": [
        "'Random Integer Generator\\n\\nHere are your random numbers:\\n\\n0\\t7\\n8\\t7\\n2\\t0\\n1\\t8\\n6\\t0\\n3\\t5\\n8\\t3\\n9\\t7\\n6\\t0\\n5\\t6'"
       ]
      }
     ],
     "prompt_number": 56
    },
    {
     "cell_type": "code",
     "collapsed": false,
     "input": [
      "Y = [0, 8, 2, 1, 6, 3, 8, 9, 6, 5]\n",
      "\n",
      "x = [7, 7, 0, 8, 0, 5, 3, 7, 0, 6]"
     ],
     "language": "python",
     "metadata": {},
     "outputs": [],
     "prompt_number": 3
    },
    {
     "cell_type": "code",
     "collapsed": false,
     "input": [
      "# a. Scatter Plot\n",
      "\n",
      "pylab.figure(figsize= (10, 10))\n",
      "pylab.xlabel(\"Label x\")\n",
      "pylab.ylabel(\"Label Y\")\n",
      "\n",
      "matplotlib.pyplot.scatter(x, Y)\n",
      "matplotlib.pyplot.show()"
     ],
     "language": "python",
     "metadata": {},
     "outputs": [
      {
       "metadata": {},
       "output_type": "display_data",
       "png": "[encoded data removed]",
       "text": [
        "<matplotlib.figure.Figure at 0xaf63952c>"
       ]
      }
     ],
     "prompt_number": 4
    },
    {
     "cell_type": "code",
     "collapsed": false,
     "input": [
      "# b. Calculate the means of Y and X.\n",
      "\n",
      "mean_of_Y = sum(Y)/float(len(Y))      \n",
      "\n",
      "mean_of_x = sum(x)/float(len(x)) \n",
      "\n",
      "'The mean of Y: ' + str(mean_of_Y) + '; & mean of x: ' + str(mean_of_x)"
     ],
     "language": "python",
     "metadata": {},
     "outputs": [
      {
       "metadata": {},
       "output_type": "pyout",
       "prompt_number": 5,
       "text": [
        "'The mean of Y: 4.8; & mean of x: 4.3'"
       ]
      }
     ],
     "prompt_number": 5
    },
    {
     "cell_type": "code",
     "collapsed": false,
     "input": [
      "# c. Calculate the variances of Y and X.\n",
      "\n",
      "varY = sum((mean_of_Y - value) ** 2 for value in Y) / float(len(Y)) \n",
      "\n",
      "varX = sum((mean_of_x - value) ** 2 for value in x) / float(len(x))\n",
      "\n",
      "'Variance of Y: ' + str(varY) + '; & variance of x: '  + str(varX)"
     ],
     "language": "python",
     "metadata": {},
     "outputs": [
      {
       "metadata": {},
       "output_type": "pyout",
       "prompt_number": 6,
       "text": [
        "'Variance of Y: 8.96; & variance of x: 9.61'"
       ]
      }
     ],
     "prompt_number": 6
    },
    {
     "cell_type": "code",
     "collapsed": false,
     "input": [
      "# d. Calculate the standard deviations of Y and X. \n",
      "\n",
      "stdY_pop = varY ** .5\n",
      "\n",
      "stdY_sam = (sum((mean_of_Y - value) ** 2 for value in Y) / float(len(Y) - 1)) ** .5\n",
      "\n",
      "stdX_pop = varX ** .5\n",
      "\n",
      "stdX_sam = (sum((mean_of_x - value) ** 2 for value in x) / float(len(x) - 1)) ** .5\n",
      "            \n",
      "print 'STD (population) of Y: ' + str(stdY_pop) + '; & STD (sample) of Y: ' + str(stdY_sam) \n",
      "print 'STD (population) of x: ' + str(stdX_pop) + '; & STD (sample) of x: ' + str(stdX_sam)"
     ],
     "language": "python",
     "metadata": {},
     "outputs": [
      {
       "output_type": "stream",
       "stream": "stdout",
       "text": [
        "STD (population) of Y: 2.99332590942; & STD (sample) of Y: 3.15524255099\n",
        "STD (population) of x: 3.1; & STD (sample) of x: 3.26768691551\n"
       ]
      }
     ],
     "prompt_number": 7
    },
    {
     "cell_type": "code",
     "collapsed": false,
     "input": [
      "# e. Calculate the covariance of Y and X.\n",
      "\n",
      "X = np.vstack((x,Y))\n",
      "print 'Covariance matrix:'\n",
      "print np.cov(X)"
     ],
     "language": "python",
     "metadata": {},
     "outputs": [
      {
       "output_type": "stream",
       "stream": "stdout",
       "text": [
        "Covariance matrix:\n",
        "[[ 10.67777778  -1.15555556]\n",
        " [ -1.15555556   9.95555556]]\n"
       ]
      }
     ],
     "prompt_number": 8
    },
    {
     "cell_type": "code",
     "collapsed": false,
     "input": [
      "# f. Calculate the correlation of Y and X.\n",
      "\n",
      "print np.corrcoef(x,Y)"
     ],
     "language": "python",
     "metadata": {},
     "outputs": [
      {
       "output_type": "stream",
       "stream": "stdout",
       "text": [
        "[[ 1.         -0.11207729]\n",
        " [-0.11207729  1.        ]]\n"
       ]
      }
     ],
     "prompt_number": 9
    },
    {
     "cell_type": "code",
     "collapsed": false,
     "input": [
      "# g. Given the results above, suppose I ask you to predict the value of Y \n",
      "#    if I give you a value of X = 13.  How would you respond?\n",
      "\n",
      "print 'I would respond that due to the nearly zero (-0.11207729) correlation coefficient \\\n",
      "I could not provide a reliable prediction, but would note that there is both a slight negative \\\n",
      "correlation and covariance.'"
     ],
     "language": "python",
     "metadata": {},
     "outputs": [
      {
       "output_type": "stream",
       "stream": "stdout",
       "text": [
        "I would respond that due to the nearly zero (-0.11207729) correlation coefficient I could not provide a reliable prediction, but would note that there is both a slight negative correlation and covariance.\n"
       ]
      }
     ],
     "prompt_number": 10
    },
    {
     "cell_type": "heading",
     "level": 2,
     "metadata": {},
     "source": [
      "Problem 2"
     ]
    },
    {
     "cell_type": "heading",
     "level": 5,
     "metadata": {},
     "source": [
      "For the random variables below, indicate the more appropriate random variable (discrete or continuous) and why you believe this to be the case."
     ]
    },
    {
     "cell_type": "code",
     "collapsed": false,
     "input": [
      "'''\n",
      "a. The number of taxi rides taken in a month by a NYC resident.\n",
      "   \n",
      "       Discrete - there is a set number of rides that can be taken.\n",
      "\n",
      "b. The speed of a bicyclist on Jay Street.\n",
      "    \n",
      "        Continuous - the speed varies along a spectrum, not simply jumping \n",
      "                     from 5mph to 10 mph (example).\n",
      "\n",
      "c. The luminosity of light emitted by street lamps in Brooklyn.\n",
      "\n",
      "        Continuous - luminosity will vary in gradiant.\n",
      "\n",
      "d. The income of bankers working on Wall Street.\n",
      "\n",
      "        Continuous - wages will be all over, but this can be made discrete (like most examples) by \n",
      "                     placing into bins/ranges.\n",
      "\n",
      "e. The number of hotels in Manhattan.\n",
      "\n",
      "        Discrete - there is a set number and these can be found out.\n",
      "\n",
      "f. The ambient sound generated by trash trucks picking up trash at midnight.\n",
      "\n",
      "        Continuous - varying levels of noise/sound.\n",
      "\n",
      "g. The quality of coffee served in the student lounge.\n",
      "\n",
      "        Continuous - not necessarily just good v. bad, could be degrees of acceptable coffee.\n",
      "'''"
     ],
     "language": "python",
     "metadata": {},
     "outputs": []
    },
    {
     "cell_type": "heading",
     "level": 2,
     "metadata": {},
     "source": [
      "Problem 3"
     ]
    },
    {
     "cell_type": "heading",
     "level": 5,
     "metadata": {},
     "source": [
      "Consider the salaries of bankers on Wall Street.  One argument that could be advanced is that Wall Street bankers have high salaries because they have attained high levels of education.  Another argument could be advanced that Wall Street banker have high salaries because they have high Intelligence Quotients (IQ).  If you had a dataset that provided you with the salaries of a sample of Wall Street bankers, together with their education levels and IQs, discuss how you might explore these arguments.  Are there other methods beyond relying on this sample of bankers that could allow you to explore these arguments? "
     ]
    },
    {
     "cell_type": "heading",
     "level": 6,
     "metadata": {},
     "source": [
      "1) I would look for correlations between education and salaries.\n",
      "\n",
      "2) I would look for correlations between intelligence and salaries.\n",
      "\n",
      "3) I would investigate the influence of the two random variables (education & intelligence) on one another and together on salaries; see which had a stronger effect, if any.\n",
      "\n",
      "4) Beyond the sample of bankers we might be able to find samples of workers from other industries with either similar education, intelligence, or both; we could then look into their salaries and how they compare with the bankers (how education/intelligence influences salaries).\n",
      "\n",
      "5) Additionally, we may be able to gather additional information on the bankers that should help shed light on the investigation:\n",
      "    a. Age\n",
      "    b. Nationality\n",
      "    c. Sex\n",
      "    d. Alma matter\n",
      "    e. Region of country raised in"
     ]
    },
    {
     "cell_type": "code",
     "collapsed": false,
     "input": [],
     "language": "python",
     "metadata": {},
     "outputs": []
    }
   ],
   "metadata": {}
  }
 ]
}