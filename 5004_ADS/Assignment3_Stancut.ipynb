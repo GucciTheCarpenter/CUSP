{
 "metadata": {
  "name": "",
  "signature": "sha256:006ec1da26085edc445746ad760155b1f555d1fc6d4034dc810ebf9580cb96cb"
 },
 "nbformat": 3,
 "nbformat_minor": 0,
 "worksheets": [
  {
   "cells": [
    {
     "cell_type": "code",
     "collapsed": false,
     "input": [
      "from pylab import *\n",
      "import scipy\n",
      "from scipy import stats\n",
      "import matplotlib.pyplot as plt\n",
      "import numpy as np\n",
      "import pandas"
     ],
     "language": "python",
     "metadata": {},
     "outputs": [],
     "prompt_number": 1
    },
    {
     "cell_type": "code",
     "collapsed": false,
     "input": [
      "%matplotlib inline"
     ],
     "language": "python",
     "metadata": {},
     "outputs": [],
     "prompt_number": 2
    },
    {
     "cell_type": "heading",
     "level": 2,
     "metadata": {},
     "source": [
      "Problem 1"
     ]
    },
    {
     "cell_type": "code",
     "collapsed": false,
     "input": [
      "# a\n",
      "\n",
      "df_Gril = pandas.io.stata.read_stata('griliches.dta', convert_dates=True)\n",
      "df_Gril.head()"
     ],
     "language": "python",
     "metadata": {},
     "outputs": [
      {
       "html": [
        "<div style=\"max-height:1000px;max-width:1500px;overflow:auto;\">\n",
        "<table border=\"1\" class=\"dataframe\">\n",
        "  <thead>\n",
        "    <tr style=\"text-align: right;\">\n",
        "      <th></th>\n",
        "      <th>rns</th>\n",
        "      <th>rns80</th>\n",
        "      <th>mrt</th>\n",
        "      <th>mrt80</th>\n",
        "      <th>smsa</th>\n",
        "      <th>smsa80</th>\n",
        "      <th>med</th>\n",
        "      <th>iq</th>\n",
        "      <th>kww</th>\n",
        "      <th>year</th>\n",
        "      <th>age</th>\n",
        "      <th>age80</th>\n",
        "      <th>s</th>\n",
        "      <th>s80</th>\n",
        "      <th>expr</th>\n",
        "      <th>expr80</th>\n",
        "      <th>tenure</th>\n",
        "      <th>tenure80</th>\n",
        "      <th>lw</th>\n",
        "      <th>lw80</th>\n",
        "    </tr>\n",
        "  </thead>\n",
        "  <tbody>\n",
        "    <tr>\n",
        "      <th>0</th>\n",
        "      <td> 0</td>\n",
        "      <td> 0</td>\n",
        "      <td> 0</td>\n",
        "      <td> 1</td>\n",
        "      <td> 1</td>\n",
        "      <td> 1</td>\n",
        "      <td>  8</td>\n",
        "      <td>  93</td>\n",
        "      <td> 35</td>\n",
        "      <td> 68</td>\n",
        "      <td> 19</td>\n",
        "      <td> 31</td>\n",
        "      <td> 12</td>\n",
        "      <td> 12</td>\n",
        "      <td> 0.462</td>\n",
        "      <td> 10.635</td>\n",
        "      <td> 0</td>\n",
        "      <td>  2</td>\n",
        "      <td> 5.900</td>\n",
        "      <td> 6.645</td>\n",
        "    </tr>\n",
        "    <tr>\n",
        "      <th>1</th>\n",
        "      <td> 0</td>\n",
        "      <td> 0</td>\n",
        "      <td> 0</td>\n",
        "      <td> 1</td>\n",
        "      <td> 1</td>\n",
        "      <td> 1</td>\n",
        "      <td> 14</td>\n",
        "      <td> 119</td>\n",
        "      <td> 41</td>\n",
        "      <td> 66</td>\n",
        "      <td> 23</td>\n",
        "      <td> 37</td>\n",
        "      <td> 16</td>\n",
        "      <td> 18</td>\n",
        "      <td> 0.000</td>\n",
        "      <td> 11.367</td>\n",
        "      <td> 2</td>\n",
        "      <td> 16</td>\n",
        "      <td> 5.438</td>\n",
        "      <td> 6.694</td>\n",
        "    </tr>\n",
        "    <tr>\n",
        "      <th>2</th>\n",
        "      <td> 0</td>\n",
        "      <td> 0</td>\n",
        "      <td> 0</td>\n",
        "      <td> 1</td>\n",
        "      <td> 1</td>\n",
        "      <td> 1</td>\n",
        "      <td> 14</td>\n",
        "      <td> 108</td>\n",
        "      <td> 46</td>\n",
        "      <td> 67</td>\n",
        "      <td> 20</td>\n",
        "      <td> 33</td>\n",
        "      <td> 14</td>\n",
        "      <td> 14</td>\n",
        "      <td> 0.423</td>\n",
        "      <td> 11.035</td>\n",
        "      <td> 1</td>\n",
        "      <td>  9</td>\n",
        "      <td> 5.710</td>\n",
        "      <td> 6.715</td>\n",
        "    </tr>\n",
        "    <tr>\n",
        "      <th>3</th>\n",
        "      <td> 0</td>\n",
        "      <td> 0</td>\n",
        "      <td> 0</td>\n",
        "      <td> 1</td>\n",
        "      <td> 1</td>\n",
        "      <td> 1</td>\n",
        "      <td> 12</td>\n",
        "      <td>  96</td>\n",
        "      <td> 32</td>\n",
        "      <td> 66</td>\n",
        "      <td> 18</td>\n",
        "      <td> 32</td>\n",
        "      <td> 12</td>\n",
        "      <td> 12</td>\n",
        "      <td> 0.333</td>\n",
        "      <td> 13.089</td>\n",
        "      <td> 1</td>\n",
        "      <td>  7</td>\n",
        "      <td> 5.481</td>\n",
        "      <td> 6.477</td>\n",
        "    </tr>\n",
        "    <tr>\n",
        "      <th>4</th>\n",
        "      <td> 0</td>\n",
        "      <td> 0</td>\n",
        "      <td> 1</td>\n",
        "      <td> 1</td>\n",
        "      <td> 1</td>\n",
        "      <td> 1</td>\n",
        "      <td>  6</td>\n",
        "      <td>  74</td>\n",
        "      <td> 27</td>\n",
        "      <td> 73</td>\n",
        "      <td> 26</td>\n",
        "      <td> 34</td>\n",
        "      <td>  9</td>\n",
        "      <td> 11</td>\n",
        "      <td> 9.013</td>\n",
        "      <td> 14.402</td>\n",
        "      <td> 3</td>\n",
        "      <td>  5</td>\n",
        "      <td> 5.927</td>\n",
        "      <td> 6.332</td>\n",
        "    </tr>\n",
        "  </tbody>\n",
        "</table>\n",
        "</div>"
       ],
       "metadata": {},
       "output_type": "pyout",
       "prompt_number": 3,
       "text": [
        "   rns  rns80  mrt  mrt80  smsa  smsa80  med   iq  kww  year  age  age80   s  \\\n",
        "0    0      0    0      1     1       1    8   93   35    68   19     31  12   \n",
        "1    0      0    0      1     1       1   14  119   41    66   23     37  16   \n",
        "2    0      0    0      1     1       1   14  108   46    67   20     33  14   \n",
        "3    0      0    0      1     1       1   12   96   32    66   18     32  12   \n",
        "4    0      0    1      1     1       1    6   74   27    73   26     34   9   \n",
        "\n",
        "   s80   expr  expr80  tenure  tenure80     lw   lw80  \n",
        "0   12  0.462  10.635       0         2  5.900  6.645  \n",
        "1   18  0.000  11.367       2        16  5.438  6.694  \n",
        "2   14  0.423  11.035       1         9  5.710  6.715  \n",
        "3   12  0.333  13.089       1         7  5.481  6.477  \n",
        "4   11  9.013  14.402       3         5  5.927  6.332  "
       ]
      }
     ],
     "prompt_number": 3
    },
    {
     "cell_type": "code",
     "collapsed": false,
     "input": [
      "# b\n",
      "\n",
      "cols = ['rns', 'mrt', 'smsa', 'med', 'iq', 'kww', 'age', 's', 'expr', 'lw']\n",
      "\n",
      "for i in cols:\n",
      "    print '\\t' + i + '\\n', df_Gril[i].describe()"
     ],
     "language": "python",
     "metadata": {},
     "outputs": [
      {
       "output_type": "stream",
       "stream": "stdout",
       "text": [
        "\trns\n",
        "count    758.000000\n",
        "mean       0.269129\n",
        "std        0.443800\n",
        "min        0.000000\n",
        "25%        0.000000\n",
        "50%        0.000000\n",
        "75%        1.000000\n",
        "max        1.000000\n",
        "dtype: float64"
       ]
      },
      {
       "output_type": "stream",
       "stream": "stdout",
       "text": [
        "\n",
        "\tmrt\n",
        "count    758.000000\n",
        "mean       0.514512\n",
        "std        0.500119\n",
        "min        0.000000\n",
        "25%        0.000000\n",
        "50%        1.000000\n",
        "75%        1.000000\n",
        "max        1.000000\n",
        "dtype: float64\n",
        "\tsmsa\n",
        "count    758.000000\n",
        "mean       0.704485\n",
        "std        0.456575\n",
        "min        0.000000\n",
        "25%        0.000000\n",
        "50%        1.000000\n",
        "75%        1.000000\n",
        "max        1.000000\n",
        "dtype: float64\n",
        "\tmed\n",
        "count    758.00000\n",
        "mean      10.91029\n",
        "std        2.74112\n",
        "min        0.00000\n",
        "25%        9.00000\n",
        "50%       12.00000\n",
        "75%       12.00000\n",
        "max       18.00000\n",
        "dtype: float64\n",
        "\tiq\n",
        "count    758.000000\n",
        "mean     103.856201\n",
        "std       13.618666\n",
        "min       54.000000\n",
        "25%       95.250000\n",
        "50%      104.000000\n",
        "75%      113.750000\n",
        "max      145.000000\n",
        "dtype: float64\n",
        "\tkww\n",
        "count    758.000000\n",
        "mean      36.573879\n",
        "std        7.302247\n",
        "min       12.000000\n",
        "25%       32.000000\n",
        "50%       37.000000\n",
        "75%       41.000000\n",
        "max       56.000000\n",
        "dtype: float64\n",
        "\tage\n",
        "count    758.000000\n",
        "mean      21.835092\n",
        "std        2.981756\n",
        "min       16.000000\n",
        "25%       20.000000\n",
        "50%       22.000000\n",
        "75%       24.000000\n",
        "max       30.000000\n",
        "dtype: float64"
       ]
      },
      {
       "output_type": "stream",
       "stream": "stdout",
       "text": [
        "\n",
        "\ts\n",
        "count    758.000000\n",
        "mean      13.405013\n",
        "std        2.231828\n",
        "min        9.000000\n",
        "25%       12.000000\n",
        "50%       12.000000\n",
        "75%       16.000000\n",
        "max       18.000000\n",
        "dtype: float64\n",
        "\texpr\n",
        "count    758.000000\n",
        "mean       1.735429\n",
        "std        2.105542\n",
        "min        0.000000\n",
        "25%        0.281500\n",
        "50%        0.960000\n",
        "75%        2.440000\n",
        "max       11.444000\n",
        "dtype: float64\n",
        "\tlw\n",
        "count    758.000000\n",
        "mean       5.686739\n",
        "std        0.428949\n",
        "min        4.605000\n",
        "25%        5.380000\n",
        "50%        5.684000\n",
        "75%        5.991000\n",
        "max        7.051000\n",
        "dtype: float64\n"
       ]
      }
     ],
     "prompt_number": 4
    },
    {
     "cell_type": "code",
     "collapsed": false,
     "input": [
      "# c\n",
      "\n",
      "plt.scatter(df_Gril['lw'], df_Gril['rns'])\n",
      "plt.title('Log wages against RNS')"
     ],
     "language": "python",
     "metadata": {},
     "outputs": [
      {
       "metadata": {},
       "output_type": "pyout",
       "prompt_number": 5,
       "text": [
        "<matplotlib.text.Text at 0xabd43d2c>"
       ]
      },
      {
       "metadata": {},
       "output_type": "display_data",
       "png": "[encoded data removed]",
       "text": [
        "<matplotlib.figure.Figure at 0xabd4ad6c>"
       ]
      }
     ],
     "prompt_number": 5
    },
    {
     "cell_type": "code",
     "collapsed": false,
     "input": [
      "plt.scatter(df_Gril['lw'], df_Gril['mrt'])\n",
      "plt.title('Log wages against MRT')"
     ],
     "language": "python",
     "metadata": {},
     "outputs": [
      {
       "metadata": {},
       "output_type": "pyout",
       "prompt_number": 6,
       "text": [
        "<matplotlib.text.Text at 0xabc8cc0c>"
       ]
      },
      {
       "metadata": {},
       "output_type": "display_data",
       "png": "[encoded data removed]",
       "text": [
        "<matplotlib.figure.Figure at 0xabce77ec>"
       ]
      }
     ],
     "prompt_number": 6
    },
    {
     "cell_type": "code",
     "collapsed": false,
     "input": [
      "plt.scatter(df_Gril['lw'], df_Gril['smsa'])\n",
      "plt.title('Log wages against SMSA')"
     ],
     "language": "python",
     "metadata": {},
     "outputs": [
      {
       "metadata": {},
       "output_type": "pyout",
       "prompt_number": 7,
       "text": [
        "<matplotlib.text.Text at 0xabb7ca2c>"
       ]
      },
      {
       "metadata": {},
       "output_type": "display_data",
       "png": "[encoded data removed]",
       "text": [
        "<matplotlib.figure.Figure at 0xabcb062c>"
       ]
      }
     ],
     "prompt_number": 7
    },
    {
     "cell_type": "code",
     "collapsed": false,
     "input": [
      "plt.scatter(df_Gril['lw'], df_Gril['kww'])\n",
      "plt.title('Log wages against KWW')"
     ],
     "language": "python",
     "metadata": {},
     "outputs": [
      {
       "metadata": {},
       "output_type": "pyout",
       "prompt_number": 8,
       "text": [
        "<matplotlib.text.Text at 0xabb55dec>"
       ]
      },
      {
       "metadata": {},
       "output_type": "display_data",
       "png": "[encoded data removed]",
       "text": [
        "<matplotlib.figure.Figure at 0xabb1e4cc>"
       ]
      }
     ],
     "prompt_number": 8
    },
    {
     "cell_type": "code",
     "collapsed": false,
     "input": [
      "plt.scatter(df_Gril['lw'], df_Gril['expr'])\n",
      "plt.title('Log wages against EXPR')"
     ],
     "language": "python",
     "metadata": {},
     "outputs": [
      {
       "metadata": {},
       "output_type": "pyout",
       "prompt_number": 9,
       "text": [
        "<matplotlib.text.Text at 0xabaad90c>"
       ]
      },
      {
       "metadata": {},
       "output_type": "display_data",
       "png": "[encoded data removed]",
       "text": [
        "<matplotlib.figure.Figure at 0xabaff1ec>"
       ]
      }
     ],
     "prompt_number": 9
    },
    {
     "cell_type": "code",
     "collapsed": false,
     "input": [
      "# d\n",
      "\n",
      "import statsmodels.api as sm"
     ],
     "language": "python",
     "metadata": {},
     "outputs": [],
     "prompt_number": 10
    },
    {
     "cell_type": "code",
     "collapsed": false,
     "input": [
      "cols2 = ['rns', 'mrt', 'smsa', 'kww', 'expr']\n",
      "\n",
      "for i in cols2:\n",
      "    model = sm.OLS(df_Gril['lw'], df_Gril[i])\n",
      "    results = model.fit()\n",
      "    print '\\tIndepent Variable: ' + i + '\\n\\n', (results.summary())"
     ],
     "language": "python",
     "metadata": {},
     "outputs": [
      {
       "output_type": "stream",
       "stream": "stdout",
       "text": [
        "\tIndepent Variable: rns\n",
        "\n",
        "                            OLS Regression Results                            \n",
        "==============================================================================\n",
        "Dep. Variable:                     lw   R-squared:                       0.258\n",
        "Model:                            OLS   Adj. R-squared:                  0.257\n",
        "Method:                 Least Squares   F-statistic:                     262.9\n",
        "Date:                Mon, 29 Sep 2014   Prob (F-statistic):           5.71e-51\n",
        "Time:                        14:44:36   Log-Likelihood:                -2282.2\n",
        "No. Observations:                 758   AIC:                             4566.\n",
        "Df Residuals:                     757   BIC:                             4571.\n",
        "Df Model:                           1                                         \n",
        "==============================================================================\n",
        "                 coef    std err          t      P>|t|      [95.0% Conf. Int.]\n",
        "------------------------------------------------------------------------------\n",
        "rns            5.5811      0.344     16.214      0.000         4.905     6.257\n",
        "==============================================================================\n",
        "Omnibus:                      171.559   Durbin-Watson:                   0.087\n",
        "Prob(Omnibus):                  0.000   Jarque-Bera (JB):              150.755\n",
        "Skew:                          -1.005   Prob(JB):                     1.84e-33\n",
        "Kurtosis:                       2.144   Cond. No.                         1.00\n",
        "==============================================================================\n",
        "\tIndepent Variable: mrt\n",
        "\n",
        "                            OLS Regression Results                            \n",
        "==============================================================================\n",
        "Dep. Variable:                     lw   R-squared:                       0.534\n",
        "Model:                            OLS   Adj. R-squared:                  0.534\n",
        "Method:                 Least Squares   F-statistic:                     868.1\n",
        "Date:                Mon, 29 Sep 2014   Prob (F-statistic):          1.04e-127\n",
        "Time:                        14:44:36   Log-Likelihood:                -2105.7\n",
        "No. Observations:                 758   AIC:                             4213.\n",
        "Df Residuals:                     757   BIC:                             4218.\n",
        "Df Model:                           1                                         \n",
        "==============================================================================\n",
        "                 coef    std err          t      P>|t|      [95.0% Conf. Int.]\n",
        "------------------------------------------------------------------------------\n",
        "mrt            5.8108      0.197     29.463      0.000         5.424     6.198\n",
        "==============================================================================\n",
        "Omnibus:                        0.310   Durbin-Watson:                   1.016\n",
        "Prob(Omnibus):                  0.856   Jarque-Bera (JB):              115.911\n",
        "Skew:                           0.049   Prob(JB):                     6.76e-26\n",
        "Kurtosis:                       1.087   Cond. No.                         1.00\n",
        "=============================================================================="
       ]
      },
      {
       "output_type": "stream",
       "stream": "stdout",
       "text": [
        "\n",
        "\tIndepent Variable: smsa\n",
        "\n",
        "                            OLS Regression Results                            \n",
        "==============================================================================\n",
        "Dep. Variable:                     lw   R-squared:                       0.715\n",
        "Model:                            OLS   Adj. R-squared:                  0.715\n",
        "Method:                 Least Squares   F-statistic:                     1902.\n",
        "Date:                Mon, 29 Sep 2014   Prob (F-statistic):          1.01e-208\n",
        "Time:                        14:44:36   Log-Likelihood:                -1919.0\n",
        "No. Observations:                 758   AIC:                             3840.\n",
        "Df Residuals:                     757   BIC:                             3845.\n",
        "Df Model:                           1                                         \n",
        "==============================================================================\n",
        "                 coef    std err          t      P>|t|      [95.0% Conf. Int.]\n",
        "------------------------------------------------------------------------------\n",
        "smsa           5.7466      0.132     43.614      0.000         5.488     6.005\n",
        "==============================================================================\n",
        "Omnibus:                      415.254   Durbin-Watson:                   0.765\n",
        "Prob(Omnibus):                  0.000   Jarque-Bera (JB):              134.030\n",
        "Skew:                           0.859   Prob(JB):                     7.87e-30\n",
        "Kurtosis:                       1.863   Cond. No.                         1.00\n",
        "=============================================================================="
       ]
      },
      {
       "output_type": "stream",
       "stream": "stdout",
       "text": [
        "\n",
        "\tIndepent Variable: kww\n",
        "\n",
        "                            OLS Regression Results                            \n",
        "==============================================================================\n",
        "Dep. Variable:                     lw   R-squared:                       0.965\n",
        "Model:                            OLS   Adj. R-squared:                  0.965\n",
        "Method:                 Least Squares   F-statistic:                 2.118e+04\n",
        "Date:                Mon, 29 Sep 2014   Prob (F-statistic):               0.00\n",
        "Time:                        14:44:36   Log-Likelihood:                -1119.3\n",
        "No. Observations:                 758   AIC:                             2241.\n",
        "Df Residuals:                     757   BIC:                             2245.\n",
        "Df Model:                           1                                         \n",
        "==============================================================================\n",
        "                 coef    std err          t      P>|t|      [95.0% Conf. Int.]\n",
        "------------------------------------------------------------------------------\n",
        "kww            0.1503      0.001    145.530      0.000         0.148     0.152\n",
        "==============================================================================\n",
        "Omnibus:                        9.790   Durbin-Watson:                   1.829\n",
        "Prob(Omnibus):                  0.007   Jarque-Bera (JB):                9.924\n",
        "Skew:                           0.280   Prob(JB):                      0.00700\n",
        "Kurtosis:                       3.013   Cond. No.                         1.00\n",
        "=============================================================================="
       ]
      },
      {
       "output_type": "stream",
       "stream": "stdout",
       "text": [
        "\n",
        "\tIndepent Variable: expr\n",
        "\n",
        "                            OLS Regression Results                            \n",
        "==============================================================================\n",
        "Dep. Variable:                     lw   R-squared:                       0.409\n",
        "Model:                            OLS   Adj. R-squared:                  0.408\n",
        "Method:                 Least Squares   F-statistic:                     523.5\n",
        "Date:                Mon, 29 Sep 2014   Prob (F-statistic):           1.80e-88\n",
        "Time:                        14:44:36   Log-Likelihood:                -2196.0\n",
        "No. Observations:                 758   AIC:                             4394.\n",
        "Df Residuals:                     757   BIC:                             4399.\n",
        "Df Model:                           1                                         \n",
        "==============================================================================\n",
        "                 coef    std err          t      P>|t|      [95.0% Conf. Int.]\n",
        "------------------------------------------------------------------------------\n",
        "expr           1.3369      0.058     22.879      0.000         1.222     1.452\n",
        "==============================================================================\n",
        "Omnibus:                      218.323   Durbin-Watson:                   0.826\n",
        "Prob(Omnibus):                  0.000   Jarque-Bera (JB):              484.124\n",
        "Skew:                          -1.576   Prob(JB):                    7.48e-106\n",
        "Kurtosis:                       5.323   Cond. No.                         1.00\n",
        "=============================================================================="
       ]
      },
      {
       "output_type": "stream",
       "stream": "stdout",
       "text": [
        "\n"
       ]
      }
     ],
     "prompt_number": 11
    },
    {
     "cell_type": "heading",
     "level": 5,
     "metadata": {},
     "source": [
      "According to the above results, residency in the south (RNS), marital status (MRT), and residency in urban areas (SMSA) carry the largest (positive) coefficients amongst these variables.\n",
      "\n",
      "Knowledge of the world of work (KWW) and experience (EXPR) appear to have a smaller positive correlation than the other three variables mentioned.\n",
      "\n",
      "Does this make intuitive sense? Starting with the last two variable, KWW and EXPR, it does make sense that as this increases so do wages. Furthermore it would make sense that as knowledge/experience accrues among all workers over time, regardless of location/age, the effect would be less stark than other influences.\n",
      "\n",
      "Speaking of which, the other variables (RNS, MRT, and SMSA) deal in what might be considered more binary inputs; either you live in an urban area or you do not, you are in the south or your are not, married v. unmarried. Here too it makes sense that these variables would have an influence: urban areas tend to be more expensive, resulting in the need for higher wages to offset; the north of the United States tends to be both more urban and until recently more technologically sophisticated, requiring, perhaps, on average more highly skilled workers; and lastly, being married would appear to have an effect on whether one entered the work force, at what time."
     ]
    },
    {
     "cell_type": "code",
     "collapsed": false,
     "input": [
      "# e\n",
      "\n",
      "model = sm.OLS(df_Gril['lw'], df_Gril['s'])\n",
      "results = model.fit()\n",
      "print '\\tIndepent Variable: Schooling' +'\\n\\n', (results.summary())"
     ],
     "language": "python",
     "metadata": {},
     "outputs": [
      {
       "output_type": "stream",
       "stream": "stdout",
       "text": [
        "\tIndepent Variable: Schooling\n",
        "\n",
        "                            OLS Regression Results                            \n",
        "==============================================================================\n",
        "Dep. Variable:                     lw   R-squared:                       0.980\n",
        "Model:                            OLS   Adj. R-squared:                  0.980\n",
        "Method:                 Least Squares   F-statistic:                 3.673e+04\n",
        "Date:                Mon, 29 Sep 2014   Prob (F-statistic):               0.00\n",
        "Time:                        14:44:40   Log-Likelihood:                -916.23\n",
        "No. Observations:                 758   AIC:                             1834.\n",
        "Df Residuals:                     757   BIC:                             1839.\n",
        "Df Model:                           1                                         \n",
        "==============================================================================\n",
        "                 coef    std err          t      P>|t|      [95.0% Conf. Int.]\n",
        "------------------------------------------------------------------------------\n",
        "s              0.4154      0.002    191.644      0.000         0.411     0.420\n",
        "==============================================================================\n",
        "Omnibus:                       13.323   Durbin-Watson:                   1.796\n",
        "Prob(Omnibus):                  0.001   Jarque-Bera (JB):               13.278\n",
        "Skew:                          -0.298   Prob(JB):                      0.00131\n",
        "Kurtosis:                       2.745   Cond. No.                         1.00\n",
        "=============================================================================="
       ]
      },
      {
       "output_type": "stream",
       "stream": "stdout",
       "text": [
        "\n"
       ]
      }
     ],
     "prompt_number": 12
    },
    {
     "cell_type": "code",
     "collapsed": false,
     "input": [
      "# f\n",
      "\n",
      "df_MV = df_Gril[['rns', 'mrt', 'smsa', 'med', 'iq', 'kww', 'age', 's', 'expr']]\n",
      "\n",
      "model = sm.OLS(df_Gril['lw'], df_MV)\n",
      "results = model.fit()\n",
      "print '\\tmultivariate least squares model relating log wages' +'\\n\\n', (results.summary())"
     ],
     "language": "python",
     "metadata": {},
     "outputs": [
      {
       "output_type": "stream",
       "stream": "stdout",
       "text": [
        "\tmultivariate least squares model relating log wages\n",
        "\n",
        "                            OLS Regression Results                            \n",
        "==============================================================================\n",
        "Dep. Variable:                     lw   R-squared:                       0.993\n",
        "Model:                            OLS   Adj. R-squared:                  0.993\n",
        "Method:                 Least Squares   F-statistic:                 1.267e+04\n",
        "Date:                Mon, 29 Sep 2014   Prob (F-statistic):               0.00\n",
        "Time:                        14:44:42   Log-Likelihood:                -488.15\n",
        "No. Observations:                 758   AIC:                             994.3\n",
        "Df Residuals:                     749   BIC:                             1036.\n",
        "Df Model:                           9                                         \n",
        "==============================================================================\n",
        "                 coef    std err          t      P>|t|      [95.0% Conf. Int.]\n",
        "------------------------------------------------------------------------------\n",
        "rns            0.0484      0.038      1.261      0.208        -0.027     0.124\n",
        "mrt           -0.0611      0.038     -1.620      0.106        -0.135     0.013\n",
        "smsa           0.1774      0.038      4.687      0.000         0.103     0.252\n",
        "med            0.0301      0.007      4.592      0.000         0.017     0.043\n",
        "iq             0.0194      0.001     15.193      0.000         0.017     0.022\n",
        "kww           -0.0018      0.003     -0.643      0.520        -0.007     0.004\n",
        "age            0.1314      0.007     17.764      0.000         0.117     0.146\n",
        "s              0.0304      0.011      2.749      0.006         0.009     0.052\n",
        "expr          -0.0018      0.010     -0.175      0.861        -0.022     0.018\n",
        "==============================================================================\n",
        "Omnibus:                       30.933   Durbin-Watson:                   1.849\n",
        "Prob(Omnibus):                  0.000   Jarque-Bera (JB):               72.205\n",
        "Skew:                          -0.178   Prob(JB):                     2.09e-16\n",
        "Kurtosis:                       4.469   Cond. No.                         279.\n",
        "=============================================================================="
       ]
      },
      {
       "output_type": "stream",
       "stream": "stdout",
       "text": [
        "\n"
       ]
      }
     ],
     "prompt_number": 13
    },
    {
     "cell_type": "code",
     "collapsed": false,
     "input": [
      "# g\n",
      "\n",
      "df_Gril['agesq'] = df_Gril['age'] ** 2"
     ],
     "language": "python",
     "metadata": {},
     "outputs": [],
     "prompt_number": 14
    },
    {
     "cell_type": "code",
     "collapsed": false,
     "input": [
      "df_Gril[['age', 'agesq']].head()"
     ],
     "language": "python",
     "metadata": {},
     "outputs": [
      {
       "html": [
        "<div style=\"max-height:1000px;max-width:1500px;overflow:auto;\">\n",
        "<table border=\"1\" class=\"dataframe\">\n",
        "  <thead>\n",
        "    <tr style=\"text-align: right;\">\n",
        "      <th></th>\n",
        "      <th>age</th>\n",
        "      <th>agesq</th>\n",
        "    </tr>\n",
        "  </thead>\n",
        "  <tbody>\n",
        "    <tr>\n",
        "      <th>0</th>\n",
        "      <td> 19</td>\n",
        "      <td> 361</td>\n",
        "    </tr>\n",
        "    <tr>\n",
        "      <th>1</th>\n",
        "      <td> 23</td>\n",
        "      <td> 529</td>\n",
        "    </tr>\n",
        "    <tr>\n",
        "      <th>2</th>\n",
        "      <td> 20</td>\n",
        "      <td> 400</td>\n",
        "    </tr>\n",
        "    <tr>\n",
        "      <th>3</th>\n",
        "      <td> 18</td>\n",
        "      <td> 324</td>\n",
        "    </tr>\n",
        "    <tr>\n",
        "      <th>4</th>\n",
        "      <td> 26</td>\n",
        "      <td> 676</td>\n",
        "    </tr>\n",
        "  </tbody>\n",
        "</table>\n",
        "</div>"
       ],
       "metadata": {},
       "output_type": "pyout",
       "prompt_number": 15,
       "text": [
        "   age  agesq\n",
        "0   19    361\n",
        "1   23    529\n",
        "2   20    400\n",
        "3   18    324\n",
        "4   26    676"
       ]
      }
     ],
     "prompt_number": 15
    },
    {
     "cell_type": "code",
     "collapsed": false,
     "input": [
      "df_MV2 = df_Gril[['rns', 'mrt', 'smsa', 'med', 'iq', 'kww', 'agesq', 's', 'expr']]\n",
      "\n",
      "model = sm.OLS(df_Gril['lw'], df_MV2)\n",
      "results = model.fit()\n",
      "print '\\tmultivariate least squares model w/age squared' +'\\n\\n', (results.summary())"
     ],
     "language": "python",
     "metadata": {},
     "outputs": [
      {
       "output_type": "stream",
       "stream": "stdout",
       "text": [
        "\tmultivariate least squares model w/age squared\n",
        "\n",
        "                            OLS Regression Results                            \n",
        "==============================================================================\n",
        "Dep. Variable:                     lw   R-squared:                       0.991\n",
        "Model:                            OLS   Adj. R-squared:                  0.991\n",
        "Method:                 Least Squares   F-statistic:                     9105.\n",
        "Date:                Mon, 29 Sep 2014   Prob (F-statistic):               0.00\n",
        "Time:                        14:44:48   Log-Likelihood:                -612.35\n",
        "No. Observations:                 758   AIC:                             1243.\n",
        "Df Residuals:                     749   BIC:                             1284.\n",
        "Df Model:                           9                                         \n",
        "==============================================================================\n",
        "                 coef    std err          t      P>|t|      [95.0% Conf. Int.]\n",
        "------------------------------------------------------------------------------\n",
        "rns            0.1360      0.045      3.031      0.003         0.048     0.224\n",
        "mrt            0.0299      0.045      0.662      0.508        -0.059     0.118\n",
        "smsa           0.2075      0.045      4.658      0.000         0.120     0.295\n",
        "med            0.0398      0.008      5.163      0.000         0.025     0.055\n",
        "iq             0.0252      0.001     17.035      0.000         0.022     0.028\n",
        "kww            0.0100      0.003      3.136      0.002         0.004     0.016\n",
        "agesq          0.0009      0.000      4.253      0.000         0.000     0.001\n",
        "s              0.1080      0.013      8.549      0.000         0.083     0.133\n",
        "expr           0.0742      0.011      6.484      0.000         0.052     0.097\n",
        "==============================================================================\n",
        "Omnibus:                        8.922   Durbin-Watson:                   1.755\n",
        "Prob(Omnibus):                  0.012   Jarque-Bera (JB):               13.483\n",
        "Skew:                          -0.010   Prob(JB):                      0.00118\n",
        "Kurtosis:                       3.653   Cond. No.                     1.24e+03\n",
        "==============================================================================\n",
        "\n",
        "Warnings:\n",
        "[1] The condition number is large, 1.24e+03. This might indicate that there are\n",
        "strong multicollinearity or other numerical problems."
       ]
      },
      {
       "output_type": "stream",
       "stream": "stdout",
       "text": [
        "\n"
       ]
      }
     ],
     "prompt_number": 16
    },
    {
     "cell_type": "heading",
     "level": 5,
     "metadata": {},
     "source": [
      "# h\n",
      "\n",
      "Estimates to returns from schooling (S) vary between 'e' and 'f' above due to the elements in the OLS models. In one instance we are relating only schooling (S) to log wages (LW), while in the latter we are including additional inputs alongside schooling (S).\n",
      "\n",
      "With only one independent variable, S, we are open to overvaluing the input if other features that \"tag along\" with it are not included. For instance, S may be related to IQ and/or mother's education (MED); without taking these other variables into account, and to the extent that they influence LW in the same diretion, we will overstate the influence of S on LW."
     ]
    },
    {
     "cell_type": "heading",
     "level": 2,
     "metadata": {},
     "source": [
      "Problem 2"
     ]
    },
    {
     "cell_type": "code",
     "collapsed": false,
     "input": [
      "# DGP: y = B0 + B1(x1) + B2(x2) + e; e ~ N(0,1)\n",
      "# B0 = B1 = B2 = 1"
     ],
     "language": "python",
     "metadata": {},
     "outputs": [],
     "prompt_number": 17
    },
    {
     "cell_type": "code",
     "collapsed": false,
     "input": [
      "# a\n",
      "\n",
      "x1 = np.random.normal(0,1,10000)\n",
      "x2 = np.random.normal(0,1,10000)\n",
      "e = np.random.normal(0,1,10000)\n",
      "\n",
      "# I anticipated B1 to be close to a flat slope, \n",
      "# however I am consistently getting a number closer to 1.\n",
      "# This happens regardless of whether I include x2 or not, below.\n",
      "\n",
      "y = 1 + (x1) + x2 + e\n",
      "\n",
      "fit = polyfit(x1,y,1)\n",
      "fit_fn = poly1d(fit) \n",
      "\n",
      "m,b = polyfit(x1,y,1)\n",
      "\n",
      "plot(x1,y, 'yo', x1, fit_fn(x1), '--k')\n",
      "xlim(0, 10)\n",
      "ylim(0, 10)\n",
      "\n",
      "print 'm = ' + str(m) + '; and b = ' + str(b)"
     ],
     "language": "python",
     "metadata": {},
     "outputs": [
      {
       "output_type": "stream",
       "stream": "stdout",
       "text": [
        "m = 1.0156881248; and b = 1.00275752066\n"
       ]
      },
      {
       "metadata": {},
       "output_type": "display_data",
       "png": "[encoded data removed]",
       "text": [
        "<matplotlib.figure.Figure at 0xab3349cc>"
       ]
      }
     ],
     "prompt_number": 18
    },
    {
     "cell_type": "code",
     "collapsed": false,
     "input": [
      "# b\n",
      "\n",
      "z = np.random.normal(0,1,10000)\n",
      "v = np.random.normal(0,1,10000)\n",
      "w = np.random.normal(0,1,10000)\n",
      "\n",
      "x1 = z + v\n",
      "x2 = -z + w\n",
      "\n",
      "y = 1 + (x1) + x2 + e\n",
      "\n",
      "# here in fact B1 is getting flatter\n",
      "\n",
      "fit = polyfit(x1,y,1)\n",
      "fit_fn = poly1d(fit) \n",
      "\n",
      "m,b = polyfit(x1,y,1)\n",
      "\n",
      "plot(x1,y, 'yo', x1, fit_fn(x1), '--k')\n",
      "xlim(0, 10)\n",
      "ylim(0, 10)\n",
      "\n",
      "print 'm = ' + str(m) + '; and b = ' + str(b)"
     ],
     "language": "python",
     "metadata": {},
     "outputs": [
      {
       "output_type": "stream",
       "stream": "stdout",
       "text": [
        "m = 0.494831001762; and b = 1.01572589204\n"
       ]
      },
      {
       "metadata": {},
       "output_type": "display_data",
       "png": "[encoded data removed]",
       "text": [
        "<matplotlib.figure.Figure at 0xab34af4c>"
       ]
      }
     ],
     "prompt_number": 19
    },
    {
     "cell_type": "heading",
     "level": 5,
     "metadata": {},
     "source": [
      "# c\n",
      "\n",
      "'You have not included everything in the world that's relevant.' \n",
      "\n",
      "Fair objection, I would ask what if any specific attribute you had in mind, what matter experts I can contact, and remind you that all models are wrong... \n",
      "\n",
      "The point, I believe, is to find the most relevant features that we can measure and compare our models against previous data sets to help inform the effectiveness of their predictions. "
     ]
    },
    {
     "cell_type": "heading",
     "level": 2,
     "metadata": {},
     "source": [
      "Problem 3"
     ]
    },
    {
     "cell_type": "code",
     "collapsed": false,
     "input": [
      "# a\n",
      "\n",
      "df_union = pandas.io.stata.read_stata('union.dta', convert_dates=True)\n",
      "df_union.head()"
     ],
     "language": "python",
     "metadata": {},
     "outputs": [
      {
       "html": [
        "<div style=\"max-height:1000px;max-width:1500px;overflow:auto;\">\n",
        "<table border=\"1\" class=\"dataframe\">\n",
        "  <thead>\n",
        "    <tr style=\"text-align: right;\">\n",
        "      <th></th>\n",
        "      <th>idcode</th>\n",
        "      <th>year</th>\n",
        "      <th>age</th>\n",
        "      <th>grade</th>\n",
        "      <th>south</th>\n",
        "      <th>union</th>\n",
        "      <th>black</th>\n",
        "      <th>smsa</th>\n",
        "    </tr>\n",
        "  </thead>\n",
        "  <tbody>\n",
        "    <tr>\n",
        "      <th>0</th>\n",
        "      <td>  308</td>\n",
        "      <td> 70</td>\n",
        "      <td> 19</td>\n",
        "      <td> 12</td>\n",
        "      <td> 0</td>\n",
        "      <td> 0</td>\n",
        "      <td> 0</td>\n",
        "      <td> 1</td>\n",
        "    </tr>\n",
        "    <tr>\n",
        "      <th>1</th>\n",
        "      <td> 5113</td>\n",
        "      <td> 70</td>\n",
        "      <td> 22</td>\n",
        "      <td> 16</td>\n",
        "      <td> 1</td>\n",
        "      <td> 0</td>\n",
        "      <td> 0</td>\n",
        "      <td> 1</td>\n",
        "    </tr>\n",
        "    <tr>\n",
        "      <th>2</th>\n",
        "      <td> 4836</td>\n",
        "      <td> 70</td>\n",
        "      <td> 17</td>\n",
        "      <td> 12</td>\n",
        "      <td> 0</td>\n",
        "      <td> 1</td>\n",
        "      <td> 1</td>\n",
        "      <td> 1</td>\n",
        "    </tr>\n",
        "    <tr>\n",
        "      <th>3</th>\n",
        "      <td> 1468</td>\n",
        "      <td> 70</td>\n",
        "      <td> 20</td>\n",
        "      <td> 12</td>\n",
        "      <td> 0</td>\n",
        "      <td> 0</td>\n",
        "      <td> 0</td>\n",
        "      <td> 1</td>\n",
        "    </tr>\n",
        "    <tr>\n",
        "      <th>4</th>\n",
        "      <td> 3989</td>\n",
        "      <td> 70</td>\n",
        "      <td> 25</td>\n",
        "      <td> 12</td>\n",
        "      <td> 0</td>\n",
        "      <td> 0</td>\n",
        "      <td> 0</td>\n",
        "      <td> 0</td>\n",
        "    </tr>\n",
        "  </tbody>\n",
        "</table>\n",
        "</div>"
       ],
       "metadata": {},
       "output_type": "pyout",
       "prompt_number": 20,
       "text": [
        "   idcode  year  age  grade  south  union  black  smsa\n",
        "0     308    70   19     12      0      0      0     1\n",
        "1    5113    70   22     16      1      0      0     1\n",
        "2    4836    70   17     12      0      1      1     1\n",
        "3    1468    70   20     12      0      0      0     1\n",
        "4    3989    70   25     12      0      0      0     0"
       ]
      }
     ],
     "prompt_number": 20
    },
    {
     "cell_type": "code",
     "collapsed": false,
     "input": [
      "# b\n",
      "\n",
      "df_union70 = df_union[(df_union['year'] >= 70) & (df_union['year'] <= 78)]"
     ],
     "language": "python",
     "metadata": {},
     "outputs": [],
     "prompt_number": 21
    },
    {
     "cell_type": "code",
     "collapsed": false,
     "input": [
      "model = sm.OLS(df_union70['union'], df_union70[['year', 'age', 'grade', 'south', 'black', 'smsa']])\n",
      "olsres = model.fit()\n",
      "print '\\tUnion - Linear (Years: 70 - 78)\\n\\n', (olsres.summary())"
     ],
     "language": "python",
     "metadata": {},
     "outputs": [
      {
       "output_type": "stream",
       "stream": "stdout",
       "text": [
        "\tUnion - Linear (Years: 70 - 78)\n",
        "\n",
        "                            OLS Regression Results                            \n",
        "==============================================================================\n",
        "Dep. Variable:                  union   R-squared:                      27.296\n",
        "Model:                            OLS   Adj. R-squared:                 27.309\n",
        "Method:                 Least Squares   F-statistic:                    -2097.\n",
        "Date:                Mon, 29 Sep 2014   Prob (F-statistic):               1.00\n",
        "Time:                        14:45:12   Log-Likelihood:                -5946.9\n",
        "No. Observations:               12129   AIC:                         1.191e+04\n",
        "Df Residuals:                   12123   BIC:                         1.195e+04\n",
        "Df Model:                           6                                         \n",
        "==============================================================================\n",
        "                 coef    std err          t      P>|t|      [95.0% Conf. Int.]\n",
        "------------------------------------------------------------------------------\n",
        "year           0.0004      0.000      0.870      0.385        -0.001     0.001\n",
        "age            0.0025      0.001      2.296      0.022         0.000     0.005\n",
        "grade          0.0104      0.002      6.306      0.000         0.007     0.014\n",
        "south         -0.1505      0.008    -19.367      0.000        -0.166    -0.135\n",
        "black          0.1225      0.009     14.330      0.000         0.106     0.139\n",
        "smsa           0.0123      0.008      1.486      0.137        -0.004     0.029\n",
        "==============================================================================\n",
        "Omnibus:                     2244.134   Durbin-Watson:                   2.001\n",
        "Prob(Omnibus):                  0.000   Jarque-Bera (JB):             3781.728\n",
        "Skew:                           1.366   Prob(JB):                         0.00\n",
        "Kurtosis:                       3.119   Cond. No.                         214.\n",
        "=============================================================================="
       ]
      },
      {
       "output_type": "stream",
       "stream": "stdout",
       "text": [
        "\n"
       ]
      }
     ],
     "prompt_number": 22
    },
    {
     "cell_type": "code",
     "collapsed": false,
     "input": [
      "logit = sm.Logit(df_union70['union'], df_union70[['year', 'age', 'grade', 'south', 'black', 'smsa']])\n",
      "logres = logit.fit()\n",
      "print '\\tUnion - Logit (Years: 70 - 78)\\n\\n', logres.summary()"
     ],
     "language": "python",
     "metadata": {},
     "outputs": [
      {
       "output_type": "stream",
       "stream": "stdout",
       "text": [
        "Optimization terminated successfully.\n",
        "         Current function value: 0.484985\n",
        "         Iterations 6\n",
        "\tUnion - Logit (Years: 70 - 78)\n",
        "\n",
        "                           Logit Regression Results                           \n",
        "==============================================================================\n",
        "Dep. Variable:                  union   No. Observations:                12129\n",
        "Model:                          Logit   Df Residuals:                    12123\n",
        "Method:                           MLE   Df Model:                            5\n",
        "Date:                Mon, 29 Sep 2014   Pseudo R-squ.:                 0.04423\n",
        "Time:                        14:45:13   Log-Likelihood:                -5882.4\n",
        "converged:                       True   LL-Null:                       -6154.6\n",
        "                                        LLR p-value:                2.010e-115\n",
        "==============================================================================\n",
        "                 coef    std err          z      P>|z|      [95.0% Conf. Int.]\n",
        "------------------------------------------------------------------------------\n",
        "year          -0.0384      0.003    -12.503      0.000        -0.044    -0.032\n",
        "age            0.0316      0.007      4.491      0.000         0.018     0.045\n",
        "grade          0.0623      0.011      5.728      0.000         0.041     0.084\n",
        "south         -1.0348      0.055    -18.811      0.000        -1.143    -0.927\n",
        "black          0.7768      0.054     14.385      0.000         0.671     0.883\n",
        "smsa           0.0474      0.056      0.851      0.395        -0.062     0.157\n",
        "=============================================================================="
       ]
      },
      {
       "output_type": "stream",
       "stream": "stdout",
       "text": [
        "\n"
       ]
      }
     ],
     "prompt_number": 23
    },
    {
     "cell_type": "code",
     "collapsed": false,
     "input": [
      "# c\n",
      "df_union80 = df_union[(df_union['year'] >= 80) & (df_union['year'] <= 88)]"
     ],
     "language": "python",
     "metadata": {},
     "outputs": [],
     "prompt_number": 24
    },
    {
     "cell_type": "code",
     "collapsed": false,
     "input": [
      "df_union80.head()"
     ],
     "language": "python",
     "metadata": {},
     "outputs": [
      {
       "html": [
        "<div style=\"max-height:1000px;max-width:1500px;overflow:auto;\">\n",
        "<table border=\"1\" class=\"dataframe\">\n",
        "  <thead>\n",
        "    <tr style=\"text-align: right;\">\n",
        "      <th></th>\n",
        "      <th>idcode</th>\n",
        "      <th>year</th>\n",
        "      <th>age</th>\n",
        "      <th>grade</th>\n",
        "      <th>south</th>\n",
        "      <th>union</th>\n",
        "      <th>black</th>\n",
        "      <th>smsa</th>\n",
        "    </tr>\n",
        "  </thead>\n",
        "  <tbody>\n",
        "    <tr>\n",
        "      <th>12129</th>\n",
        "      <td> 2491</td>\n",
        "      <td> 80</td>\n",
        "      <td> 27</td>\n",
        "      <td> 12</td>\n",
        "      <td> 1</td>\n",
        "      <td> 1</td>\n",
        "      <td> 1</td>\n",
        "      <td> 1</td>\n",
        "    </tr>\n",
        "    <tr>\n",
        "      <th>12130</th>\n",
        "      <td> 3318</td>\n",
        "      <td> 80</td>\n",
        "      <td> 33</td>\n",
        "      <td> 17</td>\n",
        "      <td> 1</td>\n",
        "      <td> 1</td>\n",
        "      <td> 0</td>\n",
        "      <td> 1</td>\n",
        "    </tr>\n",
        "    <tr>\n",
        "      <th>12131</th>\n",
        "      <td> 3945</td>\n",
        "      <td> 80</td>\n",
        "      <td> 28</td>\n",
        "      <td> 12</td>\n",
        "      <td> 1</td>\n",
        "      <td> 1</td>\n",
        "      <td> 0</td>\n",
        "      <td> 1</td>\n",
        "    </tr>\n",
        "    <tr>\n",
        "      <th>12132</th>\n",
        "      <td> 4083</td>\n",
        "      <td> 80</td>\n",
        "      <td> 31</td>\n",
        "      <td> 13</td>\n",
        "      <td> 0</td>\n",
        "      <td> 0</td>\n",
        "      <td> 0</td>\n",
        "      <td> 1</td>\n",
        "    </tr>\n",
        "    <tr>\n",
        "      <th>12133</th>\n",
        "      <td> 4195</td>\n",
        "      <td> 80</td>\n",
        "      <td> 28</td>\n",
        "      <td> 17</td>\n",
        "      <td> 0</td>\n",
        "      <td> 1</td>\n",
        "      <td> 0</td>\n",
        "      <td> 0</td>\n",
        "    </tr>\n",
        "  </tbody>\n",
        "</table>\n",
        "</div>"
       ],
       "metadata": {},
       "output_type": "pyout",
       "prompt_number": 25,
       "text": [
        "       idcode  year  age  grade  south  union  black  smsa\n",
        "12129    2491    80   27     12      1      1      1     1\n",
        "12130    3318    80   33     17      1      1      0     1\n",
        "12131    3945    80   28     12      1      1      0     1\n",
        "12132    4083    80   31     13      0      0      0     1\n",
        "12133    4195    80   28     17      0      1      0     0"
       ]
      }
     ],
     "prompt_number": 25
    },
    {
     "cell_type": "code",
     "collapsed": false,
     "input": [
      "Xtest = df_union80[['year', 'age', 'grade', 'south', 'black', 'smsa']]\n",
      "UnionPredOLS = olsres.predict(Xtest)\n",
      "UnionPredOLS"
     ],
     "language": "python",
     "metadata": {},
     "outputs": [
      {
       "metadata": {},
       "output_type": "pyout",
       "prompt_number": 26,
       "text": [
        "array([ 0.20998138,  0.15462357,  0.08994883, ...,  0.25898474,\n",
        "        0.25647968,  0.32636681], dtype=float32)"
       ]
      }
     ],
     "prompt_number": 26
    },
    {
     "cell_type": "code",
     "collapsed": false,
     "input": [
      "count = 0\n",
      "for i in UnionPredOLS:\n",
      "    if i >= 0.25:\n",
      "        count += 1\n",
      "print 'OLS Union Prediction Count (threshold = 0.25): ' + str(count)"
     ],
     "language": "python",
     "metadata": {},
     "outputs": [
      {
       "output_type": "stream",
       "stream": "stdout",
       "text": [
        "OLS Union Prediction Count (threshold = 0.25): 7183\n"
       ]
      }
     ],
     "prompt_number": 27
    },
    {
     "cell_type": "code",
     "collapsed": false,
     "input": [
      "UnionPredLOG = logres.predict(Xtest)\n",
      "UnionPredLOG"
     ],
     "language": "python",
     "metadata": {},
     "outputs": [
      {
       "metadata": {},
       "output_type": "pyout",
       "prompt_number": 28,
       "text": [
        "array([ 0.15646486,  0.12337809,  0.08091505, ...,  0.1973951 ,\n",
        "        0.19244051,  0.25418537])"
       ]
      }
     ],
     "prompt_number": 28
    },
    {
     "cell_type": "code",
     "collapsed": false,
     "input": [
      "count = 0\n",
      "for i in UnionPredLOG:\n",
      "    if i >= 0.25:\n",
      "        count += 1\n",
      "print 'Logit Union Prediction Count (threshold = 0.25): ' + str(count)"
     ],
     "language": "python",
     "metadata": {},
     "outputs": [
      {
       "output_type": "stream",
       "stream": "stdout",
       "text": [
        "Logit Union Prediction Count (threshold = 0.25): 2608\n"
       ]
      }
     ],
     "prompt_number": 29
    },
    {
     "cell_type": "code",
     "collapsed": false,
     "input": [
      "# actual number of union members, 1980 - 1989\n",
      "\n",
      "len(df_union80[(df_union80['union'] == 1)])"
     ],
     "language": "python",
     "metadata": {},
     "outputs": [
      {
       "metadata": {},
       "output_type": "pyout",
       "prompt_number": 30,
       "text": [
        "3323"
       ]
      }
     ],
     "prompt_number": 30
    },
    {
     "cell_type": "code",
     "collapsed": false,
     "input": [
      "# d\n",
      "\n",
      "olscount = 0\n",
      "for i in UnionPredOLS:\n",
      "    if i >= 0.2:\n",
      "        olscount += 1\n",
      "print 'OLS Union Prediction Count (threshold = 0.2): ' + str(olscount)\n",
      "\n",
      "logcount = 0\n",
      "for i in UnionPredLOG:\n",
      "    if i >= 0.2:\n",
      "        logcount += 1\n",
      "print 'Logit Union Prediction Count (threshold = 0.2): ' + str(logcount)"
     ],
     "language": "python",
     "metadata": {},
     "outputs": [
      {
       "output_type": "stream",
       "stream": "stdout",
       "text": [
        "OLS Union Prediction Count (threshold = 0.2): 10192\n",
        "Logit Union Prediction Count (threshold = 0.2): 6668\n"
       ]
      }
     ],
     "prompt_number": 31
    },
    {
     "cell_type": "code",
     "collapsed": false,
     "input": [
      "print '\\tPredicted Union Members \\tActual Union Members'\n",
      "print 'Linear \\t10192 \\t\\t\\t\\t3323'\n",
      "print 'Logit \\t6668 \\t\\t\\t\\t3323'"
     ],
     "language": "python",
     "metadata": {},
     "outputs": [
      {
       "output_type": "stream",
       "stream": "stdout",
       "text": [
        "\tPredicted Union Members \tActual Union Members\n",
        "Linear \t10192 \t\t\t\t3323\n",
        "Logit \t6668 \t\t\t\t3323\n"
       ]
      }
     ],
     "prompt_number": 32
    },
    {
     "cell_type": "code",
     "collapsed": false,
     "input": [],
     "language": "python",
     "metadata": {},
     "outputs": []
    }
   ],
   "metadata": {}
  }
 ]
}