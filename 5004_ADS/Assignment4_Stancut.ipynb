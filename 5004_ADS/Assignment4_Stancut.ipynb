{
 "cells": [
  {
   "cell_type": "code",
   "execution_count": 1,
   "metadata": {
    "collapsed": false
   },
   "outputs": [],
   "source": [
    "import numpy as np\n",
    "import pandas as pd\n",
    "from pandas import DataFrame, Series\n",
    "import matplotlib.pyplot as plt"
   ]
  },
  {
   "cell_type": "code",
   "execution_count": 2,
   "metadata": {
    "collapsed": false
   },
   "outputs": [],
   "source": [
    "%matplotlib inline"
   ]
  },
  {
   "cell_type": "markdown",
   "metadata": {},
   "source": [
    "# Problem 1 - Markov Transition Matrices"
   ]
  },
  {
   "cell_type": "code",
   "execution_count": 3,
   "metadata": {
    "collapsed": false
   },
   "outputs": [
    {
     "data": {
      "text/plain": [
       "matrix([[ 0.5 ,  0.5 ,  0.  ],\n",
       "        [ 0.25,  0.5 ,  0.25],\n",
       "        [ 0.  ,  0.5 ,  0.5 ]])"
      ]
     },
     "execution_count": 3,
     "metadata": {},
     "output_type": "execute_result"
    }
   ],
   "source": [
    "# a\n",
    "\n",
    "MT_a = np.matrix('.5, .5, 0; .25, .5, .25; 0, .5, .5')\n",
    "MT_a"
   ]
  },
  {
   "cell_type": "code",
   "execution_count": 4,
   "metadata": {
    "collapsed": false
   },
   "outputs": [
    {
     "name": "stdout",
     "output_type": "stream",
     "text": [
      "2 steps ahead\n",
      "[[ 0.375  0.5    0.125]\n",
      " [ 0.25   0.5    0.25 ]\n",
      " [ 0.125  0.5    0.375]]\n",
      "\n",
      "5 steps ahead\n",
      "[[ 0.265625  0.5       0.234375]\n",
      " [ 0.25      0.5       0.25    ]\n",
      " [ 0.234375  0.5       0.265625]]\n",
      "\n",
      "10 steps ahead\n",
      "[[ 0.25048828  0.5         0.24951172]\n",
      " [ 0.25        0.5         0.25      ]\n",
      " [ 0.24951172  0.5         0.25048828]]\n",
      "\n",
      "25 steps ahead\n",
      "[[ 0.25000001  0.5         0.24999999]\n",
      " [ 0.25        0.5         0.25      ]\n",
      " [ 0.24999999  0.5         0.25000001]]\n",
      "\n"
     ]
    }
   ],
   "source": [
    "steps_a = [2, 5, 10, 25]\n",
    "\n",
    "for i in steps_a:\n",
    "    print '%s steps ahead' % str(i)\n",
    "    print MT_a ** i\n",
    "    print ''"
   ]
  },
  {
   "cell_type": "code",
   "execution_count": 5,
   "metadata": {
    "collapsed": false
   },
   "outputs": [
    {
     "data": {
      "text/plain": [
       "matrix([[ 1.  ,  0.  ,  0.  ],\n",
       "        [ 0.25,  0.5 ,  0.25],\n",
       "        [ 0.  ,  0.  ,  1.  ]])"
      ]
     },
     "execution_count": 5,
     "metadata": {},
     "output_type": "execute_result"
    }
   ],
   "source": [
    "# b - 'absorbing states'\n",
    "\n",
    "MT_b = np.matrix('1, 0, 0; .25, .5, .25; 0, 0, 1')\n",
    "MT_b"
   ]
  },
  {
   "cell_type": "code",
   "execution_count": 6,
   "metadata": {
    "collapsed": false
   },
   "outputs": [
    {
     "name": "stdout",
     "output_type": "stream",
     "text": [
      "2 steps ahead\n",
      "[[ 1.     0.     0.   ]\n",
      " [ 0.375  0.25   0.375]\n",
      " [ 0.     0.     1.   ]]\n",
      "\n",
      "5 steps ahead\n",
      "[[ 1.        0.        0.      ]\n",
      " [ 0.484375  0.03125   0.484375]\n",
      " [ 0.        0.        1.      ]]\n",
      "\n",
      "10 steps ahead\n",
      "[[  1.00000000e+00   0.00000000e+00   0.00000000e+00]\n",
      " [  4.99511719e-01   9.76562500e-04   4.99511719e-01]\n",
      " [  0.00000000e+00   0.00000000e+00   1.00000000e+00]]\n",
      "\n",
      "25 steps ahead\n",
      "[[  1.00000000e+00   0.00000000e+00   0.00000000e+00]\n",
      " [  4.99999985e-01   2.98023224e-08   4.99999985e-01]\n",
      " [  0.00000000e+00   0.00000000e+00   1.00000000e+00]]\n",
      "\n"
     ]
    }
   ],
   "source": [
    "steps_b = [2, 5, 10, 25]\n",
    "\n",
    "for i in steps_b:\n",
    "    print '%s steps ahead' % str(i)\n",
    "    print MT_b ** i\n",
    "    print ''"
   ]
  },
  {
   "cell_type": "markdown",
   "metadata": {},
   "source": [
    "##### If you start the rat in Room B, in the limit, you can say probabilistically the rat will end up staying in Room B"
   ]
  },
  {
   "cell_type": "code",
   "execution_count": 7,
   "metadata": {
    "collapsed": false
   },
   "outputs": [
    {
     "data": {
      "text/plain": [
       "matrix([[ 1.  ,  0.  ,  0.  ,  0.  ,  0.  ],\n",
       "        [ 0.25,  0.5 ,  0.25,  0.  ,  0.  ],\n",
       "        [ 0.  ,  0.25,  0.5 ,  0.25,  0.  ],\n",
       "        [ 0.  ,  0.  ,  0.25,  0.5 ,  0.25],\n",
       "        [ 0.  ,  0.  ,  0.  ,  0.5 ,  0.5 ]])"
      ]
     },
     "execution_count": 7,
     "metadata": {},
     "output_type": "execute_result"
    }
   ],
   "source": [
    "# c\n",
    "\n",
    "MT_c = np.matrix('1,0,0,0,0; .25,.5,.25,0,0; 0,.25,.5,.25,0; 0,0,.25,.5, .25; 0,0,0,.5,.5')\n",
    "MT_c"
   ]
  },
  {
   "cell_type": "code",
   "execution_count": 8,
   "metadata": {
    "collapsed": false
   },
   "outputs": [
    {
     "name": "stdout",
     "output_type": "stream",
     "text": [
      "2 steps ahead\n",
      "[[ 1.      0.      0.      0.      0.    ]\n",
      " [ 0.375   0.3125  0.25    0.0625  0.    ]\n",
      " [ 0.0625  0.25    0.375   0.25    0.0625]\n",
      " [ 0.      0.0625  0.25    0.4375  0.25  ]\n",
      " [ 0.      0.      0.125   0.5     0.375 ]]\n",
      "\n",
      "5 steps ahead\n",
      "[[ 1.          0.          0.          0.          0.        ]\n",
      " [ 0.54882812  0.12890625  0.16210938  0.1171875   0.04296875]\n",
      " [ 0.2265625   0.16210938  0.24609375  0.24804688  0.1171875 ]\n",
      " [ 0.06640625  0.1171875   0.24804688  0.36328125  0.20507812]\n",
      " [ 0.0234375   0.0859375   0.234375    0.41015625  0.24609375]]\n",
      "\n",
      "10 steps ahead\n",
      "[[ 1.          0.          0.          0.          0.        ]\n",
      " [ 0.66509247  0.06032181  0.09992981  0.11551285  0.05914307]\n",
      " [ 0.39050674  0.09992981  0.17583466  0.21821594  0.11551285]\n",
      " [ 0.21585083  0.11551285  0.21821594  0.2913475   0.15907288]\n",
      " [ 0.15670776  0.11828613  0.2310257   0.31814575  0.17583466]]\n",
      "\n",
      "25 steps ahead\n",
      "[[ 1.          0.          0.          0.          0.        ]\n",
      " [ 0.81765421  0.02779725  0.05131724  0.06698991  0.03624139]\n",
      " [ 0.66310567  0.05131724  0.09478716  0.12380001  0.06698991]\n",
      " [ 0.55987437  0.06698991  0.12380001  0.16177707  0.08755863]\n",
      " [ 0.52363299  0.07248277  0.13397982  0.17511726  0.09478716]]\n",
      "\n",
      "50 steps ahead\n",
      "[[ 1.          0.          0.          0.          0.        ]\n",
      " [ 0.93089462  0.01052067  0.01943966  0.02539913  0.01374591]\n",
      " [ 0.87230992  0.01943966  0.03591981  0.04693148  0.02539913]\n",
      " [ 0.83316487  0.02539913  0.04693148  0.06131894  0.03318557]\n",
      " [ 0.81941896  0.02749182  0.05079827  0.06637114  0.03591981]]\n",
      "\n",
      "100 steps ahead\n",
      "[[ 1.          0.          0.          0.          0.        ]\n",
      " [ 0.99007099  0.0015116   0.00279307  0.00364933  0.001975  ]\n",
      " [ 0.98165359  0.00279307  0.00516093  0.00674308  0.00364933]\n",
      " [ 0.97602926  0.00364933  0.00674308  0.00881026  0.00476808]\n",
      " [ 0.97405426  0.00395     0.00729866  0.00953615  0.00516093]]\n",
      "\n",
      "1000 steps ahead\n",
      "[[  1.00000000e+00   0.00000000e+00   0.00000000e+00   0.00000000e+00\n",
      "    0.00000000e+00]\n",
      " [  1.00000000e+00   1.02926692e-18   1.90183728e-18   2.48487015e-18\n",
      "    1.34480204e-18]\n",
      " [  1.00000000e+00   1.90183728e-18   3.51413707e-18   4.59144135e-18\n",
      "    2.48487015e-18]\n",
      " [  1.00000000e+00   2.48487015e-18   4.59144135e-18   5.99900722e-18\n",
      "    3.24663931e-18]\n",
      " [  1.00000000e+00   2.68960407e-18   4.96974031e-18   6.49327863e-18\n",
      "    3.51413707e-18]]\n",
      "\n"
     ]
    }
   ],
   "source": [
    "steps_c = [2, 5, 10, 25, 50, 100, 1000]\n",
    "\n",
    "for i in steps_c:\n",
    "    print '%s steps ahead' % str(i)\n",
    "    print MT_c ** i\n",
    "    print ''"
   ]
  },
  {
   "cell_type": "markdown",
   "metadata": {},
   "source": [
    "##### If you start the rat in Room C in the maze, in the limit, it will end up in Room A."
   ]
  },
  {
   "cell_type": "markdown",
   "metadata": {},
   "source": [
    "# Problem 2 - NLSW"
   ]
  },
  {
   "cell_type": "code",
   "execution_count": 9,
   "metadata": {
    "collapsed": false
   },
   "outputs": [
    {
     "data": {
      "text/html": [
       "<div style=\"max-height:1000px;max-width:1500px;overflow:auto;\">\n",
       "<table border=\"1\" class=\"dataframe\">\n",
       "  <thead>\n",
       "    <tr style=\"text-align: right;\">\n",
       "      <th></th>\n",
       "      <th>idcode</th>\n",
       "      <th>year</th>\n",
       "      <th>age</th>\n",
       "      <th>grade</th>\n",
       "      <th>south</th>\n",
       "      <th>union</th>\n",
       "      <th>black</th>\n",
       "      <th>smsa</th>\n",
       "      <th>prior_union</th>\n",
       "    </tr>\n",
       "  </thead>\n",
       "  <tbody>\n",
       "    <tr>\n",
       "      <th>0</th>\n",
       "      <td> 1</td>\n",
       "      <td> 87</td>\n",
       "      <td> 35</td>\n",
       "      <td> 12</td>\n",
       "      <td> 0</td>\n",
       "      <td> 1</td>\n",
       "      <td> 1</td>\n",
       "      <td> 1</td>\n",
       "      <td> 1</td>\n",
       "    </tr>\n",
       "    <tr>\n",
       "      <th>1</th>\n",
       "      <td> 1</td>\n",
       "      <td> 83</td>\n",
       "      <td> 31</td>\n",
       "      <td> 12</td>\n",
       "      <td> 0</td>\n",
       "      <td> 1</td>\n",
       "      <td> 1</td>\n",
       "      <td> 1</td>\n",
       "      <td> 1</td>\n",
       "    </tr>\n",
       "    <tr>\n",
       "      <th>2</th>\n",
       "      <td> 1</td>\n",
       "      <td> 77</td>\n",
       "      <td> 25</td>\n",
       "      <td> 12</td>\n",
       "      <td> 0</td>\n",
       "      <td> 0</td>\n",
       "      <td> 1</td>\n",
       "      <td> 1</td>\n",
       "      <td> 1</td>\n",
       "    </tr>\n",
       "    <tr>\n",
       "      <th>3</th>\n",
       "      <td> 1</td>\n",
       "      <td> 88</td>\n",
       "      <td> 37</td>\n",
       "      <td> 12</td>\n",
       "      <td> 0</td>\n",
       "      <td> 1</td>\n",
       "      <td> 1</td>\n",
       "      <td> 1</td>\n",
       "      <td> 0</td>\n",
       "    </tr>\n",
       "    <tr>\n",
       "      <th>4</th>\n",
       "      <td> 1</td>\n",
       "      <td> 85</td>\n",
       "      <td> 33</td>\n",
       "      <td> 12</td>\n",
       "      <td> 0</td>\n",
       "      <td> 1</td>\n",
       "      <td> 1</td>\n",
       "      <td> 1</td>\n",
       "      <td> 1</td>\n",
       "    </tr>\n",
       "  </tbody>\n",
       "</table>\n",
       "</div>"
      ],
      "text/plain": [
       "   idcode  year  age  grade  south  union  black  smsa  prior_union\n",
       "0       1    87   35     12      0      1      1     1            1\n",
       "1       1    83   31     12      0      1      1     1            1\n",
       "2       1    77   25     12      0      0      1     1            1\n",
       "3       1    88   37     12      0      1      1     1            0\n",
       "4       1    85   33     12      0      1      1     1            1"
      ]
     },
     "execution_count": 9,
     "metadata": {},
     "output_type": "execute_result"
    }
   ],
   "source": [
    "# a; using 'PU' as shorthand for 'prior_union'\n",
    "\n",
    "df_PUa = pd.io.stata.read_stata('union_pred.dta', convert_dates=True)\n",
    "df_PUa.head()"
   ]
  },
  {
   "cell_type": "code",
   "execution_count": 10,
   "metadata": {
    "collapsed": false
   },
   "outputs": [
    {
     "data": {
      "text/html": [
       "<div style=\"max-height:1000px;max-width:1500px;overflow:auto;\">\n",
       "<table border=\"1\" class=\"dataframe\">\n",
       "  <thead>\n",
       "    <tr style=\"text-align: right;\">\n",
       "      <th></th>\n",
       "      <th></th>\n",
       "      <th>idcode</th>\n",
       "      <th>year</th>\n",
       "      <th>age</th>\n",
       "      <th>grade</th>\n",
       "      <th>south</th>\n",
       "      <th>black</th>\n",
       "      <th>smsa</th>\n",
       "    </tr>\n",
       "    <tr>\n",
       "      <th>union</th>\n",
       "      <th>prior_union</th>\n",
       "      <th></th>\n",
       "      <th></th>\n",
       "      <th></th>\n",
       "      <th></th>\n",
       "      <th></th>\n",
       "      <th></th>\n",
       "      <th></th>\n",
       "    </tr>\n",
       "  </thead>\n",
       "  <tbody>\n",
       "    <tr>\n",
       "      <th rowspan=\"2\" valign=\"top\">0</th>\n",
       "      <th>0</th>\n",
       "      <td> 14758</td>\n",
       "      <td> 14758</td>\n",
       "      <td> 14758</td>\n",
       "      <td> 14758</td>\n",
       "      <td> 14758</td>\n",
       "      <td> 14758</td>\n",
       "      <td> 14758</td>\n",
       "    </tr>\n",
       "    <tr>\n",
       "      <th>1</th>\n",
       "      <td>  2110</td>\n",
       "      <td>  2110</td>\n",
       "      <td>  2110</td>\n",
       "      <td>  2110</td>\n",
       "      <td>  2110</td>\n",
       "      <td>  2110</td>\n",
       "      <td>  2110</td>\n",
       "    </tr>\n",
       "    <tr>\n",
       "      <th rowspan=\"2\" valign=\"top\">1</th>\n",
       "      <th>0</th>\n",
       "      <td>  2086</td>\n",
       "      <td>  2086</td>\n",
       "      <td>  2086</td>\n",
       "      <td>  2086</td>\n",
       "      <td>  2086</td>\n",
       "      <td>  2086</td>\n",
       "      <td>  2086</td>\n",
       "    </tr>\n",
       "    <tr>\n",
       "      <th>1</th>\n",
       "      <td>  2812</td>\n",
       "      <td>  2812</td>\n",
       "      <td>  2812</td>\n",
       "      <td>  2812</td>\n",
       "      <td>  2812</td>\n",
       "      <td>  2812</td>\n",
       "      <td>  2812</td>\n",
       "    </tr>\n",
       "  </tbody>\n",
       "</table>\n",
       "</div>"
      ],
      "text/plain": [
       "                   idcode   year    age  grade  south  black   smsa\n",
       "union prior_union                                                  \n",
       "0     0             14758  14758  14758  14758  14758  14758  14758\n",
       "      1              2110   2110   2110   2110   2110   2110   2110\n",
       "1     0              2086   2086   2086   2086   2086   2086   2086\n",
       "      1              2812   2812   2812   2812   2812   2812   2812"
      ]
     },
     "execution_count": 10,
     "metadata": {},
     "output_type": "execute_result"
    }
   ],
   "source": [
    "grouped = df_PUa.groupby(['union', 'prior_union'])\n",
    "grouped.count()"
   ]
  },
  {
   "cell_type": "code",
   "execution_count": 11,
   "metadata": {
    "collapsed": false
   },
   "outputs": [
    {
     "data": {
      "text/plain": [
       "matrix([[14758,  2086],\n",
       "        [ 2110,  2812]])"
      ]
     },
     "execution_count": 11,
     "metadata": {},
     "output_type": "execute_result"
    }
   ],
   "source": [
    "# two-by-two table that relates prior union status to current union status\n",
    "\n",
    "mt_PUa = np.matrix('14758, 2086; 2110, 2812')\n",
    "mt_PUa"
   ]
  },
  {
   "cell_type": "code",
   "execution_count": 12,
   "metadata": {
    "collapsed": false
   },
   "outputs": [
    {
     "name": "stdout",
     "output_type": "stream",
     "text": [
      "\t\t\tUnion - 0 \t\tUnion - 1\n",
      "Prior Union - 0\t\t0.876157682261 \t\t0.123842317739\n",
      "Prior Union - 1\t\t0.428687525396 \t\t0.571312474604\n"
     ]
    }
   ],
   "source": [
    "# two-by-two table that relates prior union status to current union status (%)\n",
    "\n",
    "print '\\t\\t\\tUnion - 0 \\t\\tUnion - 1'\n",
    "print 'Prior Union - 0\\t\\t' + str(float(14758)/16844), '\\t\\t' + str(float(2086)/16844)\n",
    "print 'Prior Union - 1\\t\\t' + str(float(2110)/4922), '\\t\\t' + str(float(2812)/4922)"
   ]
  },
  {
   "cell_type": "code",
   "execution_count": 13,
   "metadata": {
    "collapsed": false
   },
   "outputs": [
    {
     "name": "stdout",
     "output_type": "stream",
     "text": [
      "Optimization terminated successfully.\n",
      "         Current function value: 0.435559\n",
      "         Iterations 6\n",
      "\tUnion - Logit\n",
      "\n",
      "                           Logit Regression Results                           \n",
      "==============================================================================\n",
      "Dep. Variable:                  union   No. Observations:                21766\n",
      "Model:                          Logit   Df Residuals:                    21759\n",
      "Method:                           MLE   Df Model:                            6\n",
      "Date:                Tue, 28 Oct 2014   Pseudo R-squ.:                  0.1831\n",
      "Time:                        21:41:13   Log-Likelihood:                -9480.4\n",
      "converged:                       True   LL-Null:                       -11606.\n",
      "                                        LLR p-value:                     0.000\n",
      "===============================================================================\n",
      "                  coef    std err          z      P>|z|      [95.0% Conf. Int.]\n",
      "-------------------------------------------------------------------------------\n",
      "year           -0.0488      0.002    -21.051      0.000        -0.053    -0.044\n",
      "age             0.0506      0.004     12.132      0.000         0.042     0.059\n",
      "grade           0.0378      0.008      4.900      0.000         0.023     0.053\n",
      "south          -0.6823      0.042    -16.243      0.000        -0.765    -0.600\n",
      "black           0.5804      0.043     13.425      0.000         0.496     0.665\n",
      "smsa            0.0262      0.043      0.608      0.543        -0.058     0.111\n",
      "prior_union     2.1127      0.038     55.930      0.000         2.039     2.187\n",
      "===============================================================================\n"
     ]
    }
   ],
   "source": [
    "# b - logit model\n",
    "\n",
    "import statsmodels.api as sm\n",
    "\n",
    "logit = sm.Logit(df_PUa['union'], df_PUa[['year', 'age', 'grade', 'south', 'black', 'smsa', 'prior_union']])\n",
    "logres = logit.fit()\n",
    "print '\\tUnion - Logit\\n\\n', logres.summary()"
   ]
  },
  {
   "cell_type": "code",
   "execution_count": 14,
   "metadata": {
    "collapsed": false
   },
   "outputs": [
    {
     "data": {
      "text/html": [
       "<div style=\"max-height:1000px;max-width:1500px;overflow:auto;\">\n",
       "<table border=\"1\" class=\"dataframe\">\n",
       "  <thead>\n",
       "    <tr style=\"text-align: right;\">\n",
       "      <th></th>\n",
       "      <th>idcode</th>\n",
       "      <th>year</th>\n",
       "      <th>age</th>\n",
       "      <th>grade</th>\n",
       "      <th>south</th>\n",
       "      <th>union</th>\n",
       "      <th>black</th>\n",
       "      <th>smsa</th>\n",
       "      <th>prior_union</th>\n",
       "    </tr>\n",
       "  </thead>\n",
       "  <tbody>\n",
       "    <tr>\n",
       "      <th>count</th>\n",
       "      <td> 21766.000000</td>\n",
       "      <td> 21766.000000</td>\n",
       "      <td> 21766.000000</td>\n",
       "      <td> 21766.000000</td>\n",
       "      <td> 21766.000000</td>\n",
       "      <td> 21766.000000</td>\n",
       "      <td> 21766.000000</td>\n",
       "      <td> 21766.000000</td>\n",
       "      <td> 21766</td>\n",
       "    </tr>\n",
       "    <tr>\n",
       "      <th>mean</th>\n",
       "      <td>  2616.485712</td>\n",
       "      <td>    79.569466</td>\n",
       "      <td>    30.553800</td>\n",
       "      <td>    12.776532</td>\n",
       "      <td>     0.416843</td>\n",
       "      <td>     0.225030</td>\n",
       "      <td>     0.275292</td>\n",
       "      <td>     0.715152</td>\n",
       "      <td>     0</td>\n",
       "    </tr>\n",
       "    <tr>\n",
       "      <th>std</th>\n",
       "      <td>  1484.960374</td>\n",
       "      <td>     5.920549</td>\n",
       "      <td>     6.436752</td>\n",
       "      <td>     2.395196</td>\n",
       "      <td>     0.493048</td>\n",
       "      <td>     0.417612</td>\n",
       "      <td>     0.446671</td>\n",
       "      <td>     0.451352</td>\n",
       "      <td>     0</td>\n",
       "    </tr>\n",
       "    <tr>\n",
       "      <th>min</th>\n",
       "      <td>     1.000000</td>\n",
       "      <td>    70.000000</td>\n",
       "      <td>    16.000000</td>\n",
       "      <td>     0.000000</td>\n",
       "      <td>     0.000000</td>\n",
       "      <td>     0.000000</td>\n",
       "      <td>     0.000000</td>\n",
       "      <td>     0.000000</td>\n",
       "      <td>     0</td>\n",
       "    </tr>\n",
       "    <tr>\n",
       "      <th>25%</th>\n",
       "      <td>  1347.000000</td>\n",
       "      <td>    73.000000</td>\n",
       "      <td>    25.000000</td>\n",
       "      <td>    12.000000</td>\n",
       "      <td>     0.000000</td>\n",
       "      <td>     0.000000</td>\n",
       "      <td>     0.000000</td>\n",
       "      <td>     0.000000</td>\n",
       "      <td>     0</td>\n",
       "    </tr>\n",
       "    <tr>\n",
       "      <th>50%</th>\n",
       "      <td>  2623.000000</td>\n",
       "      <td>    80.000000</td>\n",
       "      <td>    31.000000</td>\n",
       "      <td>    12.000000</td>\n",
       "      <td>     0.000000</td>\n",
       "      <td>     0.000000</td>\n",
       "      <td>     0.000000</td>\n",
       "      <td>     1.000000</td>\n",
       "      <td>     0</td>\n",
       "    </tr>\n",
       "    <tr>\n",
       "      <th>75%</th>\n",
       "      <td>  3898.000000</td>\n",
       "      <td>    85.000000</td>\n",
       "      <td>    36.000000</td>\n",
       "      <td>    14.000000</td>\n",
       "      <td>     1.000000</td>\n",
       "      <td>     0.000000</td>\n",
       "      <td>     1.000000</td>\n",
       "      <td>     1.000000</td>\n",
       "      <td>     0</td>\n",
       "    </tr>\n",
       "    <tr>\n",
       "      <th>max</th>\n",
       "      <td>  5159.000000</td>\n",
       "      <td>    88.000000</td>\n",
       "      <td>    46.000000</td>\n",
       "      <td>    18.000000</td>\n",
       "      <td>     1.000000</td>\n",
       "      <td>     1.000000</td>\n",
       "      <td>     1.000000</td>\n",
       "      <td>     1.000000</td>\n",
       "      <td>     0</td>\n",
       "    </tr>\n",
       "  </tbody>\n",
       "</table>\n",
       "</div>"
      ],
      "text/plain": [
       "             idcode          year           age         grade         south  \\\n",
       "count  21766.000000  21766.000000  21766.000000  21766.000000  21766.000000   \n",
       "mean    2616.485712     79.569466     30.553800     12.776532      0.416843   \n",
       "std     1484.960374      5.920549      6.436752      2.395196      0.493048   \n",
       "min        1.000000     70.000000     16.000000      0.000000      0.000000   \n",
       "25%     1347.000000     73.000000     25.000000     12.000000      0.000000   \n",
       "50%     2623.000000     80.000000     31.000000     12.000000      0.000000   \n",
       "75%     3898.000000     85.000000     36.000000     14.000000      1.000000   \n",
       "max     5159.000000     88.000000     46.000000     18.000000      1.000000   \n",
       "\n",
       "              union         black          smsa  prior_union  \n",
       "count  21766.000000  21766.000000  21766.000000        21766  \n",
       "mean       0.225030      0.275292      0.715152            0  \n",
       "std        0.417612      0.446671      0.451352            0  \n",
       "min        0.000000      0.000000      0.000000            0  \n",
       "25%        0.000000      0.000000      0.000000            0  \n",
       "50%        0.000000      0.000000      1.000000            0  \n",
       "75%        0.000000      1.000000      1.000000            0  \n",
       "max        1.000000      1.000000      1.000000            0  "
      ]
     },
     "execution_count": 14,
     "metadata": {},
     "output_type": "execute_result"
    }
   ],
   "source": [
    "# c - pred01 & pred00\n",
    "\n",
    "df_PUc = df_PUa\n",
    "df_PUc['prior_union'] = 0\n",
    "df_PUc.describe()"
   ]
  },
  {
   "cell_type": "code",
   "execution_count": 15,
   "metadata": {
    "collapsed": false
   },
   "outputs": [
    {
     "name": "stdout",
     "output_type": "stream",
     "text": [
      "Optimization terminated successfully.\n",
      "         Current function value: 0.510644\n",
      "         Iterations 6\n"
     ]
    },
    {
     "data": {
      "text/html": [
       "<div style=\"max-height:1000px;max-width:1500px;overflow:auto;\">\n",
       "<table border=\"1\" class=\"dataframe\">\n",
       "  <thead>\n",
       "    <tr style=\"text-align: right;\">\n",
       "      <th></th>\n",
       "      <th>idcode</th>\n",
       "      <th>year</th>\n",
       "      <th>age</th>\n",
       "      <th>grade</th>\n",
       "      <th>south</th>\n",
       "      <th>union</th>\n",
       "      <th>black</th>\n",
       "      <th>smsa</th>\n",
       "      <th>prior_union</th>\n",
       "      <th>pred01</th>\n",
       "      <th>pred00</th>\n",
       "    </tr>\n",
       "  </thead>\n",
       "  <tbody>\n",
       "    <tr>\n",
       "      <th>count</th>\n",
       "      <td> 21766.000000</td>\n",
       "      <td> 21766.000000</td>\n",
       "      <td> 21766.000000</td>\n",
       "      <td> 21766.000000</td>\n",
       "      <td> 21766.000000</td>\n",
       "      <td> 21766.000000</td>\n",
       "      <td> 21766.000000</td>\n",
       "      <td> 21766.000000</td>\n",
       "      <td> 21766</td>\n",
       "      <td> 21766.000000</td>\n",
       "      <td> 21766.000000</td>\n",
       "    </tr>\n",
       "    <tr>\n",
       "      <th>mean</th>\n",
       "      <td>  2616.485712</td>\n",
       "      <td>    79.569466</td>\n",
       "      <td>    30.553800</td>\n",
       "      <td>    12.776532</td>\n",
       "      <td>     0.416843</td>\n",
       "      <td>     0.225030</td>\n",
       "      <td>     0.275292</td>\n",
       "      <td>     0.715152</td>\n",
       "      <td>     0</td>\n",
       "      <td>     0.225535</td>\n",
       "      <td>     0.774465</td>\n",
       "    </tr>\n",
       "    <tr>\n",
       "      <th>std</th>\n",
       "      <td>  1484.960374</td>\n",
       "      <td>     5.920549</td>\n",
       "      <td>     6.436752</td>\n",
       "      <td>     2.395196</td>\n",
       "      <td>     0.493048</td>\n",
       "      <td>     0.417612</td>\n",
       "      <td>     0.446671</td>\n",
       "      <td>     0.451352</td>\n",
       "      <td>     0</td>\n",
       "      <td>     0.090102</td>\n",
       "      <td>     0.090102</td>\n",
       "    </tr>\n",
       "    <tr>\n",
       "      <th>min</th>\n",
       "      <td>     1.000000</td>\n",
       "      <td>    70.000000</td>\n",
       "      <td>    16.000000</td>\n",
       "      <td>     0.000000</td>\n",
       "      <td>     0.000000</td>\n",
       "      <td>     0.000000</td>\n",
       "      <td>     0.000000</td>\n",
       "      <td>     0.000000</td>\n",
       "      <td>     0</td>\n",
       "      <td>     0.058972</td>\n",
       "      <td>     0.432364</td>\n",
       "    </tr>\n",
       "    <tr>\n",
       "      <th>25%</th>\n",
       "      <td>  1347.000000</td>\n",
       "      <td>    73.000000</td>\n",
       "      <td>    25.000000</td>\n",
       "      <td>    12.000000</td>\n",
       "      <td>     0.000000</td>\n",
       "      <td>     0.000000</td>\n",
       "      <td>     0.000000</td>\n",
       "      <td>     0.000000</td>\n",
       "      <td>     0</td>\n",
       "      <td>     0.166898</td>\n",
       "      <td>     0.734211</td>\n",
       "    </tr>\n",
       "    <tr>\n",
       "      <th>50%</th>\n",
       "      <td>  2623.000000</td>\n",
       "      <td>    80.000000</td>\n",
       "      <td>    31.000000</td>\n",
       "      <td>    12.000000</td>\n",
       "      <td>     0.000000</td>\n",
       "      <td>     0.000000</td>\n",
       "      <td>     0.000000</td>\n",
       "      <td>     1.000000</td>\n",
       "      <td>     0</td>\n",
       "      <td>     0.223226</td>\n",
       "      <td>     0.776774</td>\n",
       "    </tr>\n",
       "    <tr>\n",
       "      <th>75%</th>\n",
       "      <td>  3898.000000</td>\n",
       "      <td>    85.000000</td>\n",
       "      <td>    36.000000</td>\n",
       "      <td>    14.000000</td>\n",
       "      <td>     1.000000</td>\n",
       "      <td>     0.000000</td>\n",
       "      <td>     1.000000</td>\n",
       "      <td>     1.000000</td>\n",
       "      <td>     0</td>\n",
       "      <td>     0.265789</td>\n",
       "      <td>     0.833102</td>\n",
       "    </tr>\n",
       "    <tr>\n",
       "      <th>max</th>\n",
       "      <td>  5159.000000</td>\n",
       "      <td>    88.000000</td>\n",
       "      <td>    46.000000</td>\n",
       "      <td>    18.000000</td>\n",
       "      <td>     1.000000</td>\n",
       "      <td>     1.000000</td>\n",
       "      <td>     1.000000</td>\n",
       "      <td>     1.000000</td>\n",
       "      <td>     0</td>\n",
       "      <td>     0.567636</td>\n",
       "      <td>     0.941028</td>\n",
       "    </tr>\n",
       "  </tbody>\n",
       "</table>\n",
       "</div>"
      ],
      "text/plain": [
       "             idcode          year           age         grade         south  \\\n",
       "count  21766.000000  21766.000000  21766.000000  21766.000000  21766.000000   \n",
       "mean    2616.485712     79.569466     30.553800     12.776532      0.416843   \n",
       "std     1484.960374      5.920549      6.436752      2.395196      0.493048   \n",
       "min        1.000000     70.000000     16.000000      0.000000      0.000000   \n",
       "25%     1347.000000     73.000000     25.000000     12.000000      0.000000   \n",
       "50%     2623.000000     80.000000     31.000000     12.000000      0.000000   \n",
       "75%     3898.000000     85.000000     36.000000     14.000000      1.000000   \n",
       "max     5159.000000     88.000000     46.000000     18.000000      1.000000   \n",
       "\n",
       "              union         black          smsa  prior_union        pred01  \\\n",
       "count  21766.000000  21766.000000  21766.000000        21766  21766.000000   \n",
       "mean       0.225030      0.275292      0.715152            0      0.225535   \n",
       "std        0.417612      0.446671      0.451352            0      0.090102   \n",
       "min        0.000000      0.000000      0.000000            0      0.058972   \n",
       "25%        0.000000      0.000000      0.000000            0      0.166898   \n",
       "50%        0.000000      0.000000      1.000000            0      0.223226   \n",
       "75%        0.000000      1.000000      1.000000            0      0.265789   \n",
       "max        1.000000      1.000000      1.000000            0      0.567636   \n",
       "\n",
       "             pred00  \n",
       "count  21766.000000  \n",
       "mean       0.774465  \n",
       "std        0.090102  \n",
       "min        0.432364  \n",
       "25%        0.734211  \n",
       "50%        0.776774  \n",
       "75%        0.833102  \n",
       "max        0.941028  "
      ]
     },
     "execution_count": 15,
     "metadata": {},
     "output_type": "execute_result"
    }
   ],
   "source": [
    "logit_c = sm.Logit(df_PUc['union'], df_PUc[['year', 'age', 'grade', 'south', 'black', 'smsa']])\n",
    "logres_c = logit_c.fit()\n",
    "\n",
    "df_PUc['pred01'] = logres_c.predict()\n",
    "df_PUc['pred00'] = 1 - df_PUc['pred01']\n",
    "df_PUc.describe()"
   ]
  },
  {
   "cell_type": "code",
   "execution_count": 16,
   "metadata": {
    "collapsed": false
   },
   "outputs": [
    {
     "data": {
      "text/html": [
       "<div style=\"max-height:1000px;max-width:1500px;overflow:auto;\">\n",
       "<table border=\"1\" class=\"dataframe\">\n",
       "  <thead>\n",
       "    <tr style=\"text-align: right;\">\n",
       "      <th></th>\n",
       "      <th>idcode</th>\n",
       "      <th>year</th>\n",
       "      <th>age</th>\n",
       "      <th>grade</th>\n",
       "      <th>south</th>\n",
       "      <th>union</th>\n",
       "      <th>black</th>\n",
       "      <th>smsa</th>\n",
       "      <th>prior_union</th>\n",
       "      <th>pred01</th>\n",
       "      <th>pred00</th>\n",
       "    </tr>\n",
       "  </thead>\n",
       "  <tbody>\n",
       "    <tr>\n",
       "      <th>count</th>\n",
       "      <td> 21766.000000</td>\n",
       "      <td> 21766.000000</td>\n",
       "      <td> 21766.000000</td>\n",
       "      <td> 21766.000000</td>\n",
       "      <td> 21766.000000</td>\n",
       "      <td> 21766.000000</td>\n",
       "      <td> 21766.000000</td>\n",
       "      <td> 21766.000000</td>\n",
       "      <td> 21766</td>\n",
       "      <td> 21766.000000</td>\n",
       "      <td> 21766.000000</td>\n",
       "    </tr>\n",
       "    <tr>\n",
       "      <th>mean</th>\n",
       "      <td>  2616.485712</td>\n",
       "      <td>    79.569466</td>\n",
       "      <td>    30.553800</td>\n",
       "      <td>    12.776532</td>\n",
       "      <td>     0.416843</td>\n",
       "      <td>     0.225030</td>\n",
       "      <td>     0.275292</td>\n",
       "      <td>     0.715152</td>\n",
       "      <td>     1</td>\n",
       "      <td>     0.225535</td>\n",
       "      <td>     0.774465</td>\n",
       "    </tr>\n",
       "    <tr>\n",
       "      <th>std</th>\n",
       "      <td>  1484.960374</td>\n",
       "      <td>     5.920549</td>\n",
       "      <td>     6.436752</td>\n",
       "      <td>     2.395196</td>\n",
       "      <td>     0.493048</td>\n",
       "      <td>     0.417612</td>\n",
       "      <td>     0.446671</td>\n",
       "      <td>     0.451352</td>\n",
       "      <td>     0</td>\n",
       "      <td>     0.090102</td>\n",
       "      <td>     0.090102</td>\n",
       "    </tr>\n",
       "    <tr>\n",
       "      <th>min</th>\n",
       "      <td>     1.000000</td>\n",
       "      <td>    70.000000</td>\n",
       "      <td>    16.000000</td>\n",
       "      <td>     0.000000</td>\n",
       "      <td>     0.000000</td>\n",
       "      <td>     0.000000</td>\n",
       "      <td>     0.000000</td>\n",
       "      <td>     0.000000</td>\n",
       "      <td>     1</td>\n",
       "      <td>     0.058972</td>\n",
       "      <td>     0.432364</td>\n",
       "    </tr>\n",
       "    <tr>\n",
       "      <th>25%</th>\n",
       "      <td>  1347.000000</td>\n",
       "      <td>    73.000000</td>\n",
       "      <td>    25.000000</td>\n",
       "      <td>    12.000000</td>\n",
       "      <td>     0.000000</td>\n",
       "      <td>     0.000000</td>\n",
       "      <td>     0.000000</td>\n",
       "      <td>     0.000000</td>\n",
       "      <td>     1</td>\n",
       "      <td>     0.166898</td>\n",
       "      <td>     0.734211</td>\n",
       "    </tr>\n",
       "    <tr>\n",
       "      <th>50%</th>\n",
       "      <td>  2623.000000</td>\n",
       "      <td>    80.000000</td>\n",
       "      <td>    31.000000</td>\n",
       "      <td>    12.000000</td>\n",
       "      <td>     0.000000</td>\n",
       "      <td>     0.000000</td>\n",
       "      <td>     0.000000</td>\n",
       "      <td>     1.000000</td>\n",
       "      <td>     1</td>\n",
       "      <td>     0.223226</td>\n",
       "      <td>     0.776774</td>\n",
       "    </tr>\n",
       "    <tr>\n",
       "      <th>75%</th>\n",
       "      <td>  3898.000000</td>\n",
       "      <td>    85.000000</td>\n",
       "      <td>    36.000000</td>\n",
       "      <td>    14.000000</td>\n",
       "      <td>     1.000000</td>\n",
       "      <td>     0.000000</td>\n",
       "      <td>     1.000000</td>\n",
       "      <td>     1.000000</td>\n",
       "      <td>     1</td>\n",
       "      <td>     0.265789</td>\n",
       "      <td>     0.833102</td>\n",
       "    </tr>\n",
       "    <tr>\n",
       "      <th>max</th>\n",
       "      <td>  5159.000000</td>\n",
       "      <td>    88.000000</td>\n",
       "      <td>    46.000000</td>\n",
       "      <td>    18.000000</td>\n",
       "      <td>     1.000000</td>\n",
       "      <td>     1.000000</td>\n",
       "      <td>     1.000000</td>\n",
       "      <td>     1.000000</td>\n",
       "      <td>     1</td>\n",
       "      <td>     0.567636</td>\n",
       "      <td>     0.941028</td>\n",
       "    </tr>\n",
       "  </tbody>\n",
       "</table>\n",
       "</div>"
      ],
      "text/plain": [
       "             idcode          year           age         grade         south  \\\n",
       "count  21766.000000  21766.000000  21766.000000  21766.000000  21766.000000   \n",
       "mean    2616.485712     79.569466     30.553800     12.776532      0.416843   \n",
       "std     1484.960374      5.920549      6.436752      2.395196      0.493048   \n",
       "min        1.000000     70.000000     16.000000      0.000000      0.000000   \n",
       "25%     1347.000000     73.000000     25.000000     12.000000      0.000000   \n",
       "50%     2623.000000     80.000000     31.000000     12.000000      0.000000   \n",
       "75%     3898.000000     85.000000     36.000000     14.000000      1.000000   \n",
       "max     5159.000000     88.000000     46.000000     18.000000      1.000000   \n",
       "\n",
       "              union         black          smsa  prior_union        pred01  \\\n",
       "count  21766.000000  21766.000000  21766.000000        21766  21766.000000   \n",
       "mean       0.225030      0.275292      0.715152            1      0.225535   \n",
       "std        0.417612      0.446671      0.451352            0      0.090102   \n",
       "min        0.000000      0.000000      0.000000            1      0.058972   \n",
       "25%        0.000000      0.000000      0.000000            1      0.166898   \n",
       "50%        0.000000      0.000000      1.000000            1      0.223226   \n",
       "75%        0.000000      1.000000      1.000000            1      0.265789   \n",
       "max        1.000000      1.000000      1.000000            1      0.567636   \n",
       "\n",
       "             pred00  \n",
       "count  21766.000000  \n",
       "mean       0.774465  \n",
       "std        0.090102  \n",
       "min        0.432364  \n",
       "25%        0.734211  \n",
       "50%        0.776774  \n",
       "75%        0.833102  \n",
       "max        0.941028  "
      ]
     },
     "execution_count": 16,
     "metadata": {},
     "output_type": "execute_result"
    }
   ],
   "source": [
    "# d - pred11 & pred10\n",
    "\n",
    "df_PUd = df_PUc\n",
    "df_PUd['prior_union'] = 1\n",
    "df_PUd.describe()"
   ]
  },
  {
   "cell_type": "code",
   "execution_count": 17,
   "metadata": {
    "collapsed": false
   },
   "outputs": [
    {
     "name": "stdout",
     "output_type": "stream",
     "text": [
      "Optimization terminated successfully.\n",
      "         Current function value: 0.510309\n",
      "         Iterations 6\n"
     ]
    },
    {
     "data": {
      "text/html": [
       "<div style=\"max-height:1000px;max-width:1500px;overflow:auto;\">\n",
       "<table border=\"1\" class=\"dataframe\">\n",
       "  <thead>\n",
       "    <tr style=\"text-align: right;\">\n",
       "      <th></th>\n",
       "      <th>idcode</th>\n",
       "      <th>year</th>\n",
       "      <th>age</th>\n",
       "      <th>grade</th>\n",
       "      <th>south</th>\n",
       "      <th>union</th>\n",
       "      <th>black</th>\n",
       "      <th>smsa</th>\n",
       "      <th>prior_union</th>\n",
       "      <th>pred01</th>\n",
       "      <th>pred00</th>\n",
       "      <th>pred11</th>\n",
       "      <th>pred10</th>\n",
       "    </tr>\n",
       "  </thead>\n",
       "  <tbody>\n",
       "    <tr>\n",
       "      <th>count</th>\n",
       "      <td> 21766.000000</td>\n",
       "      <td> 21766.000000</td>\n",
       "      <td> 21766.000000</td>\n",
       "      <td> 21766.000000</td>\n",
       "      <td> 21766.000000</td>\n",
       "      <td> 21766.000000</td>\n",
       "      <td> 21766.000000</td>\n",
       "      <td> 21766.000000</td>\n",
       "      <td> 21766</td>\n",
       "      <td> 21766.000000</td>\n",
       "      <td> 21766.000000</td>\n",
       "      <td> 21766.000000</td>\n",
       "      <td> 21766.000000</td>\n",
       "    </tr>\n",
       "    <tr>\n",
       "      <th>mean</th>\n",
       "      <td>  2616.485712</td>\n",
       "      <td>    79.569466</td>\n",
       "      <td>    30.553800</td>\n",
       "      <td>    12.776532</td>\n",
       "      <td>     0.416843</td>\n",
       "      <td>     0.225030</td>\n",
       "      <td>     0.275292</td>\n",
       "      <td>     0.715152</td>\n",
       "      <td>     1</td>\n",
       "      <td>     0.225535</td>\n",
       "      <td>     0.774465</td>\n",
       "      <td>     0.225030</td>\n",
       "      <td>     0.774970</td>\n",
       "    </tr>\n",
       "    <tr>\n",
       "      <th>std</th>\n",
       "      <td>  1484.960374</td>\n",
       "      <td>     5.920549</td>\n",
       "      <td>     6.436752</td>\n",
       "      <td>     2.395196</td>\n",
       "      <td>     0.493048</td>\n",
       "      <td>     0.417612</td>\n",
       "      <td>     0.446671</td>\n",
       "      <td>     0.451352</td>\n",
       "      <td>     0</td>\n",
       "      <td>     0.090102</td>\n",
       "      <td>     0.090102</td>\n",
       "      <td>     0.089509</td>\n",
       "      <td>     0.089509</td>\n",
       "    </tr>\n",
       "    <tr>\n",
       "      <th>min</th>\n",
       "      <td>     1.000000</td>\n",
       "      <td>    70.000000</td>\n",
       "      <td>    16.000000</td>\n",
       "      <td>     0.000000</td>\n",
       "      <td>     0.000000</td>\n",
       "      <td>     0.000000</td>\n",
       "      <td>     0.000000</td>\n",
       "      <td>     0.000000</td>\n",
       "      <td>     1</td>\n",
       "      <td>     0.058972</td>\n",
       "      <td>     0.432364</td>\n",
       "      <td>     0.053393</td>\n",
       "      <td>     0.437941</td>\n",
       "    </tr>\n",
       "    <tr>\n",
       "      <th>25%</th>\n",
       "      <td>  1347.000000</td>\n",
       "      <td>    73.000000</td>\n",
       "      <td>    25.000000</td>\n",
       "      <td>    12.000000</td>\n",
       "      <td>     0.000000</td>\n",
       "      <td>     0.000000</td>\n",
       "      <td>     0.000000</td>\n",
       "      <td>     0.000000</td>\n",
       "      <td>     1</td>\n",
       "      <td>     0.166898</td>\n",
       "      <td>     0.734211</td>\n",
       "      <td>     0.166592</td>\n",
       "      <td>     0.736399</td>\n",
       "    </tr>\n",
       "    <tr>\n",
       "      <th>50%</th>\n",
       "      <td>  2623.000000</td>\n",
       "      <td>    80.000000</td>\n",
       "      <td>    31.000000</td>\n",
       "      <td>    12.000000</td>\n",
       "      <td>     0.000000</td>\n",
       "      <td>     0.000000</td>\n",
       "      <td>     0.000000</td>\n",
       "      <td>     1.000000</td>\n",
       "      <td>     1</td>\n",
       "      <td>     0.223226</td>\n",
       "      <td>     0.776774</td>\n",
       "      <td>     0.222119</td>\n",
       "      <td>     0.777881</td>\n",
       "    </tr>\n",
       "    <tr>\n",
       "      <th>75%</th>\n",
       "      <td>  3898.000000</td>\n",
       "      <td>    85.000000</td>\n",
       "      <td>    36.000000</td>\n",
       "      <td>    14.000000</td>\n",
       "      <td>     1.000000</td>\n",
       "      <td>     0.000000</td>\n",
       "      <td>     1.000000</td>\n",
       "      <td>     1.000000</td>\n",
       "      <td>     1</td>\n",
       "      <td>     0.265789</td>\n",
       "      <td>     0.833102</td>\n",
       "      <td>     0.263601</td>\n",
       "      <td>     0.833408</td>\n",
       "    </tr>\n",
       "    <tr>\n",
       "      <th>max</th>\n",
       "      <td>  5159.000000</td>\n",
       "      <td>    88.000000</td>\n",
       "      <td>    46.000000</td>\n",
       "      <td>    18.000000</td>\n",
       "      <td>     1.000000</td>\n",
       "      <td>     1.000000</td>\n",
       "      <td>     1.000000</td>\n",
       "      <td>     1.000000</td>\n",
       "      <td>     1</td>\n",
       "      <td>     0.567636</td>\n",
       "      <td>     0.941028</td>\n",
       "      <td>     0.562059</td>\n",
       "      <td>     0.946607</td>\n",
       "    </tr>\n",
       "  </tbody>\n",
       "</table>\n",
       "</div>"
      ],
      "text/plain": [
       "             idcode          year           age         grade         south  \\\n",
       "count  21766.000000  21766.000000  21766.000000  21766.000000  21766.000000   \n",
       "mean    2616.485712     79.569466     30.553800     12.776532      0.416843   \n",
       "std     1484.960374      5.920549      6.436752      2.395196      0.493048   \n",
       "min        1.000000     70.000000     16.000000      0.000000      0.000000   \n",
       "25%     1347.000000     73.000000     25.000000     12.000000      0.000000   \n",
       "50%     2623.000000     80.000000     31.000000     12.000000      0.000000   \n",
       "75%     3898.000000     85.000000     36.000000     14.000000      1.000000   \n",
       "max     5159.000000     88.000000     46.000000     18.000000      1.000000   \n",
       "\n",
       "              union         black          smsa  prior_union        pred01  \\\n",
       "count  21766.000000  21766.000000  21766.000000        21766  21766.000000   \n",
       "mean       0.225030      0.275292      0.715152            1      0.225535   \n",
       "std        0.417612      0.446671      0.451352            0      0.090102   \n",
       "min        0.000000      0.000000      0.000000            1      0.058972   \n",
       "25%        0.000000      0.000000      0.000000            1      0.166898   \n",
       "50%        0.000000      0.000000      1.000000            1      0.223226   \n",
       "75%        0.000000      1.000000      1.000000            1      0.265789   \n",
       "max        1.000000      1.000000      1.000000            1      0.567636   \n",
       "\n",
       "             pred00        pred11        pred10  \n",
       "count  21766.000000  21766.000000  21766.000000  \n",
       "mean       0.774465      0.225030      0.774970  \n",
       "std        0.090102      0.089509      0.089509  \n",
       "min        0.432364      0.053393      0.437941  \n",
       "25%        0.734211      0.166592      0.736399  \n",
       "50%        0.776774      0.222119      0.777881  \n",
       "75%        0.833102      0.263601      0.833408  \n",
       "max        0.941028      0.562059      0.946607  "
      ]
     },
     "execution_count": 17,
     "metadata": {},
     "output_type": "execute_result"
    }
   ],
   "source": [
    "logit_d = sm.Logit(df_PUd['union'], df_PUd[['year', 'age', 'grade', 'south', 'black', 'smsa', 'prior_union']])\n",
    "logres_d = logit_d.fit()\n",
    "\n",
    "df_PUd['pred11'] = logres_d.predict()\n",
    "df_PUd['pred10'] = 1 - df_PUd['pred11']\n",
    "df_PUd.describe()"
   ]
  },
  {
   "cell_type": "code",
   "execution_count": 18,
   "metadata": {
    "collapsed": false
   },
   "outputs": [
    {
     "data": {
      "text/plain": [
       "(0.77446464119721947,\n",
       " 0.22553535880278058,\n",
       " 0.77497013691077832,\n",
       " 0.22502986308922168)"
      ]
     },
     "execution_count": 18,
     "metadata": {},
     "output_type": "execute_result"
    }
   ],
   "source": [
    "# e - model-based Markov matrix\n",
    "\n",
    "df_PUd['pred00'].mean(), df_PUd['pred01'].mean(), df_PUd['pred10'].mean(), df_PUd['pred11'].mean()"
   ]
  },
  {
   "cell_type": "code",
   "execution_count": 19,
   "metadata": {
    "collapsed": false
   },
   "outputs": [
    {
     "data": {
      "text/plain": [
       "matrix([[ 0.77446464,  0.22553536],\n",
       "        [ 0.77497014,  0.22502986]])"
      ]
     },
     "execution_count": 19,
     "metadata": {},
     "output_type": "execute_result"
    }
   ],
   "source": [
    "mt_UPe = np.matrix('0.77446464119721947, 0.22553535880278058; 0.77497013691077832, 0.22502986308922168')\n",
    "mt_UPe"
   ]
  },
  {
   "cell_type": "code",
   "execution_count": 20,
   "metadata": {
    "collapsed": false
   },
   "outputs": [
    {
     "data": {
      "text/plain": [
       "matrix([[ 0.77457859,  0.22542141],\n",
       "        [ 0.77457859,  0.22542141]])"
      ]
     },
     "execution_count": 20,
     "metadata": {},
     "output_type": "execute_result"
    }
   ],
   "source": [
    "# 10 steps forward\n",
    "\n",
    "mt_UPe ** 10"
   ]
  },
  {
   "cell_type": "code",
   "execution_count": 22,
   "metadata": {
    "collapsed": false
   },
   "outputs": [
    {
     "data": {
      "text/plain": [
       "matrix([[ 0.77457859,  0.22542141],\n",
       "        [ 0.77457859,  0.22542141]])"
      ]
     },
     "execution_count": 22,
     "metadata": {},
     "output_type": "execute_result"
    }
   ],
   "source": [
    "# 100 steps forward\n",
    "\n",
    "mt_UPe ** 100"
   ]
  },
  {
   "cell_type": "markdown",
   "metadata": {},
   "source": [
    "##### # f   The limit was been reached above and based on the model I would suggest that the long-term forecast calls for 77.5% outside the union and 22.5% inside the union  The model's prediction may be compared to actual events to measure accuracy. "
   ]
  },
  {
   "cell_type": "markdown",
   "metadata": {},
   "source": [
    "# Problem 3 - Gaussian White Noise"
   ]
  },
  {
   "cell_type": "code",
   "execution_count": 22,
   "metadata": {
    "collapsed": false
   },
   "outputs": [],
   "source": [
    "# a\n",
    "\n",
    "noise1 = np.random.normal(0,1,1000)\n",
    "noise2 = np.random.normal(0,2,1000)\n",
    "noise4 = np.random.normal(0,4,1000)\n",
    "\n"
   ]
  },
  {
   "cell_type": "code",
   "execution_count": 26,
   "metadata": {
    "collapsed": false
   },
   "outputs": [
    {
     "data": {
      "text/plain": [
       "<matplotlib.text.Text at 0xae33ff8c>"
      ]
     },
     "execution_count": 26,
     "metadata": {},
     "output_type": "execute_result"
    },
    {
     "data": {
      "image/png": "[encoded data removed]",
      "text/plain": [
       "<matplotlib.figure.Figure at 0xae3fcbcc>"
      ]
     },
     "metadata": {},
     "output_type": "display_data"
    }
   ],
   "source": [
    "# example of first plot\n",
    "\n",
    "plt.plot(noise1)\n",
    "plt.title('White Noise, Var=1')"
   ]
  },
  {
   "cell_type": "code",
   "execution_count": 37,
   "metadata": {
    "collapsed": false
   },
   "outputs": [
    {
     "data": {
      "text/plain": [
       "[<matplotlib.lines.Line2D at 0xadce21cc>]"
      ]
     },
     "execution_count": 37,
     "metadata": {},
     "output_type": "execute_result"
    },
    {
     "data": {
      "image/png": "[encoded data removed]",
      "text/plain": [
       "<matplotlib.figure.Figure at 0xadcd096c>"
      ]
     },
     "metadata": {},
     "output_type": "display_data"
    }
   ],
   "source": [
    "# the three plots sharing axes\n",
    "\n",
    "fig, axs = plt.subplots(3, 1, sharex=True, sharey=True)\n",
    "axs[0].plot(noise1)\n",
    "axs[1].plot(noise2)\n",
    "axs[2].plot(noise4)"
   ]
  },
  {
   "cell_type": "code",
   "execution_count": 49,
   "metadata": {
    "collapsed": false
   },
   "outputs": [
    {
     "data": {
      "image/png": "[encoded data removed]",
      "text/plain": [
       "<matplotlib.figure.Figure at 0xaa9cab4c>"
      ]
     },
     "metadata": {},
     "output_type": "display_data"
    }
   ],
   "source": [
    "# b\n",
    "\n",
    "X1 = np.random.normal(0,1,1000)\n",
    "X2 = np.random.normal(0,1,1000)\n",
    "\n",
    "plt.plot(X1, label='X1')\n",
    "plt.plot(X2, label='X2')\n",
    "ax.legend(loc='best')"
   ]
  },
  {
   "cell_type": "code",
   "execution_count": 53,
   "metadata": {
    "collapsed": false
   },
   "outputs": [
    {
     "name": "stdout",
     "output_type": "stream",
     "text": [
      "0.0863002390052\n"
     ]
    },
    {
     "data": {
      "image/png": "[encoded data removed]",
      "text/plain": [
       "<matplotlib.figure.Figure at 0xaa975ecc>"
      ]
     },
     "metadata": {},
     "output_type": "display_data"
    }
   ],
   "source": [
    "# scatter plot of same inputs with fitted line\n",
    "\n",
    "m, b = np.polyfit(X1, X2, 1)\n",
    "\n",
    "plt.plot(X1, X2, '.')\n",
    "plt.plot(X1, m*X1 + b, '-')\n",
    "\n",
    "print m"
   ]
  },
  {
   "cell_type": "code",
   "execution_count": 47,
   "metadata": {
    "collapsed": false
   },
   "outputs": [],
   "source": [
    "import statsmodels.api as sm"
   ]
  },
  {
   "cell_type": "code",
   "execution_count": 54,
   "metadata": {
    "collapsed": false
   },
   "outputs": [
    {
     "name": "stdout",
     "output_type": "stream",
     "text": [
      "                            OLS Regression Results                            \n",
      "==============================================================================\n",
      "Dep. Variable:                      y   R-squared:                       0.008\n",
      "Model:                            OLS   Adj. R-squared:                  0.007\n",
      "Method:                 Least Squares   F-statistic:                     8.324\n",
      "Date:                Fri, 24 Oct 2014   Prob (F-statistic):            0.00400\n",
      "Time:                        19:22:11   Log-Likelihood:                -1424.6\n",
      "No. Observations:                1000   AIC:                             2851.\n",
      "Df Residuals:                     999   BIC:                             2856.\n",
      "Df Model:                           1                                         \n",
      "==============================================================================\n",
      "                 coef    std err          t      P>|t|      [95.0% Conf. Int.]\n",
      "------------------------------------------------------------------------------\n",
      "x1             0.0928      0.032      2.885      0.004         0.030     0.156\n",
      "==============================================================================\n",
      "Omnibus:                        0.290   Durbin-Watson:                   1.995\n",
      "Prob(Omnibus):                  0.865   Jarque-Bera (JB):                0.379\n",
      "Skew:                           0.005   Prob(JB):                        0.827\n",
      "Kurtosis:                       2.905   Cond. No.                         1.00\n",
      "==============================================================================\n"
     ]
    }
   ],
   "source": [
    "# regression results on above\n",
    "\n",
    "model = sm.OLS(X1, X2)\n",
    "results = model.fit()\n",
    "print (results.summary())"
   ]
  },
  {
   "cell_type": "code",
   "execution_count": 70,
   "metadata": {
    "collapsed": false
   },
   "outputs": [
    {
     "data": {
      "text/plain": [
       "(array([  1.,   2.,   3.,   2.,   6.,   9.,   8.,   9.,  10.,   8.,  15.,\n",
       "         21.,  19.,  22.,  29.,  35.,  39.,  28.,  46.,  44.,  54.,  57.,\n",
       "         72.,  47.,  43.,  39.,  33.,  36.,  37.,  32.,  28.,  31.,  27.,\n",
       "         28.,  17.,  14.,   9.,  10.,   9.,   7.,   4.,   2.,   1.,   1.,\n",
       "          4.,   0.,   1.,   0.,   0.,   1.]),\n",
       " array([-0.0895626 , -0.08560953, -0.08165647, -0.0777034 , -0.07375033,\n",
       "        -0.06979726, -0.06584419, -0.06189112, -0.05793805, -0.05398498,\n",
       "        -0.05003191, -0.04607885, -0.04212578, -0.03817271, -0.03421964,\n",
       "        -0.03026657, -0.0263135 , -0.02236043, -0.01840736, -0.01445429,\n",
       "        -0.01050122, -0.00654816, -0.00259509,  0.00135798,  0.00531105,\n",
       "         0.00926412,  0.01321719,  0.01717026,  0.02112333,  0.0250764 ,\n",
       "         0.02902947,  0.03298253,  0.0369356 ,  0.04088867,  0.04484174,\n",
       "         0.04879481,  0.05274788,  0.05670095,  0.06065402,  0.06460709,\n",
       "         0.06856015,  0.07251322,  0.07646629,  0.08041936,  0.08437243,\n",
       "         0.0883255 ,  0.09227857,  0.09623164,  0.10018471,  0.10413778,\n",
       "         0.10809084]),\n",
       " <a list of 50 Patch objects>)"
      ]
     },
     "execution_count": 70,
     "metadata": {},
     "output_type": "execute_result"
    },
    {
     "data": {
      "image/png": "[encoded data removed]",
      "text/plain": [
       "<matplotlib.figure.Figure at 0xaa66a30c>"
      ]
     },
     "metadata": {},
     "output_type": "display_data"
    }
   ],
   "source": [
    "# c\n",
    "\n",
    "Monte_count = range(1000)\n",
    "Monte_coef = []\n",
    "\n",
    "for i in Monte_count:\n",
    "    X1 = np.random.normal(0,1,1000)\n",
    "    X2 = np.random.normal(0,1,1000)\n",
    "    \n",
    "    m, b = np.polyfit(X1, X2, 1)\n",
    "    Monte_coef.append(m)\n",
    "\n",
    "# print len(Monte_coef)\n",
    "plt.hist(Monte_coef, bins=50)"
   ]
  },
  {
   "cell_type": "code",
   "execution_count": null,
   "metadata": {
    "collapsed": false
   },
   "outputs": [],
   "source": []
  }
 ],
 "metadata": {
  "kernelspec": {
   "display_name": "Python 2",
   "language": "python",
   "name": "python2"
  },
  "language_info": {
   "codemirror_mode": {
    "name": "ipython",
    "version": 2
   },
   "file_extension": ".py",
   "mimetype": "text/x-python",
   "name": "python",
   "nbconvert_exporter": "python",
   "pygments_lexer": "ipython2",
   "version": "2.7.10"
  }
 },
 "nbformat": 4,
 "nbformat_minor": 0
}
