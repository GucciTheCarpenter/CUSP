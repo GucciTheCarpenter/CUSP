{
 "cells": [
  {
   "cell_type": "code",
   "execution_count": 1,
   "metadata": {
    "collapsed": false
   },
   "outputs": [],
   "source": [
    "# import matplotlib\n",
    "from pylab import *\n",
    "import scipy\n",
    "from scipy import stats\n",
    "import matplotlib.pyplot as plt\n",
    "import numpy as np\n",
    "import pandas"
   ]
  },
  {
   "cell_type": "code",
   "execution_count": 2,
   "metadata": {
    "collapsed": false
   },
   "outputs": [],
   "source": [
    "%matplotlib inline"
   ]
  },
  {
   "cell_type": "markdown",
   "metadata": {},
   "source": [
    "## Problem 1"
   ]
  },
  {
   "cell_type": "code",
   "execution_count": 3,
   "metadata": {
    "collapsed": false
   },
   "outputs": [
    {
     "name": "stdout",
     "output_type": "stream",
     "text": [
      "[-0.87340083  0.24312559  0.02719607 -0.15373744 -0.75666647  0.53922431\n",
      " -0.17268141 -1.4880717  -2.15075943  1.35227606]\n",
      "10000\n",
      "1000000\n"
     ]
    }
   ],
   "source": [
    "# mean, variance, std\n",
    "\n",
    "P1_a = np.random.normal(0,1,10)\n",
    "print P1_a\n",
    "P1_b = np.random.normal(0,1,10000)\n",
    "print len(P1_b)\n",
    "P1_c = np.random.normal(0,1,1000000)\n",
    "print len(P1_c)"
   ]
  },
  {
   "cell_type": "code",
   "execution_count": 4,
   "metadata": {
    "collapsed": false
   },
   "outputs": [
    {
     "name": "stdout",
     "output_type": "stream",
     "text": [
      "Prob 1a, mean: -0.343349524633, var: 0.92293248662, std: 0.960693752775\n",
      "Prob 1b, mean: 0.00492328111709, var: 0.983126792969, std: 0.991527504898\n",
      "Prob 1c, mean: 0.000123447049823, var: 1.00128552808, std: 1.0006425576\n"
     ]
    }
   ],
   "source": [
    "print 'Prob 1a, mean: ' + str(np.mean(P1_a)) + ', var: ' + str(np.var(P1_a)) + ', std: ' + str(np.std(P1_a))\n",
    "print 'Prob 1b, mean: ' + str(np.mean(P1_b)) + ', var: ' + str(np.var(P1_b)) + ', std: ' + str(np.std(P1_b))\n",
    "print 'Prob 1c, mean: ' + str(np.mean(P1_c)) + ', var: ' + str(np.var(P1_c)) + ', std: ' + str(np.std(P1_c))"
   ]
  },
  {
   "cell_type": "markdown",
   "metadata": {},
   "source": [
    "##### Larger sample sizes appear to get us closer to anticipated number distributions. If this is the case, we as researchers should be mindful of the data sizes we are dealing with."
   ]
  },
  {
   "cell_type": "markdown",
   "metadata": {},
   "source": [
    "## Problem 2"
   ]
  },
  {
   "cell_type": "code",
   "execution_count": 5,
   "metadata": {
    "collapsed": false
   },
   "outputs": [],
   "source": [
    "y = [9, 1, 9, 8, 5, 5, 1, 1, 8, 3, 8, 5, 4, 9, 2, 1, 1, 6, 8, 9, 6, 0, 4, 6, 8, 3, 8, 4, 8, 2, 0, 2, 1, 9, 4, 4, 5, 6, 3, 2, 6, 7, 7, 4, 1, 5, 9, 2, 8, 9, 9, 2, 3, 6, 8, 4, 3, 2, 9, 9, 0, 4, 5, 9, 8, 5, 3, 5, 5, 5, 2, 5, 2, 5, 4, 3, 7, 4, 1, 1, 4, 6, 9, 1, 6, 7, 7, 9, 8, 5, 9, 6, 8, 3, 3, 3, 2, 2, 4, 6, 9, 9, 4, 5, 8, 0, 7, 2, 2, 6, 5, 1, 7, 9, 9, 9, 6, 4, 9, 6, 1, 9, 8, 5, 8, 1, 0, 6, 5, 7, 1, 1, 9, 8, 6, 3, 0, 7, 2, 7, 9, 7, 5, 5, 1, 1, 3, 7, 6, 3, 3, 0, 5, 3, 1, 1, 7, 2, 1, 0, 4, 8, 5, 3, 0, 6, 4, 1, 8, 6, 4, 7, 0, 2, 2, 3, 8, 0, 7, 4, 3, 8, 7, 8, 7, 5, 4, 1, 5, 1, 5, 8, 5, 6, 6, 9, 6, 9, 0, 5, 6, 0, 6, 6, 7, 1, 9, 9, 9, 0, 4, 0, 9, 5, 3, 9, 3, 0, 6, 7, 4, 8, 8, 6, 8, 9, 6, 5, 2, 4, 2, 5, 8, 7, 2, 3, 4, 4, 3, 2, 8, 6, 8, 3, 4, 3, 5, 5, 6, 7, 8, 0, 9, 0, 3, 7, 0, 1, 3, 6, 3, 9, 2, 4, 9, 9, 6, 6, 5, 6, 7, 8, 1, 6, 1, 1, 0, 8, 6, 9, 2, 8, 8, 2, 6, 8, 0, 4, 1, 0, 6, 9, 2, 5, 4, 3, 0, 1, 2, 7, 3, 0, 6, 6, 4, 1, 4, 0, 0, 9, 0, 9, 9, 0, 5, 6, 9, 1, 4, 9, 6, 3, 2, 3, 7, 2, 3, 8, 3, 7, 2, 5, 2, 5, 4, 9, 6, 1, 7, 8, 4, 3, 4, 0, 8, 9, 8, 1, 8, 0, 6, 0, 4, 9, 8, 9, 1, 9, 7, 9, 8, 1, 8, 4, 4, 8, 9, 7, 3, 9, 5, 1, 5, 9, 3, 8, 5, 4, 2, 8, 6, 4, 3, 1, 9, 9, 4, 5, 7, 5, 7, 8, 2, 9, 8, 3, 0, 4, 7, 7, 1, 6, 4, 6, 3, 3, 0, 4, 1, 1, 2, 0, 6, 8, 8, 0, 5, 1, 9, 2, 6, 0, 2, 1, 4, 5, 1, 4, 0, 5, 6, 3, 7, 2, 1, 5, 6, 4, 0, 0, 8, 4, 8, 5, 7, 4, 0, 4, 4, 4, 8, 1, 6, 5, 4, 8, 4, 5, 5, 5, 6, 3, 3, 5, 0, 4, 1, 5, 0, 9, 0, 5, 9, 6, 9, 7, 2, 4, 9, 6, 1, 3, 4, 8, 7, 6, 1, 1, 8, 5, 9, 7, 7, 7, 2, 3, 6, 0, 9, 3, 3, 3, 5, 5, 9, 1, 1, 7, 0, 7, 5, 6, 7, 7, 8, 7, 4, 5, 2, 4, 6, 2, 3, 7, 4, 6, 0, 2, 0, 0, 3, 3, 4, 2, 8, 2, 3, 0, 6, 6, 3, 1, 6, 9, 7, 6, 6, 3, 8, 3, 8, 2, 1, 6, 0, 2, 1, 5, 7, 5, 1, 1, 5, 5, 3, 2, 1, 6, 0, 5, 1, 8, 7, 4, 0, 6, 2, 0, 8, 4, 6, 6, 1, 0, 1, 6, 8, 5, 2, 7, 9, 5, 5, 3, 6, 0, 9, 3, 0, 6, 1, 0, 7, 9, 9, 1, 6, 0, 9, 4, 4, 2, 6, 7, 4, 5, 1, 8, 6, 1, 0, 4, 5, 4, 4, 3, 6, 1, 9, 1, 3, 6, 8, 4, 4, 3, 6, 3, 0, 4, 3, 2, 0, 3, 5, 0, 6, 5, 1, 1, 2, 5, 4, 3, 4, 2, 5, 7, 0, 3, 9, 9, 1, 8, 8, 1, 6, 4, 3, 1, 1, 9, 6, 5, 9, 2, 0, 5, 8, 6, 8, 1, 1, 2, 8, 0, 2, 2, 4, 9, 1, 5, 3, 8, 0, 2, 8, 2, 4, 6, 5, 5, 6, 4, 1, 0, 3, 6, 9, 4, 7, 3, 1, 1, 4, 0, 6, 7, 1, 9, 2, 3, 2, 5, 0, 4, 1, 0, 4, 9, 3, 9, 8, 0, 1, 9, 2, 9, 2, 9, 7, 7, 9, 4, 2, 3, 4, 6, 2, 8, 5, 0, 2, 7, 0, 3, 0, 2, 1, 7, 1, 4, 1, 9, 8, 6, 9, 8, 1, 2, 0, 1, 0, 9, 0, 5, 3, 0, 9, 0, 0, 0, 4, 0, 7, 6, 7, 5, 7, 3, 8, 8, 5, 1, 5, 9, 4, 5, 8, 2, 6, 0, 6, 5, 2, 0, 2, 9, 7, 6, 3, 6, 0, 5, 1, 5, 1, 4, 6, 6, 3, 9, 4, 3, 3, 2, 1, 0, 2, 2, 5, 8, 8, 2, 8, 0, 7, 7, 3, 6, 8, 8, 8, 8, 8, 6, 6, 5, 3, 4, 5, 7, 6, 3, 4, 8, 0, 8, 7, 0, 8, 1, 1, 9, 8, 2, 1, 1, 7, 6, 6, 7, 5, 7, 2, 5, 2, 6, 8, 0, 0, 2, 4, 8, 5, 7, 0, 9, 2, 1, 6, 8, 4, 9, 2, 9, 0, 1, 4, 5, 6, 7, 4, 7, 8, 9, 3, 7, 5, 4, 5, 2, 0, 2, 3, 0, 3, 7, 6, 7, 7, 9, 1, 7, 5, 7, 7, 5, 8, 7, 8, 6, 6, 2, 7, 4, 2, 9, 6, 9, 2, 9, 2, 5, 8, 6, 9, 1, 6, 3, 9, 9, 0, 9, 3, 3, 4, 5, 8, 5, 1, 2, 8, 7, 5, 2, 3, 0, 7, 2, 6, 2, 9, 0, 5, 5, 0, 1, 2, 4, 1, 4, 3, 3, 9, 7, 2, 4, 9, 3, 7, 8, 0, 7, 8, 6, 7, 4, 0, 7]\n",
    "# scipy.stats.describe(y)"
   ]
  },
  {
   "cell_type": "code",
   "execution_count": 6,
   "metadata": {
    "collapsed": false
   },
   "outputs": [],
   "source": [
    "x = [7, 0, 3, 8, 7, 1, 3, 4, 3, 8, 8, 8, 4, 4, 4, 3, 8, 7, 5, 1, 0, 8, 2, 7, 7, 1, 5, 4, 5, 8, 7, 5, 0, 5, 2, 3, 7, 3, 4, 4, 8, 8, 7, 6, 2, 8, 0, 3, 5, 2, 0, 8, 1, 8, 9, 8, 2, 1, 9, 9, 7, 9, 3, 1, 7, 7, 6, 7, 7, 7, 0, 6, 1, 8, 6, 8, 7, 3, 5, 2, 1, 5, 9, 3, 7, 3, 0, 2, 3, 8, 4, 1, 2, 3, 2, 0, 9, 1, 9, 7, 0, 6, 2, 0, 1, 1, 2, 9, 5, 9, 5, 4, 1, 8, 3, 6, 9, 1, 4, 0, 2, 4, 8, 6, 6, 7, 9, 7, 5, 8, 1, 0, 6, 6, 3, 7, 3, 9, 0, 9, 4, 8, 3, 9, 5, 4, 6, 9, 8, 9, 8, 2, 4, 7, 3, 7, 1, 2, 1, 8, 2, 7, 6, 5, 9, 5, 2, 2, 0, 1, 2, 8, 3, 7, 8, 5, 3, 4, 3, 5, 2, 6, 8, 3, 9, 0, 5, 9, 0, 8, 3, 5, 8, 4, 2, 3, 3, 3, 4, 3, 5, 2, 3, 2, 6, 7, 5, 6, 0, 5, 6, 2, 8, 7, 3, 7, 2, 3, 0, 1, 1, 6, 0, 6, 9, 5, 6, 8, 8, 7, 2, 5, 6, 4, 7, 5, 8, 5, 0, 5, 1, 2, 1, 3, 7, 6, 8, 1, 2, 7, 3, 4, 0, 4, 0, 1, 4, 8, 1, 7, 4, 2, 7, 5, 8, 3, 6, 2, 0, 2, 0, 4, 7, 6, 2, 7, 3, 8, 9, 2, 7, 5, 1, 5, 8, 0, 0, 0, 3, 8, 7, 1, 1, 6, 1, 9, 4, 5, 0, 1, 7, 8, 6, 2, 4, 7, 8, 2, 0, 8, 4, 9, 2, 6, 8, 7, 4, 7, 3, 7, 1, 0, 0, 5, 1, 5, 3, 0, 5, 4, 0, 2, 5, 1, 8, 4, 5, 9, 1, 1, 5, 0, 5, 4, 5, 8, 6, 5, 9, 0, 8, 4, 8, 6, 0, 9, 2, 6, 4, 8, 6, 6, 9, 6, 0, 5, 5, 6, 4, 1, 1, 3, 9, 9, 6, 6, 7, 9, 9, 6, 4, 8, 0, 0, 1, 6, 0, 3, 4, 1, 1, 7, 4, 5, 4, 3, 0, 0, 2, 2, 3, 5, 8, 1, 8, 4, 1, 5, 0, 8, 0, 4, 9, 0, 0, 7, 8, 8, 8, 2, 8, 4, 8, 4, 5, 0, 6, 5, 8, 3, 7, 6, 1, 3, 3, 3, 4, 9, 8, 9, 1, 8, 4, 5, 4, 7, 6, 2, 5, 2, 9, 4, 6, 7, 9, 3, 4, 2, 7, 3, 6, 7, 7, 9, 2, 8, 3, 6, 1, 5, 0, 0, 2, 3, 8, 0, 9, 6, 3, 9, 7, 7, 2, 2, 0, 1, 7, 9, 1, 9, 0, 1, 2, 7, 3, 4, 3, 8, 5, 7, 6, 4, 9, 7, 2, 1, 1, 2, 0, 0, 5, 0, 7, 5, 1, 7, 7, 5, 8, 6, 7, 8, 2, 8, 1, 5, 7, 7, 6, 8, 3, 3, 5, 0, 5, 1, 1, 6, 1, 8, 3, 2, 5, 8, 7, 0, 0, 1, 8, 3, 3, 5, 4, 0, 8, 9, 2, 0, 4, 3, 4, 1, 9, 8, 1, 7, 7, 0, 9, 5, 1, 7, 1, 3, 5, 6, 8, 1, 2, 9, 9, 3, 2, 5, 1, 4, 8, 6, 1, 1, 2, 8, 1, 4, 1, 8, 5, 0, 2, 7, 8, 8, 6, 2, 8, 2, 1, 4, 5, 1, 3, 5, 3, 2, 8, 6, 2, 9, 2, 0, 0, 7, 8, 7, 1, 2, 3, 2, 0, 1, 2, 1, 6, 7, 6, 4, 2, 6, 5, 3, 5, 3, 9, 7, 9, 2, 5, 1, 5, 1, 0, 6, 2, 9, 0, 0, 0, 4, 1, 9, 8, 4, 9, 1, 7, 6, 7, 4, 5, 5, 8, 7, 7, 5, 0, 3, 4, 0, 6, 6, 7, 8, 0, 6, 3, 8, 0, 5, 6, 0, 2, 2, 7, 5, 3, 7, 0, 5, 6, 3, 9, 8, 3, 1, 5, 3, 5, 8, 6, 9, 9, 8, 5, 5, 1, 2, 9, 0, 7, 0, 5, 3, 6, 1, 0, 8, 8, 8, 5, 1, 9, 8, 8, 4, 9, 4, 2, 3, 6, 0, 5, 3, 1, 4, 5, 2, 1, 8, 6, 9, 1, 2, 3, 1, 9, 2, 6, 5, 4, 1, 0, 4, 4, 0, 3, 3, 6, 1, 8, 5, 2, 1, 6, 4, 6, 9, 9, 4, 5, 4, 1, 6, 0, 8, 1, 9, 8, 0, 0, 3, 0, 5, 3, 9, 5, 8, 3, 7, 3, 2, 3, 2, 5, 9, 6, 8, 6, 9, 0, 2, 3, 0, 1, 0, 4, 8, 8, 9, 9, 3, 6, 8, 1, 1, 0, 7, 5, 3, 5, 9, 6, 5, 1, 4, 0, 3, 7, 6, 8, 3, 5, 6, 2, 4, 6, 3, 0, 3, 9, 6, 4, 8, 8, 8, 3, 4, 1, 4, 6, 6, 9, 5, 3, 7, 0, 9, 9, 2, 4, 7, 6, 5, 2, 9, 7, 1, 6, 1, 0, 6, 9, 2, 7, 8, 9, 3, 5, 6, 4, 4, 1, 9, 3, 0, 3, 1, 1, 8, 8, 7, 2, 4, 5, 5, 0, 3, 2, 5, 7, 2, 5, 1, 4, 4, 4, 5, 4, 5, 0, 0, 4, 0, 9, 1, 4, 2, 9, 4, 9, 6, 0, 2, 6, 5, 0, 5, 1, 9, 0, 4, 6, 0, 4, 5, 2, 3, 0, 2, 5, 0, 1, 3, 9, 2, 3, 2, 6, 1, 4, 8, 3, 2, 7, 4, 4, 7, 4, 4, 9, 7, 5, 8, 8, 6, 4, 1, 2, 2, 7, 7, 0, 3, 3, 1, 3, 9, 2, 6, 7, 7, 0, 3, 9, 3, 7, 5, 7, 3, 7, 2]\n",
    "# scipy.stats.describe(x)"
   ]
  },
  {
   "cell_type": "code",
   "execution_count": 7,
   "metadata": {
    "collapsed": false
   },
   "outputs": [],
   "source": [
    "Y = np.array(y)"
   ]
  },
  {
   "cell_type": "code",
   "execution_count": 8,
   "metadata": {
    "collapsed": false
   },
   "outputs": [],
   "source": [
    "X = np.array(x)"
   ]
  },
  {
   "cell_type": "code",
   "execution_count": 9,
   "metadata": {
    "collapsed": false
   },
   "outputs": [
    {
     "data": {
      "text/plain": [
       "(0, 10)"
      ]
     },
     "execution_count": 9,
     "metadata": {},
     "output_type": "execute_result"
    },
    {
     "data": {
      "image/png": "[encoded data removed]",
      "text/plain": [
       "<matplotlib.figure.Figure at 0xabcf4b4c>"
      ]
     },
     "metadata": {},
     "output_type": "display_data"
    }
   ],
   "source": [
    "fit = polyfit(x,y,1)\n",
    "fit_fn = poly1d(fit) # fit_fn is now a function which takes in x and returns an estimate for y\n",
    "\n",
    "m,b = polyfit(x,y,1)\n",
    "\n",
    "plot(x,y, 'yo', x, fit_fn(x), '--k')\n",
    "xlim(0, 10)\n",
    "ylim(0, 10)"
   ]
  },
  {
   "cell_type": "code",
   "execution_count": 10,
   "metadata": {
    "collapsed": false
   },
   "outputs": [
    {
     "name": "stdout",
     "output_type": "stream",
     "text": [
      "m = -0.0227578738066; and b = 4.63763531797\n"
     ]
    }
   ],
   "source": [
    "print 'm = ' + str(m) + '; and b = ' + str(b)"
   ]
  },
  {
   "cell_type": "code",
   "execution_count": 11,
   "metadata": {
    "collapsed": false
   },
   "outputs": [
    {
     "data": {
      "text/plain": [
       "(array(-0.8936205435369085), 0.37163257447100756)"
      ]
     },
     "execution_count": 11,
     "metadata": {},
     "output_type": "execute_result"
    }
   ],
   "source": [
    "# t-statistic\n",
    "scipy.stats.ttest_ind(X, Y)"
   ]
  },
  {
   "cell_type": "markdown",
   "metadata": {},
   "source": [
    "##### If the above numbers are to be relied on,  the t-statistic being below 2 suggests that it is NOT significant."
   ]
  },
  {
   "cell_type": "markdown",
   "metadata": {},
   "source": [
    "## Problem 3"
   ]
  },
  {
   "cell_type": "code",
   "execution_count": 12,
   "metadata": {
    "collapsed": false
   },
   "outputs": [],
   "source": [
    "# Coca-Cola stock from 01-Jan-2000 to 31-Dec-2009\n",
    "df_KO = pandas.read_csv('table_KO.csv', index_col=False, header=0)"
   ]
  },
  {
   "cell_type": "code",
   "execution_count": 13,
   "metadata": {
    "collapsed": false
   },
   "outputs": [
    {
     "data": {
      "text/html": [
       "<div style=\"max-height:1000px;max-width:1500px;overflow:auto;\">\n",
       "<table border=\"1\" class=\"dataframe\">\n",
       "  <thead>\n",
       "    <tr style=\"text-align: right;\">\n",
       "      <th></th>\n",
       "      <th>Date</th>\n",
       "      <th>Open</th>\n",
       "      <th>High</th>\n",
       "      <th>Low</th>\n",
       "      <th>Close</th>\n",
       "      <th>Volume</th>\n",
       "      <th>Adj Close</th>\n",
       "    </tr>\n",
       "  </thead>\n",
       "  <tbody>\n",
       "    <tr>\n",
       "      <th>0</th>\n",
       "      <td> 2009-12-31</td>\n",
       "      <td> 57.58</td>\n",
       "      <td> 57.75</td>\n",
       "      <td> 56.93</td>\n",
       "      <td> 57.00</td>\n",
       "      <td> 10848800</td>\n",
       "      <td> 24.82</td>\n",
       "    </tr>\n",
       "    <tr>\n",
       "      <th>1</th>\n",
       "      <td> 2009-12-30</td>\n",
       "      <td> 57.74</td>\n",
       "      <td> 57.90</td>\n",
       "      <td> 57.48</td>\n",
       "      <td> 57.68</td>\n",
       "      <td>  9625200</td>\n",
       "      <td> 25.12</td>\n",
       "    </tr>\n",
       "    <tr>\n",
       "      <th>2</th>\n",
       "      <td> 2009-12-29</td>\n",
       "      <td> 57.45</td>\n",
       "      <td> 57.97</td>\n",
       "      <td> 57.45</td>\n",
       "      <td> 57.74</td>\n",
       "      <td>  9551000</td>\n",
       "      <td> 25.14</td>\n",
       "    </tr>\n",
       "    <tr>\n",
       "      <th>3</th>\n",
       "      <td> 2009-12-28</td>\n",
       "      <td> 57.41</td>\n",
       "      <td> 57.58</td>\n",
       "      <td> 57.28</td>\n",
       "      <td> 57.44</td>\n",
       "      <td>  7679600</td>\n",
       "      <td> 25.01</td>\n",
       "    </tr>\n",
       "    <tr>\n",
       "      <th>4</th>\n",
       "      <td> 2009-12-24</td>\n",
       "      <td> 57.49</td>\n",
       "      <td> 57.51</td>\n",
       "      <td> 57.05</td>\n",
       "      <td> 57.44</td>\n",
       "      <td>  5814200</td>\n",
       "      <td> 25.01</td>\n",
       "    </tr>\n",
       "  </tbody>\n",
       "</table>\n",
       "</div>"
      ],
      "text/plain": [
       "         Date   Open   High    Low  Close    Volume  Adj Close\n",
       "0  2009-12-31  57.58  57.75  56.93  57.00  10848800      24.82\n",
       "1  2009-12-30  57.74  57.90  57.48  57.68   9625200      25.12\n",
       "2  2009-12-29  57.45  57.97  57.45  57.74   9551000      25.14\n",
       "3  2009-12-28  57.41  57.58  57.28  57.44   7679600      25.01\n",
       "4  2009-12-24  57.49  57.51  57.05  57.44   5814200      25.01"
      ]
     },
     "execution_count": 13,
     "metadata": {},
     "output_type": "execute_result"
    }
   ],
   "source": [
    "df_KO.head()"
   ]
  },
  {
   "cell_type": "code",
   "execution_count": 14,
   "metadata": {
    "collapsed": false
   },
   "outputs": [],
   "source": [
    "df_KO_close = df_KO[['Date', 'Close']]"
   ]
  },
  {
   "cell_type": "code",
   "execution_count": 15,
   "metadata": {
    "collapsed": false
   },
   "outputs": [
    {
     "data": {
      "text/html": [
       "<div style=\"max-height:1000px;max-width:1500px;overflow:auto;\">\n",
       "<table border=\"1\" class=\"dataframe\">\n",
       "  <thead>\n",
       "    <tr style=\"text-align: right;\">\n",
       "      <th></th>\n",
       "      <th>Date</th>\n",
       "      <th>Close</th>\n",
       "    </tr>\n",
       "  </thead>\n",
       "  <tbody>\n",
       "    <tr>\n",
       "      <th>0</th>\n",
       "      <td> 2009-12-31</td>\n",
       "      <td> 57.00</td>\n",
       "    </tr>\n",
       "    <tr>\n",
       "      <th>1</th>\n",
       "      <td> 2009-12-30</td>\n",
       "      <td> 57.68</td>\n",
       "    </tr>\n",
       "    <tr>\n",
       "      <th>2</th>\n",
       "      <td> 2009-12-29</td>\n",
       "      <td> 57.74</td>\n",
       "    </tr>\n",
       "    <tr>\n",
       "      <th>3</th>\n",
       "      <td> 2009-12-28</td>\n",
       "      <td> 57.44</td>\n",
       "    </tr>\n",
       "    <tr>\n",
       "      <th>4</th>\n",
       "      <td> 2009-12-24</td>\n",
       "      <td> 57.44</td>\n",
       "    </tr>\n",
       "  </tbody>\n",
       "</table>\n",
       "</div>"
      ],
      "text/plain": [
       "         Date  Close\n",
       "0  2009-12-31  57.00\n",
       "1  2009-12-30  57.68\n",
       "2  2009-12-29  57.74\n",
       "3  2009-12-28  57.44\n",
       "4  2009-12-24  57.44"
      ]
     },
     "execution_count": 15,
     "metadata": {},
     "output_type": "execute_result"
    }
   ],
   "source": [
    "df_KO_close.head()"
   ]
  },
  {
   "cell_type": "code",
   "execution_count": 16,
   "metadata": {
    "collapsed": false
   },
   "outputs": [],
   "source": [
    "returns_KO = log(df_KO['Close']/df_KO['Close'].shift(1))"
   ]
  },
  {
   "cell_type": "code",
   "execution_count": 17,
   "metadata": {
    "collapsed": false
   },
   "outputs": [
    {
     "data": {
      "text/plain": [
       "0          NaN\n",
       "1     0.011859\n",
       "2     0.001040\n",
       "3    -0.005209\n",
       "4     0.000000\n",
       "5    -0.002615\n",
       "6    -0.000349\n",
       "7    -0.001573\n",
       "8    -0.004557\n",
       "9     0.001054\n",
       "10    0.024958\n",
       "11    0.010896\n",
       "12   -0.000339\n",
       "13    0.001185\n",
       "14   -0.009007\n",
       "...\n",
       "2500   -0.015295\n",
       "2501    0.030361\n",
       "2502   -0.015065\n",
       "2503   -0.009609\n",
       "2504   -0.003839\n",
       "2505   -0.062530\n",
       "2506   -0.008222\n",
       "2507    0.015403\n",
       "2508   -0.011283\n",
       "2509   -0.033442\n",
       "2510    0.032455\n",
       "2511   -0.063716\n",
       "2512   -0.001053\n",
       "2513   -0.008820\n",
       "2514   -0.001064\n",
       "Name: Close, Length: 2515, dtype: float64"
      ]
     },
     "execution_count": 17,
     "metadata": {},
     "output_type": "execute_result"
    }
   ],
   "source": [
    "returns_KO"
   ]
  },
  {
   "cell_type": "code",
   "execution_count": 18,
   "metadata": {
    "collapsed": false
   },
   "outputs": [
    {
     "data": {
      "text/plain": [
       "0         NaN\n",
       "1    0.011859\n",
       "2    0.001040\n",
       "3   -0.005209\n",
       "4    0.000000\n",
       "Name: Close, dtype: float64"
      ]
     },
     "execution_count": 18,
     "metadata": {},
     "output_type": "execute_result"
    }
   ],
   "source": [
    "df_KO_log = returns_KO\n",
    "df_KO_log.head()"
   ]
  },
  {
   "cell_type": "code",
   "execution_count": 19,
   "metadata": {
    "collapsed": false
   },
   "outputs": [
    {
     "data": {
      "text/plain": [
       "<matplotlib.axes.AxesSubplot at 0xab52080c>"
      ]
     },
     "execution_count": 19,
     "metadata": {},
     "output_type": "execute_result"
    },
    {
     "data": {
      "image/png": "[encoded data removed]",
      "text/plain": [
       "<matplotlib.figure.Figure at 0xab5211cc>"
      ]
     },
     "metadata": {},
     "output_type": "display_data"
    }
   ],
   "source": [
    "plt.figure()\n",
    "\n",
    "df_KO_log.diff().hist(bins=100)"
   ]
  },
  {
   "cell_type": "code",
   "execution_count": 20,
   "metadata": {
    "collapsed": false
   },
   "outputs": [
    {
     "data": {
      "text/html": [
       "<div style=\"max-height:1000px;max-width:1500px;overflow:auto;\">\n",
       "<table border=\"1\" class=\"dataframe\">\n",
       "  <thead>\n",
       "    <tr style=\"text-align: right;\">\n",
       "      <th></th>\n",
       "      <th>Date</th>\n",
       "      <th>Open</th>\n",
       "      <th>High</th>\n",
       "      <th>Low</th>\n",
       "      <th>Close</th>\n",
       "      <th>Volume</th>\n",
       "      <th>Adj Close</th>\n",
       "    </tr>\n",
       "  </thead>\n",
       "  <tbody>\n",
       "    <tr>\n",
       "      <th>0</th>\n",
       "      <td> 2009-12-31</td>\n",
       "      <td> 1126.60</td>\n",
       "      <td> 1127.64</td>\n",
       "      <td> 1114.81</td>\n",
       "      <td> 1115.10</td>\n",
       "      <td> 2076990000</td>\n",
       "      <td> 1115.10</td>\n",
       "    </tr>\n",
       "    <tr>\n",
       "      <th>1</th>\n",
       "      <td> 2009-12-30</td>\n",
       "      <td> 1125.53</td>\n",
       "      <td> 1126.42</td>\n",
       "      <td> 1121.94</td>\n",
       "      <td> 1126.42</td>\n",
       "      <td> 2277300000</td>\n",
       "      <td> 1126.42</td>\n",
       "    </tr>\n",
       "    <tr>\n",
       "      <th>2</th>\n",
       "      <td> 2009-12-29</td>\n",
       "      <td> 1128.55</td>\n",
       "      <td> 1130.38</td>\n",
       "      <td> 1126.08</td>\n",
       "      <td> 1126.20</td>\n",
       "      <td> 2491020000</td>\n",
       "      <td> 1126.20</td>\n",
       "    </tr>\n",
       "    <tr>\n",
       "      <th>3</th>\n",
       "      <td> 2009-12-28</td>\n",
       "      <td> 1127.53</td>\n",
       "      <td> 1130.38</td>\n",
       "      <td> 1123.51</td>\n",
       "      <td> 1127.78</td>\n",
       "      <td> 2716400000</td>\n",
       "      <td> 1127.78</td>\n",
       "    </tr>\n",
       "    <tr>\n",
       "      <th>4</th>\n",
       "      <td> 2009-12-24</td>\n",
       "      <td> 1121.08</td>\n",
       "      <td> 1126.48</td>\n",
       "      <td> 1121.08</td>\n",
       "      <td> 1126.48</td>\n",
       "      <td> 1267710000</td>\n",
       "      <td> 1126.48</td>\n",
       "    </tr>\n",
       "  </tbody>\n",
       "</table>\n",
       "</div>"
      ],
      "text/plain": [
       "         Date     Open     High      Low    Close      Volume  Adj Close\n",
       "0  2009-12-31  1126.60  1127.64  1114.81  1115.10  2076990000    1115.10\n",
       "1  2009-12-30  1125.53  1126.42  1121.94  1126.42  2277300000    1126.42\n",
       "2  2009-12-29  1128.55  1130.38  1126.08  1126.20  2491020000    1126.20\n",
       "3  2009-12-28  1127.53  1130.38  1123.51  1127.78  2716400000    1127.78\n",
       "4  2009-12-24  1121.08  1126.48  1121.08  1126.48  1267710000    1126.48"
      ]
     },
     "execution_count": 20,
     "metadata": {},
     "output_type": "execute_result"
    }
   ],
   "source": [
    "df_SP = pandas.read_csv('table_SnP.csv', index_col=False, header=0)\n",
    "df_SP.head()"
   ]
  },
  {
   "cell_type": "code",
   "execution_count": 21,
   "metadata": {
    "collapsed": false
   },
   "outputs": [
    {
     "data": {
      "text/plain": [
       "0         NaN\n",
       "1    2.983748\n",
       "2    2.971694\n",
       "3    2.972056\n",
       "4    2.976112\n",
       "Name: Close, dtype: float64"
      ]
     },
     "execution_count": 21,
     "metadata": {},
     "output_type": "execute_result"
    }
   ],
   "source": [
    "# S&P from 01-Jan-2000 to 31-Dec-2009\n",
    "returns_SP = log(df_SP['Close']/df_KO['Close'].shift(1))\n",
    "df_SP_log = returns_SP\n",
    "df_SP_log.head()"
   ]
  },
  {
   "cell_type": "code",
   "execution_count": 22,
   "metadata": {
    "collapsed": false
   },
   "outputs": [
    {
     "data": {
      "text/plain": [
       "<matplotlib.text.Text at 0xab30258c>"
      ]
     },
     "execution_count": 22,
     "metadata": {},
     "output_type": "execute_result"
    },
    {
     "data": {
      "image/png": "[encoded data removed]",
      "text/plain": [
       "<matplotlib.figure.Figure at 0xab33a08c>"
      ]
     },
     "metadata": {},
     "output_type": "display_data"
    }
   ],
   "source": [
    "plt.scatter(returns_KO, returns_SP)\n",
    "plt.xlabel(\"Coca-Cola Log Returns\")\n",
    "plt.ylabel(\"S&P 500 Log Returns\")"
   ]
  },
  {
   "cell_type": "markdown",
   "metadata": {},
   "source": [
    "## Problem 4"
   ]
  },
  {
   "cell_type": "code",
   "execution_count": 23,
   "metadata": {
    "collapsed": false
   },
   "outputs": [
    {
     "data": {
      "text/html": [
       "<div style=\"max-height:1000px;max-width:1500px;overflow:auto;\">\n",
       "<table border=\"1\" class=\"dataframe\">\n",
       "  <thead>\n",
       "    <tr style=\"text-align: right;\">\n",
       "      <th></th>\n",
       "      <th>d</th>\n",
       "      <th>x1</th>\n",
       "    </tr>\n",
       "  </thead>\n",
       "  <tbody>\n",
       "    <tr>\n",
       "      <th>0</th>\n",
       "      <td> 1</td>\n",
       "      <td> 0.805740</td>\n",
       "    </tr>\n",
       "    <tr>\n",
       "      <th>1</th>\n",
       "      <td> 0</td>\n",
       "      <td> 0.660912</td>\n",
       "    </tr>\n",
       "    <tr>\n",
       "      <th>2</th>\n",
       "      <td> 0</td>\n",
       "      <td> 0.549764</td>\n",
       "    </tr>\n",
       "    <tr>\n",
       "      <th>3</th>\n",
       "      <td> 1</td>\n",
       "      <td> 0.716941</td>\n",
       "    </tr>\n",
       "    <tr>\n",
       "      <th>4</th>\n",
       "      <td> 1</td>\n",
       "      <td> 0.254751</td>\n",
       "    </tr>\n",
       "  </tbody>\n",
       "</table>\n",
       "</div>"
      ],
      "text/plain": [
       "   d        x1\n",
       "0  1  0.805740\n",
       "1  0  0.660912\n",
       "2  0  0.549764\n",
       "3  1  0.716941\n",
       "4  1  0.254751"
      ]
     },
     "execution_count": 23,
     "metadata": {},
     "output_type": "execute_result"
    }
   ],
   "source": [
    "# import Stata data to data frame\n",
    "df_train = pandas.io.stata.read_stata('train.dta', convert_dates=True)\n",
    "df_train.head()"
   ]
  },
  {
   "cell_type": "code",
   "execution_count": 24,
   "metadata": {
    "collapsed": false
   },
   "outputs": [
    {
     "data": {
      "text/html": [
       "<div style=\"max-height:1000px;max-width:1500px;overflow:auto;\">\n",
       "<table border=\"1\" class=\"dataframe\">\n",
       "  <thead>\n",
       "    <tr style=\"text-align: right;\">\n",
       "      <th></th>\n",
       "      <th>d</th>\n",
       "      <th>x1</th>\n",
       "    </tr>\n",
       "  </thead>\n",
       "  <tbody>\n",
       "    <tr>\n",
       "      <th>count</th>\n",
       "      <td> 1000.000000</td>\n",
       "      <td> 1000.000000</td>\n",
       "    </tr>\n",
       "    <tr>\n",
       "      <th>mean</th>\n",
       "      <td>    0.477000</td>\n",
       "      <td>    0.487376</td>\n",
       "    </tr>\n",
       "    <tr>\n",
       "      <th>std</th>\n",
       "      <td>    0.499721</td>\n",
       "      <td>    0.283345</td>\n",
       "    </tr>\n",
       "    <tr>\n",
       "      <th>min</th>\n",
       "      <td>    0.000000</td>\n",
       "      <td>    0.000286</td>\n",
       "    </tr>\n",
       "    <tr>\n",
       "      <th>25%</th>\n",
       "      <td>    0.000000</td>\n",
       "      <td>    0.249382</td>\n",
       "    </tr>\n",
       "    <tr>\n",
       "      <th>50%</th>\n",
       "      <td>    0.000000</td>\n",
       "      <td>    0.484645</td>\n",
       "    </tr>\n",
       "    <tr>\n",
       "      <th>75%</th>\n",
       "      <td>    1.000000</td>\n",
       "      <td>    0.732494</td>\n",
       "    </tr>\n",
       "    <tr>\n",
       "      <th>max</th>\n",
       "      <td>    1.000000</td>\n",
       "      <td>    0.999006</td>\n",
       "    </tr>\n",
       "  </tbody>\n",
       "</table>\n",
       "</div>"
      ],
      "text/plain": [
       "                 d           x1\n",
       "count  1000.000000  1000.000000\n",
       "mean      0.477000     0.487376\n",
       "std       0.499721     0.283345\n",
       "min       0.000000     0.000286\n",
       "25%       0.000000     0.249382\n",
       "50%       0.000000     0.484645\n",
       "75%       1.000000     0.732494\n",
       "max       1.000000     0.999006"
      ]
     },
     "execution_count": 24,
     "metadata": {},
     "output_type": "execute_result"
    }
   ],
   "source": [
    "# summary statistics\n",
    "df_train.describe()"
   ]
  },
  {
   "cell_type": "code",
   "execution_count": 25,
   "metadata": {
    "collapsed": false
   },
   "outputs": [],
   "source": [
    "import statsmodels.api as sm"
   ]
  },
  {
   "cell_type": "code",
   "execution_count": 26,
   "metadata": {
    "collapsed": false
   },
   "outputs": [
    {
     "name": "stdout",
     "output_type": "stream",
     "text": [
      "                            OLS Regression Results                            \n",
      "==============================================================================\n",
      "Dep. Variable:                      d   R-squared:                       0.650\n",
      "Model:                            OLS   Adj. R-squared:                  0.650\n",
      "Method:                 Least Squares   F-statistic:                     1857.\n",
      "Date:                Mon, 22 Sep 2014   Prob (F-statistic):          4.06e-230\n",
      "Time:                        13:42:24   Log-Likelihood:                -523.57\n",
      "No. Observations:                1000   AIC:                             1049.\n",
      "Df Residuals:                     999   BIC:                             1054.\n",
      "Df Model:                           1                                         \n",
      "==============================================================================\n",
      "                 coef    std err          t      P>|t|      [95.0% Conf. Int.]\n",
      "------------------------------------------------------------------------------\n",
      "x1             0.9880      0.023     43.096      0.000         0.943     1.033\n",
      "==============================================================================\n",
      "Omnibus:                       40.081   Durbin-Watson:                   2.010\n",
      "Prob(Omnibus):                  0.000   Jarque-Bera (JB):               18.167\n",
      "Skew:                           0.063   Prob(JB):                     0.000114\n",
      "Kurtosis:                       2.352   Cond. No.                         1.00\n",
      "==============================================================================\n"
     ]
    }
   ],
   "source": [
    "model = sm.OLS(df_train['d'], df_train['x1'])\n",
    "results = model.fit()\n",
    "print (results.summary())"
   ]
  },
  {
   "cell_type": "code",
   "execution_count": 27,
   "metadata": {
    "collapsed": false
   },
   "outputs": [
    {
     "name": "stdout",
     "output_type": "stream",
     "text": [
      "Is this email spam: False\n",
      "Email score: 0.6422\n"
     ]
    }
   ],
   "source": [
    "# email with attribute .65\n",
    "coef = .988\n",
    "attr = .65\n",
    "print 'Is this email spam: ' + str(coef * attr > 1)\n",
    "print 'Email score: ' + str(coef * attr)"
   ]
  },
  {
   "cell_type": "code",
   "execution_count": 28,
   "metadata": {
    "collapsed": false
   },
   "outputs": [
    {
     "name": "stdout",
     "output_type": "stream",
     "text": [
      "Is this email spam: False\n",
      "Email score: 0.97812\n"
     ]
    }
   ],
   "source": [
    "# email with attribute .99\n",
    "coef = .988\n",
    "attr = .99\n",
    "print 'Is this email spam: ' + str(coef * attr > 1)\n",
    "print 'Email score: ' + str(coef * attr)"
   ]
  },
  {
   "cell_type": "markdown",
   "metadata": {},
   "source": [
    "## Problem 5"
   ]
  },
  {
   "cell_type": "code",
   "execution_count": 29,
   "metadata": {
    "collapsed": false
   },
   "outputs": [],
   "source": [
    "# a. & b.\n",
    "x = np.random.normal(0,1,1000)\n",
    "e = np.random.normal(0,1,1000)\n",
    "\n",
    "y = 1 + (2*x) + e"
   ]
  },
  {
   "cell_type": "code",
   "execution_count": 30,
   "metadata": {
    "collapsed": false
   },
   "outputs": [
    {
     "name": "stdout",
     "output_type": "stream",
     "text": [
      "m = 2.04419063313; and b = 1.02416002472\n"
     ]
    },
    {
     "data": {
      "image/png": "[encoded data removed]",
      "text/plain": [
       "<matplotlib.figure.Figure at 0xabcf4a6c>"
      ]
     },
     "metadata": {},
     "output_type": "display_data"
    }
   ],
   "source": [
    "# c.\n",
    "fit = polyfit(x,y,1)\n",
    "fit_fn = poly1d(fit) # fit_fn is now a function which takes in x and returns an estimate for y\n",
    "\n",
    "m,b = polyfit(x,y,1)\n",
    "\n",
    "plot(x,y, 'yo', x, fit_fn(x), '--k')\n",
    "xlim(0, 10)\n",
    "ylim(0, 10)\n",
    "\n",
    "print 'm = ' + str(m) + '; and b = ' + str(b)"
   ]
  },
  {
   "cell_type": "markdown",
   "metadata": {},
   "source": [
    "###### # d. Run 1 - m = 1.992339691; and b = 0.991466404149 Run 2 - m = 2.01771249895; and b = 1.07010052813 Run 3 - m = 2.02635898958; and b = 1.06106186358 Run 4 - m = 1.97595607339; and b = 0.979437753131 Run 5 - m = 1.98448068906; and b = 0.985688112919"
   ]
  },
  {
   "cell_type": "markdown",
   "metadata": {},
   "source": [
    "###### # e. Imagining the above runs were repeated 1,000 times the histogram of beta-1 would bunch tightly around the value 2 (due to the proposed DGP); this seems inevitable, since the slope for any one run is already an average/best fit of the normal distributions of 'x' and 'e'.  It appears to me that outliers will have a tough time in moving the needle, first in any one run and most especially in multiple runs (plotted out on a histogram)."
   ]
  },
  {
   "cell_type": "markdown",
   "metadata": {},
   "source": [
    "##### # f. Having a 1,000+ runs and subsequent histograms could help inform likelihoods of expected beta-1 estimates.  With multiple runs we can see the distribution of outcomes and provide a range of exp(beta-1) that can provide greater confidence in projections (since we are capturing/covering the most likely results)."
   ]
  }
 ],
 "metadata": {
  "kernelspec": {
   "display_name": "Python 2",
   "language": "python",
   "name": "python2"
  },
  "language_info": {
   "codemirror_mode": {
    "name": "ipython",
    "version": 2
   },
   "file_extension": ".py",
   "mimetype": "text/x-python",
   "name": "python",
   "nbconvert_exporter": "python",
   "pygments_lexer": "ipython2",
   "version": "2.7.10"
  }
 },
 "nbformat": 4,
 "nbformat_minor": 0
}
